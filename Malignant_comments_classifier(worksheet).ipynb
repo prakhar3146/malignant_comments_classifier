{
 "cells": [
  {
   "cell_type": "code",
   "execution_count": 1,
   "metadata": {},
   "outputs": [],
   "source": [
    "#!pip install wordcloud"
   ]
  },
  {
   "cell_type": "code",
   "execution_count": 2,
   "metadata": {},
   "outputs": [],
   "source": [
    "import pandas as pd \n",
    "import numpy as np\n",
    "import matplotlib.pyplot as plt\n",
    "import seaborn as sns\n",
    "import scipy.stats\n",
    "import warnings\n",
    "warnings.filterwarnings('ignore')\n",
    "pd.pandas.set_option('display.max_columns',None)\n"
   ]
  },
  {
   "cell_type": "code",
   "execution_count": 3,
   "metadata": {
    "scrolled": true
   },
   "outputs": [
    {
     "data": {
      "text/html": [
       "<div>\n",
       "<style scoped>\n",
       "    .dataframe tbody tr th:only-of-type {\n",
       "        vertical-align: middle;\n",
       "    }\n",
       "\n",
       "    .dataframe tbody tr th {\n",
       "        vertical-align: top;\n",
       "    }\n",
       "\n",
       "    .dataframe thead th {\n",
       "        text-align: right;\n",
       "    }\n",
       "</style>\n",
       "<table border=\"1\" class=\"dataframe\">\n",
       "  <thead>\n",
       "    <tr style=\"text-align: right;\">\n",
       "      <th></th>\n",
       "      <th>id</th>\n",
       "      <th>comment_text</th>\n",
       "      <th>malignant</th>\n",
       "      <th>highly_malignant</th>\n",
       "      <th>rude</th>\n",
       "      <th>threat</th>\n",
       "      <th>abuse</th>\n",
       "      <th>loathe</th>\n",
       "    </tr>\n",
       "  </thead>\n",
       "  <tbody>\n",
       "    <tr>\n",
       "      <th>0</th>\n",
       "      <td>0000997932d777bf</td>\n",
       "      <td>Explanation\\nWhy the edits made under my usern...</td>\n",
       "      <td>0.0</td>\n",
       "      <td>0.0</td>\n",
       "      <td>0.0</td>\n",
       "      <td>0.0</td>\n",
       "      <td>0.0</td>\n",
       "      <td>0.0</td>\n",
       "    </tr>\n",
       "    <tr>\n",
       "      <th>1</th>\n",
       "      <td>000103f0d9cfb60f</td>\n",
       "      <td>D'aww! He matches this background colour I'm s...</td>\n",
       "      <td>0.0</td>\n",
       "      <td>0.0</td>\n",
       "      <td>0.0</td>\n",
       "      <td>0.0</td>\n",
       "      <td>0.0</td>\n",
       "      <td>0.0</td>\n",
       "    </tr>\n",
       "    <tr>\n",
       "      <th>2</th>\n",
       "      <td>000113f07ec002fd</td>\n",
       "      <td>Hey man, I'm really not trying to edit war. It...</td>\n",
       "      <td>0.0</td>\n",
       "      <td>0.0</td>\n",
       "      <td>0.0</td>\n",
       "      <td>0.0</td>\n",
       "      <td>0.0</td>\n",
       "      <td>0.0</td>\n",
       "    </tr>\n",
       "    <tr>\n",
       "      <th>3</th>\n",
       "      <td>0001b41b1c6bb37e</td>\n",
       "      <td>\"\\nMore\\nI can't make any real suggestions on ...</td>\n",
       "      <td>0.0</td>\n",
       "      <td>0.0</td>\n",
       "      <td>0.0</td>\n",
       "      <td>0.0</td>\n",
       "      <td>0.0</td>\n",
       "      <td>0.0</td>\n",
       "    </tr>\n",
       "    <tr>\n",
       "      <th>4</th>\n",
       "      <td>0001d958c54c6e35</td>\n",
       "      <td>You, sir, are my hero. Any chance you remember...</td>\n",
       "      <td>0.0</td>\n",
       "      <td>0.0</td>\n",
       "      <td>0.0</td>\n",
       "      <td>0.0</td>\n",
       "      <td>0.0</td>\n",
       "      <td>0.0</td>\n",
       "    </tr>\n",
       "    <tr>\n",
       "      <th>...</th>\n",
       "      <td>...</td>\n",
       "      <td>...</td>\n",
       "      <td>...</td>\n",
       "      <td>...</td>\n",
       "      <td>...</td>\n",
       "      <td>...</td>\n",
       "      <td>...</td>\n",
       "      <td>...</td>\n",
       "    </tr>\n",
       "    <tr>\n",
       "      <th>159616</th>\n",
       "      <td>ffe987279560d7ff</td>\n",
       "      <td>\":::::And for the second time of asking, when ...</td>\n",
       "      <td>0.0</td>\n",
       "      <td>0.0</td>\n",
       "      <td>0.0</td>\n",
       "      <td>0.0</td>\n",
       "      <td>0.0</td>\n",
       "      <td>0.0</td>\n",
       "    </tr>\n",
       "    <tr>\n",
       "      <th>159617</th>\n",
       "      <td>ffea4adeee384e90</td>\n",
       "      <td>You should be ashamed of yourself \\n\\nThat is ...</td>\n",
       "      <td>0.0</td>\n",
       "      <td>0.0</td>\n",
       "      <td>0.0</td>\n",
       "      <td>0.0</td>\n",
       "      <td>0.0</td>\n",
       "      <td>0.0</td>\n",
       "    </tr>\n",
       "    <tr>\n",
       "      <th>159618</th>\n",
       "      <td>ffee36eab5c267c9</td>\n",
       "      <td>Spitzer \\n\\nUmm, theres no actual article for ...</td>\n",
       "      <td>0.0</td>\n",
       "      <td>0.0</td>\n",
       "      <td>0.0</td>\n",
       "      <td>0.0</td>\n",
       "      <td>0.0</td>\n",
       "      <td>0.0</td>\n",
       "    </tr>\n",
       "    <tr>\n",
       "      <th>159619</th>\n",
       "      <td>fff125370e4aaaf3</td>\n",
       "      <td>And it looks like it was actually you who put ...</td>\n",
       "      <td>0.0</td>\n",
       "      <td>0.0</td>\n",
       "      <td>0.0</td>\n",
       "      <td>0.0</td>\n",
       "      <td>0.0</td>\n",
       "      <td>0.0</td>\n",
       "    </tr>\n",
       "    <tr>\n",
       "      <th>159620</th>\n",
       "      <td>fff46fc426af1f9a</td>\n",
       "      <td>\"\\nAnd ... I really don't think you understand...</td>\n",
       "      <td>0.0</td>\n",
       "      <td>0.0</td>\n",
       "      <td>0.0</td>\n",
       "      <td>0.0</td>\n",
       "      <td>0.0</td>\n",
       "      <td>0.0</td>\n",
       "    </tr>\n",
       "  </tbody>\n",
       "</table>\n",
       "<p>159621 rows × 8 columns</p>\n",
       "</div>"
      ],
      "text/plain": [
       "                      id                                       comment_text  \\\n",
       "0       0000997932d777bf  Explanation\\nWhy the edits made under my usern...   \n",
       "1       000103f0d9cfb60f  D'aww! He matches this background colour I'm s...   \n",
       "2       000113f07ec002fd  Hey man, I'm really not trying to edit war. It...   \n",
       "3       0001b41b1c6bb37e  \"\\nMore\\nI can't make any real suggestions on ...   \n",
       "4       0001d958c54c6e35  You, sir, are my hero. Any chance you remember...   \n",
       "...                  ...                                                ...   \n",
       "159616  ffe987279560d7ff  \":::::And for the second time of asking, when ...   \n",
       "159617  ffea4adeee384e90  You should be ashamed of yourself \\n\\nThat is ...   \n",
       "159618  ffee36eab5c267c9  Spitzer \\n\\nUmm, theres no actual article for ...   \n",
       "159619  fff125370e4aaaf3  And it looks like it was actually you who put ...   \n",
       "159620  fff46fc426af1f9a  \"\\nAnd ... I really don't think you understand...   \n",
       "\n",
       "        malignant  highly_malignant  rude  threat  abuse  loathe  \n",
       "0             0.0               0.0   0.0     0.0    0.0     0.0  \n",
       "1             0.0               0.0   0.0     0.0    0.0     0.0  \n",
       "2             0.0               0.0   0.0     0.0    0.0     0.0  \n",
       "3             0.0               0.0   0.0     0.0    0.0     0.0  \n",
       "4             0.0               0.0   0.0     0.0    0.0     0.0  \n",
       "...           ...               ...   ...     ...    ...     ...  \n",
       "159616        0.0               0.0   0.0     0.0    0.0     0.0  \n",
       "159617        0.0               0.0   0.0     0.0    0.0     0.0  \n",
       "159618        0.0               0.0   0.0     0.0    0.0     0.0  \n",
       "159619        0.0               0.0   0.0     0.0    0.0     0.0  \n",
       "159620        0.0               0.0   0.0     0.0    0.0     0.0  \n",
       "\n",
       "[159621 rows x 8 columns]"
      ]
     },
     "execution_count": 3,
     "metadata": {},
     "output_type": "execute_result"
    }
   ],
   "source": [
    "df=pd.read_csv('malignant_comments.csv',sep=\"\\t\")\n",
    "df"
   ]
  },
  {
   "cell_type": "markdown",
   "metadata": {},
   "source": [
    "EXPLORATORY DATA ANALYSIS"
   ]
  },
  {
   "cell_type": "markdown",
   "metadata": {},
   "source": [
    "Analysing the dataset value counts using countplot"
   ]
  },
  {
   "cell_type": "code",
   "execution_count": 4,
   "metadata": {},
   "outputs": [
    {
     "name": "stdout",
     "output_type": "stream",
     "text": [
      "0.0    144239\n",
      "1.0     15289\n",
      "Name: malignant, dtype: int64\n"
     ]
    },
    {
     "data": {
      "image/png": "[encoded data removed]",
      "text/plain": [
       "<Figure size 432x288 with 1 Axes>"
      ]
     },
     "metadata": {
      "needs_background": "light"
     },
     "output_type": "display_data"
    }
   ],
   "source": [
    "ax=sns.countplot('malignant',data=df)\n",
    "print(df['malignant'].value_counts())"
   ]
  },
  {
   "cell_type": "markdown",
   "metadata": {},
   "source": [
    "The target variable(malignant) is highly imbalanced with the 'NO'(0.0) class having 1,44,239(90% approx.) instances and the 'YES'(1.0) having only 15,289 instances."
   ]
  },
  {
   "cell_type": "code",
   "execution_count": 5,
   "metadata": {},
   "outputs": [
    {
     "name": "stdout",
     "output_type": "stream",
     "text": [
      "0.0    157932\n",
      "1.0      1596\n",
      "Name: highly_malignant, dtype: int64\n"
     ]
    },
    {
     "data": {
      "image/png": "[encoded data removed]",
      "text/plain": [
       "<Figure size 432x288 with 1 Axes>"
      ]
     },
     "metadata": {
      "needs_background": "light"
     },
     "output_type": "display_data"
    }
   ],
   "source": [
    "ax=sns.countplot('highly_malignant',data=df)\n",
    "print(df['highly_malignant'].value_counts())"
   ]
  },
  {
   "cell_type": "markdown",
   "metadata": {},
   "source": [
    "The 'highly_malignant' feature also has an imbalanced distribution with 0.0('NO') class constituting almost 99%(1,57,932) of the feature's data whereas 1.0('YES') category has only 1,596."
   ]
  },
  {
   "cell_type": "code",
   "execution_count": 6,
   "metadata": {},
   "outputs": [
    {
     "name": "stdout",
     "output_type": "stream",
     "text": [
      "0.0    151084\n",
      "1.0      8444\n",
      "Name: rude, dtype: int64\n"
     ]
    },
    {
     "data": {
      "image/png": "[encoded data removed]",
      "text/plain": [
       "<Figure size 432x288 with 1 Axes>"
      ]
     },
     "metadata": {
      "needs_background": "light"
     },
     "output_type": "display_data"
    }
   ],
   "source": [
    "ax=sns.countplot('rude',data=df)\n",
    "print(df['rude'].value_counts())"
   ]
  },
  {
   "cell_type": "markdown",
   "metadata": {},
   "source": [
    "The rude feature is also imbalanced with 0.0('NO') category constituting 1,51,084(95% approx.) and \"YES\" category constituting 8,444(5% approx)."
   ]
  },
  {
   "cell_type": "code",
   "execution_count": 7,
   "metadata": {},
   "outputs": [
    {
     "name": "stdout",
     "output_type": "stream",
     "text": [
      "0.0    159050\n",
      "1.0       478\n",
      "Name: threat, dtype: int64\n"
     ]
    },
    {
     "data": {
      "image/png": "[encoded data removed]",
      "text/plain": [
       "<Figure size 432x288 with 1 Axes>"
      ]
     },
     "metadata": {
      "needs_background": "light"
     },
     "output_type": "display_data"
    }
   ],
   "source": [
    "ax=sns.countplot('threat',data=df)\n",
    "print(df['threat'].value_counts())"
   ]
  },
  {
   "cell_type": "markdown",
   "metadata": {},
   "source": [
    "The threat feature was highly imbalanced with 0.0('NO') category constituting 1,59,050(99.5% approx.) of the data and 1.0('YES') having only 478 instances."
   ]
  },
  {
   "cell_type": "code",
   "execution_count": 8,
   "metadata": {},
   "outputs": [
    {
     "name": "stdout",
     "output_type": "stream",
     "text": [
      "0.0    151653\n",
      "1.0      7875\n",
      "Name: abuse, dtype: int64\n"
     ]
    },
    {
     "data": {
      "image/png": "[encoded data removed]",
      "text/plain": [
       "<Figure size 432x288 with 1 Axes>"
      ]
     },
     "metadata": {
      "needs_background": "light"
     },
     "output_type": "display_data"
    }
   ],
   "source": [
    "ax=sns.countplot('abuse',data=df)\n",
    "print(df['abuse'].value_counts())"
   ]
  },
  {
   "cell_type": "markdown",
   "metadata": {},
   "source": [
    "The abuse feature was also highly imbalanced with 0.0('NO') category constituting 1,51,653(95% approx.) and 1.0('YES') constituting 7875(5% approx) of the data."
   ]
  },
  {
   "cell_type": "code",
   "execution_count": 9,
   "metadata": {},
   "outputs": [
    {
     "name": "stdout",
     "output_type": "stream",
     "text": [
      "0.0    158104\n",
      "1.0      1405\n",
      "Name: loathe, dtype: int64\n"
     ]
    },
    {
     "data": {
      "image/png": "[encoded data removed]",
      "text/plain": [
       "<Figure size 432x288 with 1 Axes>"
      ]
     },
     "metadata": {
      "needs_background": "light"
     },
     "output_type": "display_data"
    }
   ],
   "source": [
    "ax=sns.countplot('loathe',data=df)\n",
    "print(df['loathe'].value_counts())"
   ]
  },
  {
   "cell_type": "markdown",
   "metadata": {},
   "source": [
    "The loathe feature is highly imbalanced with 0.0('NO') category having 1,58,104(99% approx.) and 1.0('YES') has only 1,405 instances."
   ]
  },
  {
   "cell_type": "markdown",
   "metadata": {},
   "source": [
    "Checking for missing values"
   ]
  },
  {
   "cell_type": "code",
   "execution_count": 10,
   "metadata": {},
   "outputs": [
    {
     "data": {
      "text/plain": [
       "id                    0\n",
       "comment_text         74\n",
       "malignant            93\n",
       "highly_malignant     93\n",
       "rude                 93\n",
       "threat               93\n",
       "abuse                93\n",
       "loathe              112\n",
       "dtype: int64"
      ]
     },
     "execution_count": 10,
     "metadata": {},
     "output_type": "execute_result"
    }
   ],
   "source": [
    "df.isnull().sum()"
   ]
  },
  {
   "cell_type": "markdown",
   "metadata": {},
   "source": [
    "Dropping the rows having missing values as the number of rows having them are negligible when compared to the dataset,hence not performing any replace operations as it may mislead the model."
   ]
  },
  {
   "cell_type": "code",
   "execution_count": 11,
   "metadata": {},
   "outputs": [
    {
     "data": {
      "text/plain": [
       "id                  0\n",
       "comment_text        0\n",
       "malignant           0\n",
       "highly_malignant    0\n",
       "rude                0\n",
       "threat              0\n",
       "abuse               0\n",
       "loathe              0\n",
       "dtype: int64"
      ]
     },
     "execution_count": 11,
     "metadata": {},
     "output_type": "execute_result"
    }
   ],
   "source": [
    "df_new=df.dropna()\n",
    "df_new.isnull().sum()"
   ]
  },
  {
   "cell_type": "code",
   "execution_count": 12,
   "metadata": {},
   "outputs": [
    {
     "data": {
      "text/plain": [
       "(159509, 8)"
      ]
     },
     "execution_count": 12,
     "metadata": {},
     "output_type": "execute_result"
    }
   ],
   "source": [
    "df_new.shape"
   ]
  },
  {
   "cell_type": "markdown",
   "metadata": {},
   "source": [
    "Now comparing the independent features with the target features"
   ]
  },
  {
   "cell_type": "code",
   "execution_count": 13,
   "metadata": {},
   "outputs": [
    {
     "data": {
      "text/plain": [
       "<AxesSubplot:xlabel='highly_malignant', ylabel='malignant'>"
      ]
     },
     "execution_count": 13,
     "metadata": {},
     "output_type": "execute_result"
    },
    {
     "data": {
      "image/png": "[encoded data removed]",
      "text/plain": [
       "<Figure size 432x288 with 1 Axes>"
      ]
     },
     "metadata": {
      "needs_background": "light"
     },
     "output_type": "display_data"
    }
   ],
   "source": [
    "sns.barplot(x='highly_malignant',y='malignant',data=df_new)"
   ]
  },
  {
   "cell_type": "code",
   "execution_count": 14,
   "metadata": {},
   "outputs": [
    {
     "data": {
      "text/plain": [
       "malignant\n",
       "0.0    144220\n",
       "1.0     15289\n",
       "Name: highly_malignant, dtype: int64"
      ]
     },
     "execution_count": 14,
     "metadata": {},
     "output_type": "execute_result"
    }
   ],
   "source": [
    "#df_grp=['highly_malignant','malignant']\n",
    "df_group=df_new.groupby('malignant')['highly_malignant'].count()\n",
    "df_group"
   ]
  },
  {
   "cell_type": "code",
   "execution_count": 15,
   "metadata": {},
   "outputs": [],
   "source": [
    "count1=count2=count3=count4=0\n",
    "for i in range(0,len(df)):\n",
    "    if(df['malignant'][i]==1.0):\n",
    "        if(df['malignant'][i]==1.0)and(df['highly_malignant'][i]==1.0):\n",
    "            count1=count1+1\n",
    "        elif(df['malignant'][i]==1.0)and(df['highly_malignant'][i]!=1.0):\n",
    "            count2=count2+1\n",
    "        elif(df['malignant'][i]!=1.0) and(df['highly_malignant'][i]==1.0):\n",
    "            count3=count3+1\n",
    "    else:\n",
    "        count4=count4+1"
   ]
  },
  {
   "cell_type": "code",
   "execution_count": 16,
   "metadata": {},
   "outputs": [
    {
     "name": "stdout",
     "output_type": "stream",
     "text": [
      "highly_malignant aswell as  malignant 1594 0.9986154703954994 %\n",
      "just malignant 13695 8.57969816001654 %\n",
      "highly malignant but not malignant 0 0.0 %\n",
      "other 144332 90.42168636958796 %\n"
     ]
    }
   ],
   "source": [
    "print(\"highly_malignant aswell as  malignant\",count1,count1/159621*100,'%')\n",
    "print(\"just malignant\",count2,count2/159621*100,'%')\n",
    "print(\"highly malignant but not malignant\",count3,count3/159621*100,'%')\n",
    "print(\"other\",count4,count4/159621*100,'%')"
   ]
  },
  {
   "cell_type": "code",
   "execution_count": 17,
   "metadata": {},
   "outputs": [
    {
     "data": {
      "text/html": [
       "<div>\n",
       "<style scoped>\n",
       "    .dataframe tbody tr th:only-of-type {\n",
       "        vertical-align: middle;\n",
       "    }\n",
       "\n",
       "    .dataframe tbody tr th {\n",
       "        vertical-align: top;\n",
       "    }\n",
       "\n",
       "    .dataframe thead th {\n",
       "        text-align: right;\n",
       "    }\n",
       "</style>\n",
       "<table border=\"1\" class=\"dataframe\">\n",
       "  <thead>\n",
       "    <tr style=\"text-align: right;\">\n",
       "      <th>highly_malignant</th>\n",
       "      <th>0.0</th>\n",
       "      <th>1.0</th>\n",
       "    </tr>\n",
       "    <tr>\n",
       "      <th>malignant</th>\n",
       "      <th></th>\n",
       "      <th></th>\n",
       "    </tr>\n",
       "  </thead>\n",
       "  <tbody>\n",
       "    <tr>\n",
       "      <th>0.0</th>\n",
       "      <td>144220</td>\n",
       "      <td>0</td>\n",
       "    </tr>\n",
       "    <tr>\n",
       "      <th>1.0</th>\n",
       "      <td>13695</td>\n",
       "      <td>1594</td>\n",
       "    </tr>\n",
       "  </tbody>\n",
       "</table>\n",
       "</div>"
      ],
      "text/plain": [
       "highly_malignant     0.0   1.0\n",
       "malignant                     \n",
       "0.0               144220     0\n",
       "1.0                13695  1594"
      ]
     },
     "execution_count": 17,
     "metadata": {},
     "output_type": "execute_result"
    }
   ],
   "source": [
    "#Create the Data Frame\n",
    "LoanData=pd.DataFrame(data=df_new,columns=['malignant','highly_malignant'])\n",
    "#print(LoanData.head())3\n",
    "#################################################\n",
    "# Cross tabulation between GENDER and APPROVE_LOAN\n",
    "CrosstabResult=pd.crosstab(index=LoanData['malignant'],columns=LoanData['highly_malignant'])\n",
    "CrosstabResult\n",
    " \n"
   ]
  },
  {
   "cell_type": "code",
   "execution_count": 18,
   "metadata": {},
   "outputs": [
    {
     "data": {
      "text/plain": [
       "<AxesSubplot:xlabel='malignant'>"
      ]
     },
     "execution_count": 18,
     "metadata": {},
     "output_type": "execute_result"
    },
    {
     "data": {
      "image/png": "[encoded data removed]",
      "text/plain": [
       "<Figure size 432x288 with 1 Axes>"
      ]
     },
     "metadata": {
      "needs_background": "light"
     },
     "output_type": "display_data"
    }
   ],
   "source": [
    "# Grouped bar chart between malignant and highly malignant\n",
    "%matplotlib inline \n",
    "CrosstabResult.plot.bar()"
   ]
  },
  {
   "cell_type": "markdown",
   "metadata": {},
   "source": [
    "OBSEVATION:\n",
    "    1)Out of 15,289 malignant comments,1594 comments(10.4%) were highly malignant.\n",
    "    2)All the comments that were not malignant were also not highly_malignant.\n",
    "    3)13,695 comments out of 15,289 malignant(1.0) comments were not highly malignant."
   ]
  },
  {
   "cell_type": "markdown",
   "metadata": {},
   "source": [
    "MALIGNANT VS RUDE"
   ]
  },
  {
   "cell_type": "code",
   "execution_count": 19,
   "metadata": {},
   "outputs": [
    {
     "data": {
      "text/html": [
       "<div>\n",
       "<style scoped>\n",
       "    .dataframe tbody tr th:only-of-type {\n",
       "        vertical-align: middle;\n",
       "    }\n",
       "\n",
       "    .dataframe tbody tr th {\n",
       "        vertical-align: top;\n",
       "    }\n",
       "\n",
       "    .dataframe thead th {\n",
       "        text-align: right;\n",
       "    }\n",
       "</style>\n",
       "<table border=\"1\" class=\"dataframe\">\n",
       "  <thead>\n",
       "    <tr style=\"text-align: right;\">\n",
       "      <th>rude</th>\n",
       "      <th>0.0</th>\n",
       "      <th>1.0</th>\n",
       "    </tr>\n",
       "    <tr>\n",
       "      <th>malignant</th>\n",
       "      <th></th>\n",
       "      <th></th>\n",
       "    </tr>\n",
       "  </thead>\n",
       "  <tbody>\n",
       "    <tr>\n",
       "      <th>0.0</th>\n",
       "      <td>143698</td>\n",
       "      <td>522</td>\n",
       "    </tr>\n",
       "    <tr>\n",
       "      <th>1.0</th>\n",
       "      <td>7367</td>\n",
       "      <td>7922</td>\n",
       "    </tr>\n",
       "  </tbody>\n",
       "</table>\n",
       "</div>"
      ],
      "text/plain": [
       "rude          0.0   1.0\n",
       "malignant              \n",
       "0.0        143698   522\n",
       "1.0          7367  7922"
      ]
     },
     "execution_count": 19,
     "metadata": {},
     "output_type": "execute_result"
    }
   ],
   "source": [
    "#Create the Data Frame\n",
    "LoanData=pd.DataFrame(data=df_new,columns=['malignant','rude'])\n",
    "#print(LoanData.head())\n",
    "#################################################\n",
    "# Cross tabulation between Rude and malignant\n",
    "CrosstabResult=pd.crosstab(index=LoanData['malignant'],columns=LoanData['rude'])\n",
    "CrosstabResult\n",
    " \n"
   ]
  },
  {
   "cell_type": "code",
   "execution_count": 20,
   "metadata": {},
   "outputs": [
    {
     "data": {
      "text/plain": [
       "<AxesSubplot:xlabel='malignant'>"
      ]
     },
     "execution_count": 20,
     "metadata": {},
     "output_type": "execute_result"
    },
    {
     "data": {
      "image/png": "[encoded data removed]",
      "text/plain": [
       "<Figure size 432x288 with 1 Axes>"
      ]
     },
     "metadata": {
      "needs_background": "light"
     },
     "output_type": "display_data"
    }
   ],
   "source": [
    "%matplotlib inline \n",
    "CrosstabResult.plot.bar()"
   ]
  },
  {
   "cell_type": "markdown",
   "metadata": {},
   "source": [
    "OBSERVATIONS:\n",
    "    1)7,922 comments were rude and malignant\n",
    "    2)7637 comments were malignant but not rude\n",
    "    3)522 comments were rude but not malignant\n",
    "    4)1,43,698 comments were neither rude nor malignant."
   ]
  },
  {
   "cell_type": "markdown",
   "metadata": {},
   "source": [
    "MALIGNANT VS THREAT"
   ]
  },
  {
   "cell_type": "code",
   "execution_count": 21,
   "metadata": {},
   "outputs": [
    {
     "data": {
      "text/html": [
       "<div>\n",
       "<style scoped>\n",
       "    .dataframe tbody tr th:only-of-type {\n",
       "        vertical-align: middle;\n",
       "    }\n",
       "\n",
       "    .dataframe tbody tr th {\n",
       "        vertical-align: top;\n",
       "    }\n",
       "\n",
       "    .dataframe thead th {\n",
       "        text-align: right;\n",
       "    }\n",
       "</style>\n",
       "<table border=\"1\" class=\"dataframe\">\n",
       "  <thead>\n",
       "    <tr style=\"text-align: right;\">\n",
       "      <th>threat</th>\n",
       "      <th>0.0</th>\n",
       "      <th>1.0</th>\n",
       "    </tr>\n",
       "    <tr>\n",
       "      <th>malignant</th>\n",
       "      <th></th>\n",
       "      <th></th>\n",
       "    </tr>\n",
       "  </thead>\n",
       "  <tbody>\n",
       "    <tr>\n",
       "      <th>0.0</th>\n",
       "      <td>144191</td>\n",
       "      <td>29</td>\n",
       "    </tr>\n",
       "    <tr>\n",
       "      <th>1.0</th>\n",
       "      <td>14840</td>\n",
       "      <td>449</td>\n",
       "    </tr>\n",
       "  </tbody>\n",
       "</table>\n",
       "</div>"
      ],
      "text/plain": [
       "threat        0.0  1.0\n",
       "malignant             \n",
       "0.0        144191   29\n",
       "1.0         14840  449"
      ]
     },
     "execution_count": 21,
     "metadata": {},
     "output_type": "execute_result"
    }
   ],
   "source": [
    "#Create the Data Frame\n",
    "LoanData=pd.DataFrame(data=df_new,columns=['malignant','threat'])\n",
    "#print(LoanData.head())\n",
    "#################################################\n",
    "# Cross tabulation between threat and malignant\n",
    "CrosstabResult=pd.crosstab(index=LoanData['malignant'],columns=LoanData['threat'])\n",
    "CrosstabResult\n",
    " \n"
   ]
  },
  {
   "cell_type": "markdown",
   "metadata": {},
   "source": [
    "OBSERVATIONS:\n",
    "    1)14,840 comments were malignant but not threatning.\n",
    "    2)449 comments were malignant aswell as threatning.\n",
    "    3)29 comments were threatning but not malignant.\n",
    "    4)1,44,191 comments were neither malignant nor threatning."
   ]
  },
  {
   "cell_type": "markdown",
   "metadata": {},
   "source": [
    "MALIGNANT VS ABUSE"
   ]
  },
  {
   "cell_type": "code",
   "execution_count": 22,
   "metadata": {},
   "outputs": [
    {
     "data": {
      "text/html": [
       "<div>\n",
       "<style scoped>\n",
       "    .dataframe tbody tr th:only-of-type {\n",
       "        vertical-align: middle;\n",
       "    }\n",
       "\n",
       "    .dataframe tbody tr th {\n",
       "        vertical-align: top;\n",
       "    }\n",
       "\n",
       "    .dataframe thead th {\n",
       "        text-align: right;\n",
       "    }\n",
       "</style>\n",
       "<table border=\"1\" class=\"dataframe\">\n",
       "  <thead>\n",
       "    <tr style=\"text-align: right;\">\n",
       "      <th>abuse</th>\n",
       "      <th>0.0</th>\n",
       "      <th>1.0</th>\n",
       "    </tr>\n",
       "    <tr>\n",
       "      <th>malignant</th>\n",
       "      <th></th>\n",
       "      <th></th>\n",
       "    </tr>\n",
       "  </thead>\n",
       "  <tbody>\n",
       "    <tr>\n",
       "      <th>0.0</th>\n",
       "      <td>143687</td>\n",
       "      <td>533</td>\n",
       "    </tr>\n",
       "    <tr>\n",
       "      <th>1.0</th>\n",
       "      <td>7947</td>\n",
       "      <td>7342</td>\n",
       "    </tr>\n",
       "  </tbody>\n",
       "</table>\n",
       "</div>"
      ],
      "text/plain": [
       "abuse         0.0   1.0\n",
       "malignant              \n",
       "0.0        143687   533\n",
       "1.0          7947  7342"
      ]
     },
     "execution_count": 22,
     "metadata": {},
     "output_type": "execute_result"
    }
   ],
   "source": [
    "#Create the Data Frame\n",
    "LoanData=pd.DataFrame(data=df_new,columns=['malignant','abuse'])\n",
    "#print(LoanData.head())\n",
    "#################################################\n",
    "# Cross tabulation between abuse and malignant\n",
    "CrosstabResult=pd.crosstab(index=LoanData['malignant'],columns=LoanData['abuse'])\n",
    "CrosstabResult\n",
    " \n"
   ]
  },
  {
   "cell_type": "markdown",
   "metadata": {},
   "source": [
    "OBSERVATIONS:\n",
    "    1)7,342 comments were malignant as well as abuse.\n",
    "    2)7,947 comments were malignant but not abuse.\n",
    "    3)533 comments were abuse but not malignant.\n",
    "    4)1,43,687 comments were neither malignant nor abuse."
   ]
  },
  {
   "cell_type": "markdown",
   "metadata": {},
   "source": [
    "MALIGNANT VS LOATHE"
   ]
  },
  {
   "cell_type": "code",
   "execution_count": 23,
   "metadata": {},
   "outputs": [
    {
     "data": {
      "text/html": [
       "<div>\n",
       "<style scoped>\n",
       "    .dataframe tbody tr th:only-of-type {\n",
       "        vertical-align: middle;\n",
       "    }\n",
       "\n",
       "    .dataframe tbody tr th {\n",
       "        vertical-align: top;\n",
       "    }\n",
       "\n",
       "    .dataframe thead th {\n",
       "        text-align: right;\n",
       "    }\n",
       "</style>\n",
       "<table border=\"1\" class=\"dataframe\">\n",
       "  <thead>\n",
       "    <tr style=\"text-align: right;\">\n",
       "      <th>loathe</th>\n",
       "      <th>0.0</th>\n",
       "      <th>1.0</th>\n",
       "    </tr>\n",
       "    <tr>\n",
       "      <th>malignant</th>\n",
       "      <th></th>\n",
       "      <th></th>\n",
       "    </tr>\n",
       "  </thead>\n",
       "  <tbody>\n",
       "    <tr>\n",
       "      <th>0.0</th>\n",
       "      <td>144117</td>\n",
       "      <td>103</td>\n",
       "    </tr>\n",
       "    <tr>\n",
       "      <th>1.0</th>\n",
       "      <td>13987</td>\n",
       "      <td>1302</td>\n",
       "    </tr>\n",
       "  </tbody>\n",
       "</table>\n",
       "</div>"
      ],
      "text/plain": [
       "loathe        0.0   1.0\n",
       "malignant              \n",
       "0.0        144117   103\n",
       "1.0         13987  1302"
      ]
     },
     "execution_count": 23,
     "metadata": {},
     "output_type": "execute_result"
    }
   ],
   "source": [
    "#Create the Data Frame\n",
    "LoanData=pd.DataFrame(data=df_new,columns=['malignant','loathe'])\n",
    "#print(LoanData.head())\n",
    "#################################################\n",
    "# Cross tabulation between loathe and malignant\n",
    "CrosstabResult=pd.crosstab(index=LoanData['malignant'],columns=LoanData['loathe'])\n",
    "CrosstabResult\n",
    " \n"
   ]
  },
  {
   "cell_type": "markdown",
   "metadata": {},
   "source": [
    "OBSERVATIONS:\n",
    "    1)1,302 comments were malignant and loathe\n",
    "    2)13,987 comments were malignant but not loathe\n",
    "    3)103 comments were loathe but not malignant\n",
    "    4)1,44,117 comments were neither malignant nor loathe."
   ]
  },
  {
   "cell_type": "markdown",
   "metadata": {},
   "source": [
    "USING WORDCLOUD TO HIGHLIGHT THE MOST FREQUENTLY USED WORDS IN EACH OF THE TARGET FEATURES"
   ]
  },
  {
   "cell_type": "code",
   "execution_count": 24,
   "metadata": {},
   "outputs": [],
   "source": [
    "from wordcloud import WordCloud"
   ]
  },
  {
   "cell_type": "code",
   "execution_count": 25,
   "metadata": {},
   "outputs": [],
   "source": [
    "spams=df_new['comment_text'][df_new['malignant']==1]"
   ]
  },
  {
   "cell_type": "code",
   "execution_count": 26,
   "metadata": {},
   "outputs": [],
   "source": [
    "spam_cloud=WordCloud(width=700,height=500,background_color='white',max_words=20).generate(''.join(spams))"
   ]
  },
  {
   "cell_type": "code",
   "execution_count": 27,
   "metadata": {},
   "outputs": [
    {
     "data": {
      "image/png": "[encoded data removed]",
      "text/plain": [
       "<Figure size 360x576 with 1 Axes>"
      ]
     },
     "metadata": {},
     "output_type": "display_data"
    }
   ],
   "source": [
    "plt.figure(figsize=(5,8),facecolor='r')\n",
    "plt.imshow(spam_cloud)\n",
    "plt.axis('off')\n",
    "plt.tight_layout(pad=0)\n",
    "plt.show()"
   ]
  },
  {
   "cell_type": "code",
   "execution_count": 28,
   "metadata": {},
   "outputs": [],
   "source": [
    "#For 'Highly_Malignant' label"
   ]
  },
  {
   "cell_type": "code",
   "execution_count": 29,
   "metadata": {},
   "outputs": [
    {
     "data": {
      "text/plain": [
       "<wordcloud.wordcloud.WordCloud at 0x28985be0670>"
      ]
     },
     "execution_count": 29,
     "metadata": {},
     "output_type": "execute_result"
    }
   ],
   "source": [
    "spams=df_new['comment_text'][df_new['highly_malignant']==1]\n",
    "spam_cloud=WordCloud(width=700,height=500,background_color='white',max_words=20).generate(''.join(spams))\n",
    "spam_cloud"
   ]
  },
  {
   "cell_type": "code",
   "execution_count": 30,
   "metadata": {},
   "outputs": [
    {
     "data": {
      "image/png": "[encoded data removed]",
      "text/plain": [
       "<Figure size 360x576 with 1 Axes>"
      ]
     },
     "metadata": {},
     "output_type": "display_data"
    }
   ],
   "source": [
    "plt.figure(figsize=(5,8),facecolor='r')\n",
    "plt.imshow(spam_cloud)\n",
    "plt.axis('off')\n",
    "plt.tight_layout(pad=0)\n",
    "plt.show()"
   ]
  },
  {
   "cell_type": "code",
   "execution_count": 31,
   "metadata": {},
   "outputs": [
    {
     "data": {
      "image/png": "[encoded data removed]",
      "text/plain": [
       "<Figure size 432x576 with 1 Axes>"
      ]
     },
     "metadata": {},
     "output_type": "display_data"
    }
   ],
   "source": [
    "#For 'Loathe' label\n",
    "spams=df_new['comment_text'][df_new['loathe']==1]\n",
    "spam_cloud=WordCloud(width=700,height=500,background_color='white',max_words=20).generate(''.join(spams))\n",
    "spam_cloud\n",
    "plt.figure(figsize=(6,8),facecolor='r')\n",
    "plt.imshow(spam_cloud)\n",
    "plt.axis('off')\n",
    "plt.tight_layout(pad=0)\n",
    "plt.show()"
   ]
  },
  {
   "cell_type": "code",
   "execution_count": 32,
   "metadata": {},
   "outputs": [
    {
     "data": {
      "image/png": "[encoded data removed]",
      "text/plain": [
       "<Figure size 432x576 with 1 Axes>"
      ]
     },
     "metadata": {},
     "output_type": "display_data"
    }
   ],
   "source": [
    "#for 'Rude' label\n",
    "spams=df_new['comment_text'][df_new['rude']==1]\n",
    "spam_cloud=WordCloud(width=700,height=500,background_color='white',max_words=20).generate(''.join(spams))\n",
    "plt.figure(figsize=(6,8),facecolor='r')\n",
    "plt.imshow(spam_cloud)\n",
    "plt.axis('off')\n",
    "plt.tight_layout(pad=0)\n",
    "plt.show()"
   ]
  },
  {
   "cell_type": "code",
   "execution_count": 33,
   "metadata": {},
   "outputs": [
    {
     "data": {
      "image/png": "[encoded data removed]",
      "text/plain": [
       "<Figure size 432x576 with 1 Axes>"
      ]
     },
     "metadata": {},
     "output_type": "display_data"
    }
   ],
   "source": [
    "#for 'Threat' label\n",
    "spams=df_new['comment_text'][df_new['threat']==1]\n",
    "spam_cloud=WordCloud(width=700,height=500,background_color='white',max_words=20).generate(''.join(spams))\n",
    "plt.figure(figsize=(6,8),facecolor='r')\n",
    "plt.imshow(spam_cloud)\n",
    "plt.axis('off')\n",
    "plt.tight_layout(pad=0)\n",
    "plt.show()"
   ]
  },
  {
   "cell_type": "code",
   "execution_count": 34,
   "metadata": {},
   "outputs": [
    {
     "data": {
      "text/plain": [
       "malignant           15289.0\n",
       "highly_malignant     1594.0\n",
       "rude                 8444.0\n",
       "threat                478.0\n",
       "abuse                7875.0\n",
       "loathe               1405.0\n",
       "dtype: float64"
      ]
     },
     "execution_count": 34,
     "metadata": {},
     "output_type": "execute_result"
    }
   ],
   "source": [
    "#creating a subset of the dataframe by taking all the columns except id\n",
    "df_sub=df_new.iloc[:,2:].sum()\n",
    "df_sub"
   ]
  },
  {
   "cell_type": "markdown",
   "metadata": {},
   "source": [
    "CLEANING THE TEXT DATA(removing stopwords,symbols,numbers etc) FOR PREPROCESSING"
   ]
  },
  {
   "cell_type": "code",
   "execution_count": 35,
   "metadata": {},
   "outputs": [
    {
     "data": {
      "text/plain": [
       "\"Rex Mundi \\n\\nI've created a stub on Rex Mundi at Rex Mundi High School.  Only thing I know about it is that both my Aunt Donna and Bob Griese went there.  Please add anything you might know about it.\\n\\nBTW, my dad was a Panther; I live in Princeton myself.\""
      ]
     },
     "execution_count": 35,
     "metadata": {},
     "output_type": "execute_result"
    }
   ],
   "source": [
    "df_new['comment_text'][1000]"
   ]
  },
  {
   "cell_type": "code",
   "execution_count": 36,
   "metadata": {},
   "outputs": [
    {
     "name": "stderr",
     "output_type": "stream",
     "text": [
      "[nltk_data] Downloading package punkt to\n",
      "[nltk_data]     C:\\Users\\HP\\AppData\\Roaming\\nltk_data...\n",
      "[nltk_data]   Package punkt is already up-to-date!\n"
     ]
    }
   ],
   "source": [
    "# Import relevant packages\n",
    "import matplotlib.pyplot as plt\n",
    "import nltk\n",
    "import numpy as np\n",
    "import re \n",
    "import pandas as pd\n",
    "import string\n",
    "import seaborn as sns\n",
    "from nltk.tokenize import word_tokenize\n",
    "import nltk\n",
    "nltk.download('punkt')\n",
    "from nltk.corpus import stopwords  # Remove useless words\n",
    "from nltk.stem.lancaster import LancasterStemmer  # Convert words to base form; aggressive\n",
    "\n",
    "# Import packages that help us to create document-term matrix\n",
    "from sklearn.feature_extraction.text import CountVectorizer, TfidfVectorizer"
   ]
  },
  {
   "cell_type": "code",
   "execution_count": 37,
   "metadata": {},
   "outputs": [],
   "source": [
    "df_new['comment_text']=df_new['comment_text'].astype(str)"
   ]
  },
  {
   "cell_type": "code",
   "execution_count": 38,
   "metadata": {},
   "outputs": [],
   "source": [
    "alpha=lambda x:re.sub(r\"\\[[0-9]*\\]\",' ',x)"
   ]
  },
  {
   "cell_type": "code",
   "execution_count": 39,
   "metadata": {},
   "outputs": [],
   "source": [
    "alpha2=lambda x:re.sub(r'\\s+',' ',x)"
   ]
  },
  {
   "cell_type": "code",
   "execution_count": 40,
   "metadata": {},
   "outputs": [],
   "source": [
    "alpha3=lambda x:x.lower()"
   ]
  },
  {
   "cell_type": "code",
   "execution_count": 41,
   "metadata": {},
   "outputs": [],
   "source": [
    "alpha4=lambda x:re.sub(r'[0-9]+',' ',x)"
   ]
  },
  {
   "cell_type": "code",
   "execution_count": 42,
   "metadata": {},
   "outputs": [],
   "source": [
    "alpha6=lambda x:x.translate(str.maketrans(\"\",\"\",string.punctuation))"
   ]
  },
  {
   "cell_type": "code",
   "execution_count": 43,
   "metadata": {},
   "outputs": [],
   "source": [
    "stop_words=list(stopwords.words('english')+['ure','u','ur','im','uve'])\n"
   ]
  },
  {
   "cell_type": "code",
   "execution_count": 44,
   "metadata": {},
   "outputs": [
    {
     "name": "stdout",
     "output_type": "stream",
     "text": [
      " rex mundi \n",
      "\n",
      "i've created stub rex mundi rex mundi high school.  thing know aunt donna bob griese went there.  please add anything might know it.\n",
      "\n",
      "btw, dad panther; live princeton myself.\n"
     ]
    }
   ],
   "source": [
    "clean=[]\n",
    "word=sent=''\n",
    "for i in df_new['comment_text']:\n",
    "    tokens=i.lower().split(\" \")\n",
    "    for token in tokens:\n",
    "        if token not in stop_words:\n",
    "            word=word+' '+token\n",
    "        sent=sent+word\n",
    "        word=''  \n",
    "    clean.append(sent)\n",
    "    sent=''\n",
    "print(clean[1000])\n",
    "        \n",
    "      "
   ]
  },
  {
   "cell_type": "code",
   "execution_count": 45,
   "metadata": {},
   "outputs": [
    {
     "data": {
      "text/plain": [
       "\" explanation\\nwhy edits made username hardcore metallica fan reverted? vandalisms, closure gas voted new york dolls fac. please remove template talk page since i'm retired now.89.205.38.27\""
      ]
     },
     "execution_count": 45,
     "metadata": {},
     "output_type": "execute_result"
    }
   ],
   "source": [
    "clean[0]"
   ]
  },
  {
   "cell_type": "code",
   "execution_count": 46,
   "metadata": {},
   "outputs": [],
   "source": [
    "df_new['comment_text']=clean"
   ]
  },
  {
   "cell_type": "code",
   "execution_count": 47,
   "metadata": {},
   "outputs": [],
   "source": [
    "df_new['comment_text']=df_new['comment_text'].map(alpha).map(alpha3).map(alpha4).map(alpha6)"
   ]
  },
  {
   "cell_type": "code",
   "execution_count": 48,
   "metadata": {},
   "outputs": [
    {
     "data": {
      "text/plain": [
       "' explanation\\nwhy edits made username hardcore metallica fan reverted vandalisms closure gas voted new york dolls fac please remove template talk page since im retired now    '"
      ]
     },
     "execution_count": 48,
     "metadata": {},
     "output_type": "execute_result"
    }
   ],
   "source": [
    "df_new['comment_text'][0]"
   ]
  },
  {
   "cell_type": "code",
   "execution_count": 49,
   "metadata": {},
   "outputs": [
    {
     "data": {
      "text/plain": [
       "' rex mundi \\n\\nive created stub rex mundi rex mundi high school  thing know aunt donna bob griese went there  please add anything might know it\\n\\nbtw dad panther live princeton myself'"
      ]
     },
     "execution_count": 49,
     "metadata": {},
     "output_type": "execute_result"
    }
   ],
   "source": [
    "df_new['comment_text'][1000]"
   ]
  },
  {
   "cell_type": "code",
   "execution_count": 50,
   "metadata": {},
   "outputs": [],
   "source": [
    "malig=['id','comment_text','malignant']"
   ]
  },
  {
   "cell_type": "code",
   "execution_count": 51,
   "metadata": {},
   "outputs": [
    {
     "data": {
      "text/plain": [
       "Index(['id', 'comment_text', 'malignant'], dtype='object')"
      ]
     },
     "execution_count": 51,
     "metadata": {},
     "output_type": "execute_result"
    }
   ],
   "source": [
    "df_new[malig].columns"
   ]
  },
  {
   "cell_type": "code",
   "execution_count": 52,
   "metadata": {},
   "outputs": [],
   "source": [
    "x=df_new[malig].drop('malignant',axis=1)\n",
    "y=df_new['malignant']"
   ]
  },
  {
   "cell_type": "code",
   "execution_count": 53,
   "metadata": {},
   "outputs": [
    {
     "data": {
      "text/plain": [
       "0.0    144220\n",
       "1.0     15289\n",
       "Name: malignant, dtype: int64"
      ]
     },
     "execution_count": 53,
     "metadata": {},
     "output_type": "execute_result"
    }
   ],
   "source": [
    "y.value_counts()"
   ]
  },
  {
   "cell_type": "markdown",
   "metadata": {},
   "source": [
    "The target variable is largely imbalanced with less than 10% of its data in the malignant(1.0) category.\n",
    "To resolve this a subset of the dataframe is taken which contained 50% of the rows in the malignant category and another 50% in the non-malignant category."
   ]
  },
  {
   "cell_type": "code",
   "execution_count": 54,
   "metadata": {},
   "outputs": [
    {
     "data": {
      "text/plain": [
       "15289"
      ]
     },
     "execution_count": 54,
     "metadata": {},
     "output_type": "execute_result"
    }
   ],
   "source": [
    "(df_new['malignant']==1).sum()"
   ]
  },
  {
   "cell_type": "code",
   "execution_count": 55,
   "metadata": {},
   "outputs": [
    {
     "data": {
      "text/html": [
       "<div>\n",
       "<style scoped>\n",
       "    .dataframe tbody tr th:only-of-type {\n",
       "        vertical-align: middle;\n",
       "    }\n",
       "\n",
       "    .dataframe tbody tr th {\n",
       "        vertical-align: top;\n",
       "    }\n",
       "\n",
       "    .dataframe thead th {\n",
       "        text-align: right;\n",
       "    }\n",
       "</style>\n",
       "<table border=\"1\" class=\"dataframe\">\n",
       "  <thead>\n",
       "    <tr style=\"text-align: right;\">\n",
       "      <th></th>\n",
       "      <th>id</th>\n",
       "      <th>comment_text</th>\n",
       "      <th>malignant</th>\n",
       "      <th>highly_malignant</th>\n",
       "      <th>rude</th>\n",
       "      <th>threat</th>\n",
       "      <th>abuse</th>\n",
       "      <th>loathe</th>\n",
       "    </tr>\n",
       "  </thead>\n",
       "  <tbody>\n",
       "    <tr>\n",
       "      <th>6</th>\n",
       "      <td>0002bcb3da6cb337</td>\n",
       "      <td>cocksucker piss around work</td>\n",
       "      <td>1.0</td>\n",
       "      <td>1.0</td>\n",
       "      <td>1.0</td>\n",
       "      <td>0.0</td>\n",
       "      <td>1.0</td>\n",
       "      <td>0.0</td>\n",
       "    </tr>\n",
       "    <tr>\n",
       "      <th>12</th>\n",
       "      <td>0005c987bdfc9d4b</td>\n",
       "      <td>hey it\\n  talk \\nwhat it exclusive group wp t...</td>\n",
       "      <td>1.0</td>\n",
       "      <td>0.0</td>\n",
       "      <td>0.0</td>\n",
       "      <td>0.0</td>\n",
       "      <td>0.0</td>\n",
       "      <td>0.0</td>\n",
       "    </tr>\n",
       "    <tr>\n",
       "      <th>16</th>\n",
       "      <td>0007e25b2121310b</td>\n",
       "      <td>bye \\n\\ndont look come think comming back tosser</td>\n",
       "      <td>1.0</td>\n",
       "      <td>0.0</td>\n",
       "      <td>0.0</td>\n",
       "      <td>0.0</td>\n",
       "      <td>0.0</td>\n",
       "      <td>0.0</td>\n",
       "    </tr>\n",
       "    <tr>\n",
       "      <th>42</th>\n",
       "      <td>001810bf8c45bf5f</td>\n",
       "      <td>gay antisemmitian \\n\\narchangel white tiger\\n...</td>\n",
       "      <td>1.0</td>\n",
       "      <td>0.0</td>\n",
       "      <td>1.0</td>\n",
       "      <td>0.0</td>\n",
       "      <td>1.0</td>\n",
       "      <td>1.0</td>\n",
       "    </tr>\n",
       "    <tr>\n",
       "      <th>43</th>\n",
       "      <td>00190820581d90ce</td>\n",
       "      <td>fuck filthy mother ass dry</td>\n",
       "      <td>1.0</td>\n",
       "      <td>0.0</td>\n",
       "      <td>1.0</td>\n",
       "      <td>0.0</td>\n",
       "      <td>1.0</td>\n",
       "      <td>0.0</td>\n",
       "    </tr>\n",
       "    <tr>\n",
       "      <th>...</th>\n",
       "      <td>...</td>\n",
       "      <td>...</td>\n",
       "      <td>...</td>\n",
       "      <td>...</td>\n",
       "      <td>...</td>\n",
       "      <td>...</td>\n",
       "      <td>...</td>\n",
       "      <td>...</td>\n",
       "    </tr>\n",
       "    <tr>\n",
       "      <th>159544</th>\n",
       "      <td>fef4cf7ba0012866</td>\n",
       "      <td>\\n\\n previous conversation \\n\\nyou fucking sh...</td>\n",
       "      <td>1.0</td>\n",
       "      <td>0.0</td>\n",
       "      <td>1.0</td>\n",
       "      <td>0.0</td>\n",
       "      <td>1.0</td>\n",
       "      <td>1.0</td>\n",
       "    </tr>\n",
       "    <tr>\n",
       "      <th>159564</th>\n",
       "      <td>ff39a2895fc3b40e</td>\n",
       "      <td>mischievious pubic hair</td>\n",
       "      <td>1.0</td>\n",
       "      <td>0.0</td>\n",
       "      <td>0.0</td>\n",
       "      <td>0.0</td>\n",
       "      <td>1.0</td>\n",
       "      <td>0.0</td>\n",
       "    </tr>\n",
       "    <tr>\n",
       "      <th>159591</th>\n",
       "      <td>ffa33d3122b599d6</td>\n",
       "      <td>absurd edits \\n\\nyour absurd edits great whit...</td>\n",
       "      <td>1.0</td>\n",
       "      <td>0.0</td>\n",
       "      <td>1.0</td>\n",
       "      <td>0.0</td>\n",
       "      <td>1.0</td>\n",
       "      <td>0.0</td>\n",
       "    </tr>\n",
       "    <tr>\n",
       "      <th>159596</th>\n",
       "      <td>ffb47123b2d82762</td>\n",
       "      <td>\\n\\nhey listen ever delete edits ever im anno...</td>\n",
       "      <td>1.0</td>\n",
       "      <td>0.0</td>\n",
       "      <td>0.0</td>\n",
       "      <td>0.0</td>\n",
       "      <td>1.0</td>\n",
       "      <td>0.0</td>\n",
       "    </tr>\n",
       "    <tr>\n",
       "      <th>159604</th>\n",
       "      <td>ffbdbb0483ed0841</td>\n",
       "      <td>im going keep posting stuff deleted fucking s...</td>\n",
       "      <td>1.0</td>\n",
       "      <td>0.0</td>\n",
       "      <td>1.0</td>\n",
       "      <td>0.0</td>\n",
       "      <td>1.0</td>\n",
       "      <td>0.0</td>\n",
       "    </tr>\n",
       "  </tbody>\n",
       "</table>\n",
       "<p>15289 rows × 8 columns</p>\n",
       "</div>"
      ],
      "text/plain": [
       "                      id                                       comment_text  \\\n",
       "6       0002bcb3da6cb337                        cocksucker piss around work   \n",
       "12      0005c987bdfc9d4b   hey it\\n  talk \\nwhat it exclusive group wp t...   \n",
       "16      0007e25b2121310b   bye \\n\\ndont look come think comming back tosser   \n",
       "42      001810bf8c45bf5f   gay antisemmitian \\n\\narchangel white tiger\\n...   \n",
       "43      00190820581d90ce                         fuck filthy mother ass dry   \n",
       "...                  ...                                                ...   \n",
       "159544  fef4cf7ba0012866   \\n\\n previous conversation \\n\\nyou fucking sh...   \n",
       "159564  ff39a2895fc3b40e                            mischievious pubic hair   \n",
       "159591  ffa33d3122b599d6   absurd edits \\n\\nyour absurd edits great whit...   \n",
       "159596  ffb47123b2d82762   \\n\\nhey listen ever delete edits ever im anno...   \n",
       "159604  ffbdbb0483ed0841   im going keep posting stuff deleted fucking s...   \n",
       "\n",
       "        malignant  highly_malignant  rude  threat  abuse  loathe  \n",
       "6             1.0               1.0   1.0     0.0    1.0     0.0  \n",
       "12            1.0               0.0   0.0     0.0    0.0     0.0  \n",
       "16            1.0               0.0   0.0     0.0    0.0     0.0  \n",
       "42            1.0               0.0   1.0     0.0    1.0     1.0  \n",
       "43            1.0               0.0   1.0     0.0    1.0     0.0  \n",
       "...           ...               ...   ...     ...    ...     ...  \n",
       "159544        1.0               0.0   1.0     0.0    1.0     1.0  \n",
       "159564        1.0               0.0   0.0     0.0    1.0     0.0  \n",
       "159591        1.0               0.0   1.0     0.0    1.0     0.0  \n",
       "159596        1.0               0.0   0.0     0.0    1.0     0.0  \n",
       "159604        1.0               0.0   1.0     0.0    1.0     0.0  \n",
       "\n",
       "[15289 rows x 8 columns]"
      ]
     },
     "execution_count": 55,
     "metadata": {},
     "output_type": "execute_result"
    }
   ],
   "source": [
    "bal1=df_new[df_new['malignant']==1]\n",
    "bal1\n"
   ]
  },
  {
   "cell_type": "markdown",
   "metadata": {},
   "source": [
    "To balance the dataset for different target labels,samples of 0 and 1 categories were extracted from the original dataframe and merged into a new dataframe(unique for every target feature)."
   ]
  },
  {
   "cell_type": "code",
   "execution_count": 56,
   "metadata": {
    "scrolled": true
   },
   "outputs": [
    {
     "data": {
      "text/html": [
       "<div>\n",
       "<style scoped>\n",
       "    .dataframe tbody tr th:only-of-type {\n",
       "        vertical-align: middle;\n",
       "    }\n",
       "\n",
       "    .dataframe tbody tr th {\n",
       "        vertical-align: top;\n",
       "    }\n",
       "\n",
       "    .dataframe thead th {\n",
       "        text-align: right;\n",
       "    }\n",
       "</style>\n",
       "<table border=\"1\" class=\"dataframe\">\n",
       "  <thead>\n",
       "    <tr style=\"text-align: right;\">\n",
       "      <th></th>\n",
       "      <th>id</th>\n",
       "      <th>comment_text</th>\n",
       "      <th>malignant</th>\n",
       "      <th>highly_malignant</th>\n",
       "      <th>rude</th>\n",
       "      <th>threat</th>\n",
       "      <th>abuse</th>\n",
       "      <th>loathe</th>\n",
       "    </tr>\n",
       "  </thead>\n",
       "  <tbody>\n",
       "    <tr>\n",
       "      <th>0</th>\n",
       "      <td>0000997932d777bf</td>\n",
       "      <td>explanation\\nwhy edits made username hardcore...</td>\n",
       "      <td>0.0</td>\n",
       "      <td>0.0</td>\n",
       "      <td>0.0</td>\n",
       "      <td>0.0</td>\n",
       "      <td>0.0</td>\n",
       "      <td>0.0</td>\n",
       "    </tr>\n",
       "    <tr>\n",
       "      <th>1</th>\n",
       "      <td>000103f0d9cfb60f</td>\n",
       "      <td>daww matches background colour im seemingly s...</td>\n",
       "      <td>0.0</td>\n",
       "      <td>0.0</td>\n",
       "      <td>0.0</td>\n",
       "      <td>0.0</td>\n",
       "      <td>0.0</td>\n",
       "      <td>0.0</td>\n",
       "    </tr>\n",
       "    <tr>\n",
       "      <th>2</th>\n",
       "      <td>000113f07ec002fd</td>\n",
       "      <td>hey man im really trying edit war guy constan...</td>\n",
       "      <td>0.0</td>\n",
       "      <td>0.0</td>\n",
       "      <td>0.0</td>\n",
       "      <td>0.0</td>\n",
       "      <td>0.0</td>\n",
       "      <td>0.0</td>\n",
       "    </tr>\n",
       "    <tr>\n",
       "      <th>3</th>\n",
       "      <td>0001b41b1c6bb37e</td>\n",
       "      <td>\\nmore\\ni cant make real suggestions improvem...</td>\n",
       "      <td>0.0</td>\n",
       "      <td>0.0</td>\n",
       "      <td>0.0</td>\n",
       "      <td>0.0</td>\n",
       "      <td>0.0</td>\n",
       "      <td>0.0</td>\n",
       "    </tr>\n",
       "    <tr>\n",
       "      <th>4</th>\n",
       "      <td>0001d958c54c6e35</td>\n",
       "      <td>you sir hero chance remember page thats on</td>\n",
       "      <td>0.0</td>\n",
       "      <td>0.0</td>\n",
       "      <td>0.0</td>\n",
       "      <td>0.0</td>\n",
       "      <td>0.0</td>\n",
       "      <td>0.0</td>\n",
       "    </tr>\n",
       "    <tr>\n",
       "      <th>...</th>\n",
       "      <td>...</td>\n",
       "      <td>...</td>\n",
       "      <td>...</td>\n",
       "      <td>...</td>\n",
       "      <td>...</td>\n",
       "      <td>...</td>\n",
       "      <td>...</td>\n",
       "      <td>...</td>\n",
       "    </tr>\n",
       "    <tr>\n",
       "      <th>159616</th>\n",
       "      <td>ffe987279560d7ff</td>\n",
       "      <td>and second time asking view completely contra...</td>\n",
       "      <td>0.0</td>\n",
       "      <td>0.0</td>\n",
       "      <td>0.0</td>\n",
       "      <td>0.0</td>\n",
       "      <td>0.0</td>\n",
       "      <td>0.0</td>\n",
       "    </tr>\n",
       "    <tr>\n",
       "      <th>159617</th>\n",
       "      <td>ffea4adeee384e90</td>\n",
       "      <td>ashamed \\n\\nthat horrible thing put talk page...</td>\n",
       "      <td>0.0</td>\n",
       "      <td>0.0</td>\n",
       "      <td>0.0</td>\n",
       "      <td>0.0</td>\n",
       "      <td>0.0</td>\n",
       "      <td>0.0</td>\n",
       "    </tr>\n",
       "    <tr>\n",
       "      <th>159618</th>\n",
       "      <td>ffee36eab5c267c9</td>\n",
       "      <td>spitzer \\n\\numm theres actual article prostit...</td>\n",
       "      <td>0.0</td>\n",
       "      <td>0.0</td>\n",
       "      <td>0.0</td>\n",
       "      <td>0.0</td>\n",
       "      <td>0.0</td>\n",
       "      <td>0.0</td>\n",
       "    </tr>\n",
       "    <tr>\n",
       "      <th>159619</th>\n",
       "      <td>fff125370e4aaaf3</td>\n",
       "      <td>looks like actually put speedy first version ...</td>\n",
       "      <td>0.0</td>\n",
       "      <td>0.0</td>\n",
       "      <td>0.0</td>\n",
       "      <td>0.0</td>\n",
       "      <td>0.0</td>\n",
       "      <td>0.0</td>\n",
       "    </tr>\n",
       "    <tr>\n",
       "      <th>159620</th>\n",
       "      <td>fff46fc426af1f9a</td>\n",
       "      <td>\\nand  really think understand  came idea bad...</td>\n",
       "      <td>0.0</td>\n",
       "      <td>0.0</td>\n",
       "      <td>0.0</td>\n",
       "      <td>0.0</td>\n",
       "      <td>0.0</td>\n",
       "      <td>0.0</td>\n",
       "    </tr>\n",
       "  </tbody>\n",
       "</table>\n",
       "<p>144220 rows × 8 columns</p>\n",
       "</div>"
      ],
      "text/plain": [
       "                      id                                       comment_text  \\\n",
       "0       0000997932d777bf   explanation\\nwhy edits made username hardcore...   \n",
       "1       000103f0d9cfb60f   daww matches background colour im seemingly s...   \n",
       "2       000113f07ec002fd   hey man im really trying edit war guy constan...   \n",
       "3       0001b41b1c6bb37e   \\nmore\\ni cant make real suggestions improvem...   \n",
       "4       0001d958c54c6e35         you sir hero chance remember page thats on   \n",
       "...                  ...                                                ...   \n",
       "159616  ffe987279560d7ff   and second time asking view completely contra...   \n",
       "159617  ffea4adeee384e90   ashamed \\n\\nthat horrible thing put talk page...   \n",
       "159618  ffee36eab5c267c9   spitzer \\n\\numm theres actual article prostit...   \n",
       "159619  fff125370e4aaaf3   looks like actually put speedy first version ...   \n",
       "159620  fff46fc426af1f9a   \\nand  really think understand  came idea bad...   \n",
       "\n",
       "        malignant  highly_malignant  rude  threat  abuse  loathe  \n",
       "0             0.0               0.0   0.0     0.0    0.0     0.0  \n",
       "1             0.0               0.0   0.0     0.0    0.0     0.0  \n",
       "2             0.0               0.0   0.0     0.0    0.0     0.0  \n",
       "3             0.0               0.0   0.0     0.0    0.0     0.0  \n",
       "4             0.0               0.0   0.0     0.0    0.0     0.0  \n",
       "...           ...               ...   ...     ...    ...     ...  \n",
       "159616        0.0               0.0   0.0     0.0    0.0     0.0  \n",
       "159617        0.0               0.0   0.0     0.0    0.0     0.0  \n",
       "159618        0.0               0.0   0.0     0.0    0.0     0.0  \n",
       "159619        0.0               0.0   0.0     0.0    0.0     0.0  \n",
       "159620        0.0               0.0   0.0     0.0    0.0     0.0  \n",
       "\n",
       "[144220 rows x 8 columns]"
      ]
     },
     "execution_count": 56,
     "metadata": {},
     "output_type": "execute_result"
    }
   ],
   "source": [
    "bal2=df_new[df_new['malignant']==0]\n",
    "bal2\n"
   ]
  },
  {
   "cell_type": "code",
   "execution_count": 57,
   "metadata": {},
   "outputs": [
    {
     "data": {
      "text/plain": [
       "0.0    15289\n",
       "1.0    15289\n",
       "Name: malignant, dtype: int64"
      ]
     },
     "execution_count": 57,
     "metadata": {},
     "output_type": "execute_result"
    }
   ],
   "source": [
    "balanced_mal=pd.concat([bal1,bal2[:15289]],axis=0)\n",
    "balanced_mal['malignant'].value_counts()"
   ]
  },
  {
   "cell_type": "code",
   "execution_count": 58,
   "metadata": {},
   "outputs": [],
   "source": [
    "\n",
    "from sklearn.model_selection import train_test_split, cross_val_score\n",
    "\n",
    "\n",
    "# Import ML algos\n",
    "from sklearn.linear_model import LogisticRegression\n",
    "#from sklearn.neighbors import KNeighborsClassifier\n",
    "#from sklearn.naive_bayes import MultinomialNB, BernoulliNB\n",
    "#from sklearn.svm import LinearSVC\n",
    "from sklearn.ensemble import RandomForestClassifier\n",
    "#from sklearn.tree import DecisionTreeClassifier\n",
    "#from sklearn.ensemble import AdaBoostClassifier"
   ]
  },
  {
   "cell_type": "code",
   "execution_count": 59,
   "metadata": {},
   "outputs": [
    {
     "name": "stdout",
     "output_type": "stream",
     "text": [
      "(1594, 8)\n",
      "(157915, 8)\n"
     ]
    }
   ],
   "source": [
    "bal1=df_new[df_new['highly_malignant']==1]\n",
    "bal2=df_new[df_new['highly_malignant']==0]\n",
    "print(bal1.shape)\n",
    "print(bal2.shape)\n"
   ]
  },
  {
   "cell_type": "code",
   "execution_count": 60,
   "metadata": {},
   "outputs": [
    {
     "data": {
      "text/plain": [
       "0.0    3000\n",
       "1.0    1594\n",
       "Name: highly_malignant, dtype: int64"
      ]
     },
     "execution_count": 60,
     "metadata": {},
     "output_type": "execute_result"
    }
   ],
   "source": [
    "balanced_hmal=pd.concat([bal1,bal2[:3000]],axis=0)\n",
    "balanced_hmal['highly_malignant'].value_counts()"
   ]
  },
  {
   "cell_type": "code",
   "execution_count": 61,
   "metadata": {},
   "outputs": [
    {
     "name": "stdout",
     "output_type": "stream",
     "text": [
      "(8444, 8)\n",
      "(151065, 8)\n"
     ]
    }
   ],
   "source": [
    "bal1=df_new[df_new['rude']==1]\n",
    "bal2=df_new[df_new['rude']==0]\n",
    "print(bal1.shape)\n",
    "print(bal2.shape)"
   ]
  },
  {
   "cell_type": "code",
   "execution_count": 62,
   "metadata": {},
   "outputs": [
    {
     "data": {
      "text/plain": [
       "(18444, 8)"
      ]
     },
     "execution_count": 62,
     "metadata": {},
     "output_type": "execute_result"
    }
   ],
   "source": [
    "bal_rude=pd.concat([bal1,bal2[:10000]],axis=0)\n",
    "bal_rude.shape"
   ]
  },
  {
   "cell_type": "code",
   "execution_count": 63,
   "metadata": {},
   "outputs": [
    {
     "name": "stdout",
     "output_type": "stream",
     "text": [
      "(478, 8)\n",
      "(159031, 8)\n"
     ]
    }
   ],
   "source": [
    "#Threat\n",
    "bal1=df_new[df_new['threat']==1]\n",
    "bal2=df_new[df_new['threat']==0]\n",
    "print(bal1.shape)\n",
    "print(bal2.shape)"
   ]
  },
  {
   "cell_type": "code",
   "execution_count": 64,
   "metadata": {},
   "outputs": [
    {
     "data": {
      "text/plain": [
       "(1478, 8)"
      ]
     },
     "execution_count": 64,
     "metadata": {},
     "output_type": "execute_result"
    }
   ],
   "source": [
    "bal_threat=pd.concat([bal1,bal2[:1000]],axis=0)\n",
    "bal_threat.shape"
   ]
  },
  {
   "cell_type": "code",
   "execution_count": 65,
   "metadata": {},
   "outputs": [
    {
     "name": "stdout",
     "output_type": "stream",
     "text": [
      "(7875, 8)\n",
      "(151634, 8)\n"
     ]
    }
   ],
   "source": [
    "#abuse\n",
    "bal1=df_new[df_new['abuse']==1]\n",
    "bal2=df_new[df_new['abuse']==0]\n",
    "print(bal1.shape)\n",
    "print(bal2.shape)"
   ]
  },
  {
   "cell_type": "code",
   "execution_count": 66,
   "metadata": {},
   "outputs": [
    {
     "data": {
      "text/plain": [
       "(22875, 8)"
      ]
     },
     "execution_count": 66,
     "metadata": {},
     "output_type": "execute_result"
    }
   ],
   "source": [
    "bal_abuse=pd.concat([bal1,bal2[:15000]],axis=0)\n",
    "bal_abuse.shape"
   ]
  },
  {
   "cell_type": "code",
   "execution_count": 67,
   "metadata": {},
   "outputs": [
    {
     "name": "stdout",
     "output_type": "stream",
     "text": [
      "(1405, 8)\n",
      "(158104, 8)\n"
     ]
    }
   ],
   "source": [
    "#loathe\n",
    "bal1=df_new[df_new['loathe']==1]\n",
    "bal2=df_new[df_new['loathe']==0]\n",
    "print(bal1.shape)\n",
    "print(bal2.shape)"
   ]
  },
  {
   "cell_type": "code",
   "execution_count": 68,
   "metadata": {},
   "outputs": [
    {
     "data": {
      "text/plain": [
       "(4205, 8)"
      ]
     },
     "execution_count": 68,
     "metadata": {},
     "output_type": "execute_result"
    }
   ],
   "source": [
    "bal_loathe=pd.concat([bal1,bal2[:2800]],axis=0)\n",
    "bal_loathe.shape"
   ]
  },
  {
   "cell_type": "markdown",
   "metadata": {},
   "source": [
    "Since the problem statement focuses on identifying the malignant/abuse/threat/loathe/highly_malignant classes from the normal ones,f1 score was used as the primary metric for selecting our model."
   ]
  },
  {
   "cell_type": "markdown",
   "metadata": {},
   "source": [
    "ALGORITHMS like Adaboostclassifier,DecisionTreeClassifier,KNeighborsClassifier were also used apart from LogisticRegression,RandomForest and SVC.SVC was discarded because although it gave the best f1_score,it took forever to process the data.LinearSVC() also did a great job in classifying the 0 and 1 categories of the target columns but it could not be used for predicting the probability of the features as it does not have a predict.proba method. "
   ]
  },
  {
   "cell_type": "markdown",
   "metadata": {},
   "source": [
    "TFID Vectorizer is being used to assign a vector to each word in the text data,therefore keeping the meaning/context in play."
   ]
  },
  {
   "cell_type": "code",
   "execution_count": 70,
   "metadata": {},
   "outputs": [],
   "source": [
    "from sklearn.metrics import accuracy_score,classification_report,confusion_matrix,roc_curve"
   ]
  },
  {
   "cell_type": "code",
   "execution_count": 71,
   "metadata": {},
   "outputs": [],
   "source": [
    "y=df_new['malignant']\n",
    "x=df_new['comment_text']\n",
    "\n",
    "\n",
    "tfv = TfidfVectorizer(ngram_range=(1,1), stop_words='english')\n",
    "X=tfv.fit_transform(x)\n",
    "x_train, x_test, y_train, y_test = train_test_split(X, y, test_size=.33, random_state=42)\n"
   ]
  },
  {
   "cell_type": "code",
   "execution_count": 74,
   "metadata": {},
   "outputs": [
    {
     "data": {
      "text/html": [
       "<div>\n",
       "<style scoped>\n",
       "    .dataframe tbody tr th:only-of-type {\n",
       "        vertical-align: middle;\n",
       "    }\n",
       "\n",
       "    .dataframe tbody tr th {\n",
       "        vertical-align: top;\n",
       "    }\n",
       "\n",
       "    .dataframe thead th {\n",
       "        text-align: right;\n",
       "    }\n",
       "</style>\n",
       "<table border=\"1\" class=\"dataframe\">\n",
       "  <thead>\n",
       "    <tr style=\"text-align: right;\">\n",
       "      <th></th>\n",
       "      <th>id</th>\n",
       "      <th>comment_text</th>\n",
       "      <th>malignant</th>\n",
       "      <th>highly_malignant</th>\n",
       "      <th>rude</th>\n",
       "      <th>threat</th>\n",
       "      <th>abuse</th>\n",
       "      <th>loathe</th>\n",
       "    </tr>\n",
       "  </thead>\n",
       "  <tbody>\n",
       "    <tr>\n",
       "      <th>6</th>\n",
       "      <td>0002bcb3da6cb337</td>\n",
       "      <td>cocksucker piss around work</td>\n",
       "      <td>1.0</td>\n",
       "      <td>1.0</td>\n",
       "      <td>1.0</td>\n",
       "      <td>0.0</td>\n",
       "      <td>1.0</td>\n",
       "      <td>0.0</td>\n",
       "    </tr>\n",
       "    <tr>\n",
       "      <th>12</th>\n",
       "      <td>0005c987bdfc9d4b</td>\n",
       "      <td>hey it\\n  talk \\nwhat it exclusive group wp t...</td>\n",
       "      <td>1.0</td>\n",
       "      <td>0.0</td>\n",
       "      <td>0.0</td>\n",
       "      <td>0.0</td>\n",
       "      <td>0.0</td>\n",
       "      <td>0.0</td>\n",
       "    </tr>\n",
       "    <tr>\n",
       "      <th>16</th>\n",
       "      <td>0007e25b2121310b</td>\n",
       "      <td>bye \\n\\ndont look come think comming back tosser</td>\n",
       "      <td>1.0</td>\n",
       "      <td>0.0</td>\n",
       "      <td>0.0</td>\n",
       "      <td>0.0</td>\n",
       "      <td>0.0</td>\n",
       "      <td>0.0</td>\n",
       "    </tr>\n",
       "    <tr>\n",
       "      <th>42</th>\n",
       "      <td>001810bf8c45bf5f</td>\n",
       "      <td>gay antisemmitian \\n\\narchangel white tiger\\n...</td>\n",
       "      <td>1.0</td>\n",
       "      <td>0.0</td>\n",
       "      <td>1.0</td>\n",
       "      <td>0.0</td>\n",
       "      <td>1.0</td>\n",
       "      <td>1.0</td>\n",
       "    </tr>\n",
       "    <tr>\n",
       "      <th>43</th>\n",
       "      <td>00190820581d90ce</td>\n",
       "      <td>fuck filthy mother ass dry</td>\n",
       "      <td>1.0</td>\n",
       "      <td>0.0</td>\n",
       "      <td>1.0</td>\n",
       "      <td>0.0</td>\n",
       "      <td>1.0</td>\n",
       "      <td>0.0</td>\n",
       "    </tr>\n",
       "    <tr>\n",
       "      <th>...</th>\n",
       "      <td>...</td>\n",
       "      <td>...</td>\n",
       "      <td>...</td>\n",
       "      <td>...</td>\n",
       "      <td>...</td>\n",
       "      <td>...</td>\n",
       "      <td>...</td>\n",
       "      <td>...</td>\n",
       "    </tr>\n",
       "    <tr>\n",
       "      <th>2826</th>\n",
       "      <td>079b036fed8995db</td>\n",
       "      <td>know human excrement pretty fast find vandali...</td>\n",
       "      <td>1.0</td>\n",
       "      <td>0.0</td>\n",
       "      <td>0.0</td>\n",
       "      <td>0.0</td>\n",
       "      <td>1.0</td>\n",
       "      <td>0.0</td>\n",
       "    </tr>\n",
       "    <tr>\n",
       "      <th>2827</th>\n",
       "      <td>079bf93384771454</td>\n",
       "      <td>\\n\\ni appreciate sentiment nice know others w...</td>\n",
       "      <td>0.0</td>\n",
       "      <td>0.0</td>\n",
       "      <td>0.0</td>\n",
       "      <td>0.0</td>\n",
       "      <td>0.0</td>\n",
       "      <td>0.0</td>\n",
       "    </tr>\n",
       "    <tr>\n",
       "      <th>2828</th>\n",
       "      <td>079c08cf3721f35e</td>\n",
       "      <td>\\n\\nto tha undertaker\\nif want promote yourse...</td>\n",
       "      <td>0.0</td>\n",
       "      <td>0.0</td>\n",
       "      <td>0.0</td>\n",
       "      <td>0.0</td>\n",
       "      <td>0.0</td>\n",
       "      <td>0.0</td>\n",
       "    </tr>\n",
       "    <tr>\n",
       "      <th>2829</th>\n",
       "      <td>079eaf68ae081d68</td>\n",
       "      <td>speak people ireland make laugh great britain...</td>\n",
       "      <td>0.0</td>\n",
       "      <td>0.0</td>\n",
       "      <td>0.0</td>\n",
       "      <td>0.0</td>\n",
       "      <td>0.0</td>\n",
       "      <td>0.0</td>\n",
       "    </tr>\n",
       "    <tr>\n",
       "      <th>2830</th>\n",
       "      <td>079ef5054c546e7c</td>\n",
       "      <td>gwen lead says dead  th  noone disputing that...</td>\n",
       "      <td>0.0</td>\n",
       "      <td>0.0</td>\n",
       "      <td>0.0</td>\n",
       "      <td>0.0</td>\n",
       "      <td>0.0</td>\n",
       "      <td>0.0</td>\n",
       "    </tr>\n",
       "  </tbody>\n",
       "</table>\n",
       "<p>82174 rows × 8 columns</p>\n",
       "</div>"
      ],
      "text/plain": [
       "                    id                                       comment_text  \\\n",
       "6     0002bcb3da6cb337                        cocksucker piss around work   \n",
       "12    0005c987bdfc9d4b   hey it\\n  talk \\nwhat it exclusive group wp t...   \n",
       "16    0007e25b2121310b   bye \\n\\ndont look come think comming back tosser   \n",
       "42    001810bf8c45bf5f   gay antisemmitian \\n\\narchangel white tiger\\n...   \n",
       "43    00190820581d90ce                         fuck filthy mother ass dry   \n",
       "...                ...                                                ...   \n",
       "2826  079b036fed8995db   know human excrement pretty fast find vandali...   \n",
       "2827  079bf93384771454   \\n\\ni appreciate sentiment nice know others w...   \n",
       "2828  079c08cf3721f35e   \\n\\nto tha undertaker\\nif want promote yourse...   \n",
       "2829  079eaf68ae081d68   speak people ireland make laugh great britain...   \n",
       "2830  079ef5054c546e7c   gwen lead says dead  th  noone disputing that...   \n",
       "\n",
       "      malignant  highly_malignant  rude  threat  abuse  loathe  \n",
       "6           1.0               1.0   1.0     0.0    1.0     0.0  \n",
       "12          1.0               0.0   0.0     0.0    0.0     0.0  \n",
       "16          1.0               0.0   0.0     0.0    0.0     0.0  \n",
       "42          1.0               0.0   1.0     0.0    1.0     1.0  \n",
       "43          1.0               0.0   1.0     0.0    1.0     0.0  \n",
       "...         ...               ...   ...     ...    ...     ...  \n",
       "2826        1.0               0.0   0.0     0.0    1.0     0.0  \n",
       "2827        0.0               0.0   0.0     0.0    0.0     0.0  \n",
       "2828        0.0               0.0   0.0     0.0    0.0     0.0  \n",
       "2829        0.0               0.0   0.0     0.0    0.0     0.0  \n",
       "2830        0.0               0.0   0.0     0.0    0.0     0.0  \n",
       "\n",
       "[82174 rows x 8 columns]"
      ]
     },
     "execution_count": 74,
     "metadata": {},
     "output_type": "execute_result"
    }
   ],
   "source": [
    "balanced_dataset=pd.concat([balanced_mal,balanced_hmal,bal_rude,bal_threat,bal_abuse,bal_loathe],axis=0)\n",
    "balanced_dataset"
   ]
  },
  {
   "cell_type": "code",
   "execution_count": 82,
   "metadata": {},
   "outputs": [],
   "source": [
    "#Malignant\n",
    "tfv = TfidfVectorizer(ngram_range=(1,1), stop_words='english')\n",
    "x=balanced_dataset['comment_text']\n",
    "X=tfv.fit_transform(x)\n",
    "y=balanced_dataset['malignant']"
   ]
  },
  {
   "cell_type": "code",
   "execution_count": 83,
   "metadata": {},
   "outputs": [
    {
     "name": "stdout",
     "output_type": "stream",
     "text": [
      "0.9306364776163434\n",
      "              precision    recall  f1-score   support\n",
      "\n",
      "         0.0       0.91      0.97      0.94     15279\n",
      "         1.0       0.96      0.88      0.92     11839\n",
      "\n",
      "    accuracy                           0.93     27118\n",
      "   macro avg       0.93      0.93      0.93     27118\n",
      "weighted avg       0.93      0.93      0.93     27118\n",
      "\n"
     ]
    }
   ],
   "source": [
    "x_train, x_test, y_train, y_test = train_test_split(X, y, test_size=.33, random_state=42)\n",
    "lr1=LogisticRegression()\n",
    "\n",
    "lr1.fit(x_train,y_train)\n",
    "pred_log=lr1.predict(x_test)\n",
    "print(accuracy_score(y_test,pred_log))\n",
    "print(classification_report(y_test,pred_log))"
   ]
  },
  {
   "cell_type": "code",
   "execution_count": 85,
   "metadata": {},
   "outputs": [
    {
     "name": "stdout",
     "output_type": "stream",
     "text": [
      "0.9532782653588022\n",
      "              precision    recall  f1-score   support\n",
      "\n",
      "         0.0       0.94      0.99      0.96     15279\n",
      "         1.0       0.98      0.91      0.94     11839\n",
      "\n",
      "    accuracy                           0.95     27118\n",
      "   macro avg       0.96      0.95      0.95     27118\n",
      "weighted avg       0.95      0.95      0.95     27118\n",
      "\n"
     ]
    }
   ],
   "source": [
    "#RandomForest\n",
    "rfc1=RandomForestClassifier(criterion='entropy')\n",
    "rfc1.fit(x_train,y_train)\n",
    "pred_rfc=rfc1.predict(x_test)\n",
    "print(accuracy_score(y_test,pred_rfc))\n",
    "print(classification_report(y_test,pred_rfc))"
   ]
  },
  {
   "cell_type": "code",
   "execution_count": 114,
   "metadata": {},
   "outputs": [
    {
     "name": "stdout",
     "output_type": "stream",
     "text": [
      "0.8442622950819673\n",
      "              precision    recall  f1-score   support\n",
      "\n",
      "         0.0       0.81      1.00      0.90       331\n",
      "         1.0       0.99      0.52      0.68       157\n",
      "\n",
      "    accuracy                           0.84       488\n",
      "   macro avg       0.90      0.76      0.79       488\n",
      "weighted avg       0.87      0.84      0.83       488\n",
      "\n"
     ]
    }
   ],
   "source": [
    "#threat\n",
    "lr2=LogisticRegression()\n",
    "x=bal_threat['comment_text']\n",
    "\n",
    "X=tfv.transform(x)\n",
    "y=bal_threat['threat']\n",
    "x_train, x_test, y_train, y_test = train_test_split(X, y, test_size=.33, random_state=42)\n",
    "\n",
    "\n",
    "lr2.fit(x_train,y_train)\n",
    "pred_log=lr2.predict(x_test)\n",
    "print(accuracy_score(y_test,pred_log))\n",
    "print(classification_report(y_test,pred_log))"
   ]
  },
  {
   "cell_type": "code",
   "execution_count": 115,
   "metadata": {},
   "outputs": [
    {
     "name": "stdout",
     "output_type": "stream",
     "text": [
      "0.8913934426229508\n",
      "              precision    recall  f1-score   support\n",
      "\n",
      "         0.0       0.87      0.98      0.92       331\n",
      "         1.0       0.96      0.69      0.80       157\n",
      "\n",
      "    accuracy                           0.89       488\n",
      "   macro avg       0.91      0.84      0.86       488\n",
      "weighted avg       0.90      0.89      0.89       488\n",
      "\n"
     ]
    }
   ],
   "source": [
    "#RandomForest\n",
    "rfc2=RandomForestClassifier(criterion='entropy')\n",
    "rfc2.fit(x_train,y_train)\n",
    "pred_rfc=rfc2.predict(x_test)\n",
    "print(accuracy_score(y_test,pred_rfc))\n",
    "print(classification_report(y_test,pred_rfc))"
   ]
  },
  {
   "cell_type": "code",
   "execution_count": 116,
   "metadata": {},
   "outputs": [
    {
     "name": "stdout",
     "output_type": "stream",
     "text": [
      "accuracy: 0.8969399920519274\n",
      "0.8969399920519274\n",
      "              precision    recall  f1-score   support\n",
      "\n",
      "         0.0       0.88      0.98      0.93      4966\n",
      "         1.0       0.94      0.74      0.83      2583\n",
      "\n",
      "    accuracy                           0.90      7549\n",
      "   macro avg       0.91      0.86      0.88      7549\n",
      "weighted avg       0.90      0.90      0.89      7549\n",
      "\n"
     ]
    }
   ],
   "source": [
    "#abuse\n",
    "lr3=LogisticRegression()\n",
    "x=bal_abuse['comment_text']\n",
    "X=tfv.transform(x)\n",
    "y=bal_abuse['abuse']\n",
    "x_train, x_test, y_train, y_test = train_test_split(X, y, test_size=.33, random_state=42)\n",
    "\n",
    "\n",
    "lr3.fit(x_train,y_train)\n",
    "pred_log=lr3.predict(x_test)\n",
    "print(\"accuracy:\",accuracy_score(y_test,pred_log))\n",
    "print(accuracy_score(y_test,pred_log))\n",
    "print(classification_report(y_test,pred_log))"
   ]
  },
  {
   "cell_type": "code",
   "execution_count": 117,
   "metadata": {},
   "outputs": [
    {
     "name": "stdout",
     "output_type": "stream",
     "text": [
      "0.9052854682739435\n",
      "              precision    recall  f1-score   support\n",
      "\n",
      "         0.0       0.90      0.97      0.93      4966\n",
      "         1.0       0.93      0.78      0.85      2583\n",
      "\n",
      "    accuracy                           0.91      7549\n",
      "   macro avg       0.91      0.88      0.89      7549\n",
      "weighted avg       0.91      0.91      0.90      7549\n",
      "\n"
     ]
    }
   ],
   "source": [
    "#RandomForest\n",
    "rfc3=RandomForestClassifier(criterion='entropy')\n",
    "rfc3.fit(x_train,y_train)\n",
    "pred_rfc=rfc3.predict(x_test)\n",
    "print(accuracy_score(y_test,pred_rfc))\n",
    "print(classification_report(y_test,pred_rfc))"
   ]
  },
  {
   "cell_type": "code",
   "execution_count": 118,
   "metadata": {},
   "outputs": [
    {
     "name": "stdout",
     "output_type": "stream",
     "text": [
      "accuracy: 0.8451008645533141\n",
      "0.8451008645533141\n",
      "              precision    recall  f1-score   support\n",
      "\n",
      "         0.0       0.82      0.98      0.89       909\n",
      "         1.0       0.94      0.59      0.72       479\n",
      "\n",
      "    accuracy                           0.85      1388\n",
      "   macro avg       0.88      0.78      0.81      1388\n",
      "weighted avg       0.86      0.85      0.83      1388\n",
      "\n"
     ]
    }
   ],
   "source": [
    "#loathe\n",
    "lr4=LogisticRegression()\n",
    "x=bal_loathe['comment_text']\n",
    "X=tfv.transform(x)\n",
    "y=bal_loathe['loathe']\n",
    "x_train, x_test, y_train, y_test = train_test_split(X, y, test_size=.33, random_state=42)\n",
    "\n",
    "\n",
    "lr4.fit(x_train,y_train)\n",
    "pred_log=lr4.predict(x_test)\n",
    "print(\"accuracy:\",accuracy_score(y_test,pred_log))\n",
    "print(accuracy_score(y_test,pred_log))\n",
    "print(classification_report(y_test,pred_log))"
   ]
  },
  {
   "cell_type": "code",
   "execution_count": 119,
   "metadata": {},
   "outputs": [
    {
     "name": "stdout",
     "output_type": "stream",
     "text": [
      "0.8760806916426513\n",
      "              precision    recall  f1-score   support\n",
      "\n",
      "         0.0       0.86      0.97      0.91       909\n",
      "         1.0       0.92      0.71      0.80       479\n",
      "\n",
      "    accuracy                           0.88      1388\n",
      "   macro avg       0.89      0.84      0.85      1388\n",
      "weighted avg       0.88      0.88      0.87      1388\n",
      "\n"
     ]
    }
   ],
   "source": [
    "#RandomForest\n",
    "rfc4=RandomForestClassifier(criterion='entropy')\n",
    "rfc4.fit(x_train,y_train)\n",
    "pred_rfc=rfc4.predict(x_test)\n",
    "print(accuracy_score(y_test,pred_rfc))\n",
    "print(classification_report(y_test,pred_rfc))"
   ]
  },
  {
   "cell_type": "code",
   "execution_count": 120,
   "metadata": {},
   "outputs": [
    {
     "name": "stdout",
     "output_type": "stream",
     "text": [
      "accuracy: 0.8852999340804218\n",
      "0.8852999340804218\n",
      "              precision    recall  f1-score   support\n",
      "\n",
      "         0.0       0.86      0.98      0.92       974\n",
      "         1.0       0.94      0.72      0.82       543\n",
      "\n",
      "    accuracy                           0.89      1517\n",
      "   macro avg       0.90      0.85      0.87      1517\n",
      "weighted avg       0.89      0.89      0.88      1517\n",
      "\n"
     ]
    }
   ],
   "source": [
    "#highly malignant\n",
    "lr5=LogisticRegression()\n",
    "x=balanced_hmal['comment_text']\n",
    "X=tfv.transform(x)\n",
    "y=balanced_hmal['highly_malignant']\n",
    "x_train, x_test, y_train, y_test = train_test_split(X, y, test_size=.33, random_state=52)\n",
    "\n",
    "#tfv = TfidfVectorizer(ngram_range=(1,1), stop_words='english')\n",
    "#x_train_tfv5=tfv.transform(x_train)\n",
    "#x_test_tfv5=tfv.transform(x_test)\n",
    "lr5.fit(x_train,y_train)\n",
    "pred_log=lr5.predict(x_test)\n",
    "print(\"accuracy:\",accuracy_score(y_test,pred_log))\n",
    "print(accuracy_score(y_test,pred_log))\n",
    "print(classification_report(y_test,pred_log))"
   ]
  },
  {
   "cell_type": "code",
   "execution_count": 121,
   "metadata": {},
   "outputs": [
    {
     "name": "stdout",
     "output_type": "stream",
     "text": [
      "0.9301252471984179\n",
      "              precision    recall  f1-score   support\n",
      "\n",
      "         0.0       0.93      0.96      0.95       974\n",
      "         1.0       0.93      0.87      0.90       543\n",
      "\n",
      "    accuracy                           0.93      1517\n",
      "   macro avg       0.93      0.92      0.92      1517\n",
      "weighted avg       0.93      0.93      0.93      1517\n",
      "\n"
     ]
    }
   ],
   "source": [
    "#RandomForest\n",
    "rfc5=RandomForestClassifier(criterion='gini',min_samples_split= 4,n_estimators=300)\n",
    "rfc5.fit(x_train,y_train)\n",
    "pred_rfc=rfc5.predict(x_test)\n",
    "print(accuracy_score(y_test,pred_rfc))\n",
    "print(classification_report(y_test,pred_rfc))"
   ]
  },
  {
   "cell_type": "markdown",
   "metadata": {},
   "source": [
    "RandomForestClassifier was selected as our best model as it had a better f1_score than LogisticRegression."
   ]
  },
  {
   "cell_type": "markdown",
   "metadata": {},
   "source": [
    "HyperparameterTuning our model using Randomized Search CV."
   ]
  },
  {
   "cell_type": "code",
   "execution_count": 88,
   "metadata": {},
   "outputs": [],
   "source": [
    "from sklearn.model_selection import GridSearchCV,RandomizedSearchCV"
   ]
  },
  {
   "cell_type": "code",
   "execution_count": 94,
   "metadata": {},
   "outputs": [],
   "source": [
    "#Malignant\n",
    "x=balanced_dataset['comment_text']\n",
    "X=tfv.transform(x)\n",
    "y=balanced_dataset['malignant']\n",
    "\n",
    "x_train,x_test,y_train,y_test=train_test_split(X,y,test_size=0.33,random_state=101)"
   ]
  },
  {
   "cell_type": "code",
   "execution_count": 96,
   "metadata": {},
   "outputs": [],
   "source": [
    "\n",
    "model=RandomForestClassifier()\n",
    "parameters={'criterion':['gini','entropy'],\n",
    "            'n_estimators':[100,200,300,500],\n",
    "            'min_samples_split':range(2,10,2),\n",
    "           \n",
    "           }\n"
   ]
  },
  {
   "cell_type": "code",
   "execution_count": 97,
   "metadata": {},
   "outputs": [
    {
     "data": {
      "text/plain": [
       "RandomizedSearchCV(cv=5, estimator=RandomForestClassifier(), n_jobs=-1,\n",
       "                   param_distributions={'criterion': ['gini', 'entropy'],\n",
       "                                        'min_samples_split': range(2, 10, 2),\n",
       "                                        'n_estimators': [100, 200, 300, 500]})"
      ]
     },
     "execution_count": 97,
     "metadata": {},
     "output_type": "execute_result"
    }
   ],
   "source": [
    "grid_search=RandomizedSearchCV(estimator=model,param_distributions=parameters,cv=5,n_jobs=-1)\n",
    "grid_search.fit(x_train,y_train)"
   ]
  },
  {
   "cell_type": "code",
   "execution_count": 99,
   "metadata": {},
   "outputs": [
    {
     "name": "stdout",
     "output_type": "stream",
     "text": [
      "{'n_estimators': 300, 'min_samples_split': 4, 'criterion': 'gini'}\n"
     ]
    }
   ],
   "source": [
    "best_params=grid_search.best_params_\n",
    "print(best_params)"
   ]
  },
  {
   "cell_type": "code",
   "execution_count": 100,
   "metadata": {},
   "outputs": [
    {
     "data": {
      "text/plain": [
       "0.9469449679864763"
      ]
     },
     "execution_count": 100,
     "metadata": {},
     "output_type": "execute_result"
    }
   ],
   "source": [
    "grid_search.best_score_"
   ]
  },
  {
   "cell_type": "markdown",
   "metadata": {},
   "source": [
    "Different RandomForestClassifier algorithms were used for predicting the different target variables."
   ]
  },
  {
   "cell_type": "markdown",
   "metadata": {},
   "source": [
    "Saving the models using pickle"
   ]
  },
  {
   "cell_type": "code",
   "execution_count": 101,
   "metadata": {},
   "outputs": [
    {
     "data": {
      "text/html": [
       "<div>\n",
       "<style scoped>\n",
       "    .dataframe tbody tr th:only-of-type {\n",
       "        vertical-align: middle;\n",
       "    }\n",
       "\n",
       "    .dataframe tbody tr th {\n",
       "        vertical-align: top;\n",
       "    }\n",
       "\n",
       "    .dataframe thead th {\n",
       "        text-align: right;\n",
       "    }\n",
       "</style>\n",
       "<table border=\"1\" class=\"dataframe\">\n",
       "  <thead>\n",
       "    <tr style=\"text-align: right;\">\n",
       "      <th></th>\n",
       "      <th>id</th>\n",
       "      <th>comment_text</th>\n",
       "    </tr>\n",
       "  </thead>\n",
       "  <tbody>\n",
       "    <tr>\n",
       "      <th>0</th>\n",
       "      <td>00001cee341fdb12</td>\n",
       "      <td>Yo bitch Ja Rule is more succesful then you'll...</td>\n",
       "    </tr>\n",
       "    <tr>\n",
       "      <th>1</th>\n",
       "      <td>0000247867823ef7</td>\n",
       "      <td>== From RfC == \\n\\n The title is fine as it is...</td>\n",
       "    </tr>\n",
       "    <tr>\n",
       "      <th>2</th>\n",
       "      <td>00013b17ad220c46</td>\n",
       "      <td>\" \\n\\n == Sources == \\n\\n * Zawe Ashton on Lap...</td>\n",
       "    </tr>\n",
       "    <tr>\n",
       "      <th>3</th>\n",
       "      <td>00017563c3f7919a</td>\n",
       "      <td>:If you have a look back at the source, the in...</td>\n",
       "    </tr>\n",
       "    <tr>\n",
       "      <th>4</th>\n",
       "      <td>00017695ad8997eb</td>\n",
       "      <td>I don't anonymously edit articles at all.</td>\n",
       "    </tr>\n",
       "    <tr>\n",
       "      <th>...</th>\n",
       "      <td>...</td>\n",
       "      <td>...</td>\n",
       "    </tr>\n",
       "    <tr>\n",
       "      <th>153181</th>\n",
       "      <td>fffcd0960ee309b5</td>\n",
       "      <td>. \\n i totally agree, this stuff is nothing bu...</td>\n",
       "    </tr>\n",
       "    <tr>\n",
       "      <th>153182</th>\n",
       "      <td>fffd7a9a6eb32c16</td>\n",
       "      <td>== Throw from out field to home plate. == \\n\\n...</td>\n",
       "    </tr>\n",
       "    <tr>\n",
       "      <th>153183</th>\n",
       "      <td>fffda9e8d6fafa9e</td>\n",
       "      <td>\" \\n\\n == Okinotorishima categories == \\n\\n I ...</td>\n",
       "    </tr>\n",
       "    <tr>\n",
       "      <th>153184</th>\n",
       "      <td>fffe8f1340a79fc2</td>\n",
       "      <td>\" \\n\\n == \"\"One of the founding nations of the...</td>\n",
       "    </tr>\n",
       "    <tr>\n",
       "      <th>153185</th>\n",
       "      <td>ffffce3fb183ee80</td>\n",
       "      <td>\" \\n :::Stop already. Your bullshit is not wel...</td>\n",
       "    </tr>\n",
       "  </tbody>\n",
       "</table>\n",
       "<p>153186 rows × 2 columns</p>\n",
       "</div>"
      ],
      "text/plain": [
       "                      id                                       comment_text\n",
       "0       00001cee341fdb12  Yo bitch Ja Rule is more succesful then you'll...\n",
       "1       0000247867823ef7  == From RfC == \\n\\n The title is fine as it is...\n",
       "2       00013b17ad220c46  \" \\n\\n == Sources == \\n\\n * Zawe Ashton on Lap...\n",
       "3       00017563c3f7919a  :If you have a look back at the source, the in...\n",
       "4       00017695ad8997eb          I don't anonymously edit articles at all.\n",
       "...                  ...                                                ...\n",
       "153181  fffcd0960ee309b5  . \\n i totally agree, this stuff is nothing bu...\n",
       "153182  fffd7a9a6eb32c16  == Throw from out field to home plate. == \\n\\n...\n",
       "153183  fffda9e8d6fafa9e  \" \\n\\n == Okinotorishima categories == \\n\\n I ...\n",
       "153184  fffe8f1340a79fc2  \" \\n\\n == \"\"One of the founding nations of the...\n",
       "153185  ffffce3fb183ee80  \" \\n :::Stop already. Your bullshit is not wel...\n",
       "\n",
       "[153186 rows x 2 columns]"
      ]
     },
     "execution_count": 101,
     "metadata": {},
     "output_type": "execute_result"
    }
   ],
   "source": [
    "df_test=pd.read_csv('malignant_comments_classifier(test).csv',sep='\\t')\n",
    "df_test"
   ]
  },
  {
   "cell_type": "code",
   "execution_count": 102,
   "metadata": {},
   "outputs": [],
   "source": [
    "df_test.drop('id',axis=1,inplace=True)"
   ]
  },
  {
   "cell_type": "markdown",
   "metadata": {},
   "source": [
    "Performing the same type of data cleaning/preprocessing  operations on the test data as was done on the training data."
   ]
  },
  {
   "cell_type": "code",
   "execution_count": 105,
   "metadata": {},
   "outputs": [
    {
     "name": "stdout",
     "output_type": "stream",
     "text": [
      "  dear welcome wikipediaunfortunately using email address username good idea wikipedia content extensively copied site one visited sites world edit make wikipedia username attached using email address make tempting target spammers recommend change username wikipediachanging username order prevent abuseif need help simply contact talk page go wikipediahelp desk another option place talk page someone come shortly help remember sign posts talk pages four tildes  welcome  \n"
     ]
    }
   ],
   "source": [
    "#removing the stopwords\n",
    "clean=[]\n",
    "word=sent=''\n",
    "for i in df_test['comment_text']:\n",
    "    tokens=i.lower().split(\" \")\n",
    "    for token in tokens:\n",
    "        if token not in stop_words:\n",
    "            word=word+' '+token\n",
    "        sent=sent+word\n",
    "        word=''  \n",
    "    clean.append(sent)\n",
    "    sent=''\n",
    "print(clean[1000])\n",
    "        "
   ]
  },
  {
   "cell_type": "code",
   "execution_count": 106,
   "metadata": {},
   "outputs": [],
   "source": [
    "#Cleaning the text data\n",
    "\n",
    "alpha=lambda x:re.sub(r\"\\[[0-9]*\\]\",' ',x)\n",
    "\n",
    "alpha3=lambda x:x.lower()\n",
    "alpha4=lambda x:re.sub(r'[0-9]',' ',x)\n",
    "alpha5=lambda x:re.sub(r'\\s+',\" \",x)\n",
    "alpha6=lambda x:x.translate(str.maketrans(\"\",\"\",string.punctuation))\n",
    "df_test['comment_text']=df_test['comment_text'].map(alpha).map(alpha3).map(alpha4).map(alpha5).map(alpha6)"
   ]
  },
  {
   "cell_type": "code",
   "execution_count": 107,
   "metadata": {},
   "outputs": [
    {
     "data": {
      "text/plain": [
       "'yo bitch ja rule is more succesful then youll ever be whats up with you and hating you sad mofuckasi should bitch slap ur pethedic white faces and get you to kiss my ass you guys sicken me ja rule is about pride in da music man dont diss that shit on him and nothin is wrong bein like tupac he was a brother toofuckin white boys get things right next time'"
      ]
     },
     "execution_count": 107,
     "metadata": {},
     "output_type": "execute_result"
    }
   ],
   "source": [
    "df_test['comment_text'][0]"
   ]
  },
  {
   "cell_type": "code",
   "execution_count": 109,
   "metadata": {},
   "outputs": [
    {
     "data": {
      "text/plain": [
       "<153186x71786 sparse matrix of type '<class 'numpy.float64'>'\n",
       "\twith 3095302 stored elements in Compressed Sparse Row format>"
      ]
     },
     "execution_count": 109,
     "metadata": {},
     "output_type": "execute_result"
    }
   ],
   "source": [
    "\n",
    "#tfv = TfidfVectorizer(ngram_range=(1,1), stop_words='english')\n",
    "test_data=tfv.transform(df_test['comment_text'])\n",
    "test_data"
   ]
  },
  {
   "cell_type": "markdown",
   "metadata": {},
   "source": [
    "SAVING THE Random Forest Classifier MODEL FOR FUTURE USE"
   ]
  },
  {
   "cell_type": "code",
   "execution_count": 110,
   "metadata": {},
   "outputs": [],
   "source": [
    "import pickle\n",
    "filename1='malignant_comments_classifier.sav'\n",
    "pickle.dump(rfc1,open(filename1,'wb'))"
   ]
  },
  {
   "cell_type": "markdown",
   "metadata": {},
   "source": [
    "#for highly malignant comments"
   ]
  },
  {
   "cell_type": "code",
   "execution_count": 122,
   "metadata": {},
   "outputs": [],
   "source": [
    "filename2='highly_malignant_comments_classifier.sav'\n",
    "pickle.dump(rfc5,open(filename2,'wb'))"
   ]
  },
  {
   "cell_type": "markdown",
   "metadata": {},
   "source": [
    "FOR ABUSE TYPE COMMENTS"
   ]
  },
  {
   "cell_type": "code",
   "execution_count": 123,
   "metadata": {},
   "outputs": [],
   "source": [
    "filename3='abuse_comments_classifier.sav'\n",
    "pickle.dump(rfc3,open(filename3,'wb'))"
   ]
  },
  {
   "cell_type": "markdown",
   "metadata": {},
   "source": [
    "FOR COMMENTS POSING THREAT"
   ]
  },
  {
   "cell_type": "code",
   "execution_count": 124,
   "metadata": {},
   "outputs": [],
   "source": [
    "filename4='threatning_comments_classifier.sav'\n",
    "pickle.dump(rfc2,open(filename4,'wb'))"
   ]
  },
  {
   "cell_type": "markdown",
   "metadata": {},
   "source": [
    "FOR LOATHE TYPE OF COMMENTS"
   ]
  },
  {
   "cell_type": "code",
   "execution_count": 125,
   "metadata": {},
   "outputs": [],
   "source": [
    "filename5='loathe_comments_classifier.sav'\n",
    "pickle.dump(rfc4,open(filename5,'wb'))"
   ]
  },
  {
   "cell_type": "code",
   "execution_count": 126,
   "metadata": {},
   "outputs": [],
   "source": [
    "#Saving the tf-idf vectorizer trained on the dataset\n",
    "filename6='comments_classifier(vectorizer).sav'\n",
    "pickle.dump(tfv,open(filename6,'wb'))"
   ]
  },
  {
   "cell_type": "markdown",
   "metadata": {},
   "source": [
    "RELOADING THE MODELS FOR MAKING PREDICTIONS ON THE TEST DATA"
   ]
  },
  {
   "cell_type": "code",
   "execution_count": 127,
   "metadata": {},
   "outputs": [],
   "source": [
    "load_model1=pickle.load(open(filename1,'rb'))"
   ]
  },
  {
   "cell_type": "code",
   "execution_count": 128,
   "metadata": {},
   "outputs": [
    {
     "data": {
      "text/plain": [
       "array([[0.15      , 0.85      ],\n",
       "       [0.92802817, 0.07197183],\n",
       "       [0.93434705, 0.06565295],\n",
       "       ...,\n",
       "       [0.84      , 0.16      ],\n",
       "       [0.92      , 0.08      ],\n",
       "       [0.18      , 0.82      ]])"
      ]
     },
     "execution_count": 128,
     "metadata": {},
     "output_type": "execute_result"
    }
   ],
   "source": [
    "predictions1=load_model1.predict_proba(test_data)\n",
    "predictions1"
   ]
  },
  {
   "cell_type": "code",
   "execution_count": 129,
   "metadata": {},
   "outputs": [],
   "source": [
    "#for highly malignant\n",
    "load_model2=pickle.load(open(filename2,'rb'))"
   ]
  },
  {
   "cell_type": "code",
   "execution_count": 130,
   "metadata": {},
   "outputs": [
    {
     "data": {
      "text/plain": [
       "array([[0.32887698, 0.67112302],\n",
       "       [0.89580291, 0.10419709],\n",
       "       [0.88100132, 0.11899868],\n",
       "       ...,\n",
       "       [0.96268254, 0.03731746],\n",
       "       [0.95357143, 0.04642857],\n",
       "       [0.81215873, 0.18784127]])"
      ]
     },
     "execution_count": 130,
     "metadata": {},
     "output_type": "execute_result"
    }
   ],
   "source": [
    "predictions2=load_model2.predict_proba(test_data)\n",
    "predictions2"
   ]
  },
  {
   "cell_type": "code",
   "execution_count": 131,
   "metadata": {},
   "outputs": [],
   "source": [
    "#for abusive comments\n",
    "load_model3=pickle.load(open(filename3,'rb'))"
   ]
  },
  {
   "cell_type": "code",
   "execution_count": 132,
   "metadata": {},
   "outputs": [
    {
     "data": {
      "text/plain": [
       "array([[0.16      , 0.84      ],\n",
       "       [0.95360665, 0.04639335],\n",
       "       [0.9338261 , 0.0661739 ],\n",
       "       ...,\n",
       "       [0.96489496, 0.03510504],\n",
       "       [0.97875   , 0.02125   ],\n",
       "       [0.48      , 0.52      ]])"
      ]
     },
     "execution_count": 132,
     "metadata": {},
     "output_type": "execute_result"
    }
   ],
   "source": [
    "predictions3=load_model3.predict_proba(test_data)\n",
    "predictions3"
   ]
  },
  {
   "cell_type": "code",
   "execution_count": 133,
   "metadata": {},
   "outputs": [],
   "source": [
    "#for threatning comments\n",
    "load_model4=pickle.load(open(filename4,'rb'))"
   ]
  },
  {
   "cell_type": "code",
   "execution_count": 134,
   "metadata": {},
   "outputs": [
    {
     "data": {
      "text/plain": [
       "array([[0.52, 0.48],\n",
       "       [0.72, 0.28],\n",
       "       [0.96, 0.04],\n",
       "       ...,\n",
       "       [0.94, 0.06],\n",
       "       [0.93, 0.07],\n",
       "       [0.72, 0.28]])"
      ]
     },
     "execution_count": 134,
     "metadata": {},
     "output_type": "execute_result"
    }
   ],
   "source": [
    "predictions4=load_model4.predict_proba(test_data)\n",
    "predictions4"
   ]
  },
  {
   "cell_type": "code",
   "execution_count": 135,
   "metadata": {},
   "outputs": [],
   "source": [
    "#for loathe type of comments\n",
    "load_model5=pickle.load(open(filename5,'rb'))"
   ]
  },
  {
   "cell_type": "code",
   "execution_count": 136,
   "metadata": {},
   "outputs": [
    {
     "data": {
      "text/plain": [
       "array([[0.31833333, 0.68166667],\n",
       "       [0.78862193, 0.21137807],\n",
       "       [0.87904257, 0.12095743],\n",
       "       ...,\n",
       "       [0.88882035, 0.11117965],\n",
       "       [0.59125   , 0.40875   ],\n",
       "       [0.74      , 0.26      ]])"
      ]
     },
     "execution_count": 136,
     "metadata": {},
     "output_type": "execute_result"
    }
   ],
   "source": [
    "predictions5=load_model5.predict_proba(test_data)\n",
    "predictions5"
   ]
  },
  {
   "cell_type": "markdown",
   "metadata": {},
   "source": [
    "CALCULATING PROBABILITY OF EACH OF THE COMMENTS FALLING UNDER DIFFERENT CATEGORIES."
   ]
  },
  {
   "cell_type": "markdown",
   "metadata": {},
   "source": [
    "CREATING A DATAFRAME FOR THE TEST DATA AND ITS PREDICTIONS"
   ]
  },
  {
   "cell_type": "code",
   "execution_count": 137,
   "metadata": {},
   "outputs": [],
   "source": [
    "text=list(df_test['comment_text'])\n",
    "malignant=list(predictions1[:,1])\n",
    "h_malignant=list(predictions2[:,1])\n",
    "abuse=list(predictions3[:,1])\n",
    "threat=list(predictions4[:,1])\n",
    "loathe=list(predictions5[:,1])"
   ]
  },
  {
   "cell_type": "code",
   "execution_count": 138,
   "metadata": {},
   "outputs": [],
   "source": [
    "DICTIONARY={'comment_text':text,'malignant(in%)':malignant,'highly_malignant(in%)':h_malignant,'abuse(in%)':abuse,'threat(in%)':threat,'loathe(in%)':loathe}"
   ]
  },
  {
   "cell_type": "markdown",
   "metadata": {},
   "source": [
    "The test dataset with the comment text along with the respective probabilities of the comment falling under different categories."
   ]
  },
  {
   "cell_type": "code",
   "execution_count": 139,
   "metadata": {},
   "outputs": [
    {
     "data": {
      "text/html": [
       "<div>\n",
       "<style scoped>\n",
       "    .dataframe tbody tr th:only-of-type {\n",
       "        vertical-align: middle;\n",
       "    }\n",
       "\n",
       "    .dataframe tbody tr th {\n",
       "        vertical-align: top;\n",
       "    }\n",
       "\n",
       "    .dataframe thead th {\n",
       "        text-align: right;\n",
       "    }\n",
       "</style>\n",
       "<table border=\"1\" class=\"dataframe\">\n",
       "  <thead>\n",
       "    <tr style=\"text-align: right;\">\n",
       "      <th></th>\n",
       "      <th>comment_text</th>\n",
       "      <th>malignant(in%)</th>\n",
       "      <th>highly_malignant(in%)</th>\n",
       "      <th>abuse(in%)</th>\n",
       "      <th>threat(in%)</th>\n",
       "      <th>loathe(in%)</th>\n",
       "    </tr>\n",
       "  </thead>\n",
       "  <tbody>\n",
       "    <tr>\n",
       "      <th>0</th>\n",
       "      <td>yo bitch ja rule is more succesful then youll ...</td>\n",
       "      <td>0.850000</td>\n",
       "      <td>0.671123</td>\n",
       "      <td>0.840000</td>\n",
       "      <td>0.48</td>\n",
       "      <td>0.681667</td>\n",
       "    </tr>\n",
       "    <tr>\n",
       "      <th>1</th>\n",
       "      <td>from rfc the title is fine as it is imo</td>\n",
       "      <td>0.071972</td>\n",
       "      <td>0.104197</td>\n",
       "      <td>0.046393</td>\n",
       "      <td>0.28</td>\n",
       "      <td>0.211378</td>\n",
       "    </tr>\n",
       "    <tr>\n",
       "      <th>2</th>\n",
       "      <td>sources zawe ashton on lapland â€”</td>\n",
       "      <td>0.065653</td>\n",
       "      <td>0.118999</td>\n",
       "      <td>0.066174</td>\n",
       "      <td>0.04</td>\n",
       "      <td>0.120957</td>\n",
       "    </tr>\n",
       "    <tr>\n",
       "      <th>3</th>\n",
       "      <td>if you have a look back at the source the info...</td>\n",
       "      <td>0.090000</td>\n",
       "      <td>0.058710</td>\n",
       "      <td>0.030000</td>\n",
       "      <td>0.08</td>\n",
       "      <td>0.020000</td>\n",
       "    </tr>\n",
       "    <tr>\n",
       "      <th>4</th>\n",
       "      <td>i dont anonymously edit articles at all</td>\n",
       "      <td>0.540000</td>\n",
       "      <td>0.252218</td>\n",
       "      <td>0.430625</td>\n",
       "      <td>0.18</td>\n",
       "      <td>0.190000</td>\n",
       "    </tr>\n",
       "    <tr>\n",
       "      <th>...</th>\n",
       "      <td>...</td>\n",
       "      <td>...</td>\n",
       "      <td>...</td>\n",
       "      <td>...</td>\n",
       "      <td>...</td>\n",
       "      <td>...</td>\n",
       "    </tr>\n",
       "    <tr>\n",
       "      <th>153181</th>\n",
       "      <td>i totally agree this stuff is nothing but too...</td>\n",
       "      <td>0.160000</td>\n",
       "      <td>0.105726</td>\n",
       "      <td>0.125480</td>\n",
       "      <td>0.18</td>\n",
       "      <td>0.098095</td>\n",
       "    </tr>\n",
       "    <tr>\n",
       "      <th>153182</th>\n",
       "      <td>throw from out field to home plate does it ge...</td>\n",
       "      <td>0.483599</td>\n",
       "      <td>0.157780</td>\n",
       "      <td>0.285059</td>\n",
       "      <td>0.23</td>\n",
       "      <td>0.320763</td>\n",
       "    </tr>\n",
       "    <tr>\n",
       "      <th>153183</th>\n",
       "      <td>okinotorishima categories i see your changes ...</td>\n",
       "      <td>0.160000</td>\n",
       "      <td>0.037317</td>\n",
       "      <td>0.035105</td>\n",
       "      <td>0.06</td>\n",
       "      <td>0.111180</td>\n",
       "    </tr>\n",
       "    <tr>\n",
       "      <th>153184</th>\n",
       "      <td>one of the founding nations of the eu germany...</td>\n",
       "      <td>0.080000</td>\n",
       "      <td>0.046429</td>\n",
       "      <td>0.021250</td>\n",
       "      <td>0.07</td>\n",
       "      <td>0.408750</td>\n",
       "    </tr>\n",
       "    <tr>\n",
       "      <th>153185</th>\n",
       "      <td>stop already your bullshit is not welcome her...</td>\n",
       "      <td>0.820000</td>\n",
       "      <td>0.187841</td>\n",
       "      <td>0.520000</td>\n",
       "      <td>0.28</td>\n",
       "      <td>0.260000</td>\n",
       "    </tr>\n",
       "  </tbody>\n",
       "</table>\n",
       "<p>153186 rows × 6 columns</p>\n",
       "</div>"
      ],
      "text/plain": [
       "                                             comment_text  malignant(in%)  \\\n",
       "0       yo bitch ja rule is more succesful then youll ...        0.850000   \n",
       "1                 from rfc the title is fine as it is imo        0.071972   \n",
       "2                     sources zawe ashton on lapland â€”         0.065653   \n",
       "3       if you have a look back at the source the info...        0.090000   \n",
       "4                 i dont anonymously edit articles at all        0.540000   \n",
       "...                                                   ...             ...   \n",
       "153181   i totally agree this stuff is nothing but too...        0.160000   \n",
       "153182   throw from out field to home plate does it ge...        0.483599   \n",
       "153183   okinotorishima categories i see your changes ...        0.160000   \n",
       "153184   one of the founding nations of the eu germany...        0.080000   \n",
       "153185   stop already your bullshit is not welcome her...        0.820000   \n",
       "\n",
       "        highly_malignant(in%)  abuse(in%)  threat(in%)  loathe(in%)  \n",
       "0                    0.671123    0.840000         0.48     0.681667  \n",
       "1                    0.104197    0.046393         0.28     0.211378  \n",
       "2                    0.118999    0.066174         0.04     0.120957  \n",
       "3                    0.058710    0.030000         0.08     0.020000  \n",
       "4                    0.252218    0.430625         0.18     0.190000  \n",
       "...                       ...         ...          ...          ...  \n",
       "153181               0.105726    0.125480         0.18     0.098095  \n",
       "153182               0.157780    0.285059         0.23     0.320763  \n",
       "153183               0.037317    0.035105         0.06     0.111180  \n",
       "153184               0.046429    0.021250         0.07     0.408750  \n",
       "153185               0.187841    0.520000         0.28     0.260000  \n",
       "\n",
       "[153186 rows x 6 columns]"
      ]
     },
     "execution_count": 139,
     "metadata": {},
     "output_type": "execute_result"
    }
   ],
   "source": [
    "test_result=pd.DataFrame(data=DICTIONARY)\n",
    "test_result"
   ]
  },
  {
   "cell_type": "markdown",
   "metadata": {},
   "source": [
    "STORING PREDICTIONS(in terms of probability) MADE ON TEST DATA IN A CSV FILE."
   ]
  },
  {
   "cell_type": "code",
   "execution_count": 140,
   "metadata": {},
   "outputs": [],
   "source": [
    "test_result.to_csv('comments_classifier(predicted)')"
   ]
  },
  {
   "cell_type": "markdown",
   "metadata": {},
   "source": [
    "END OF WORKSHEET"
   ]
  },
  {
   "cell_type": "code",
   "execution_count": null,
   "metadata": {},
   "outputs": [],
   "source": []
  },
  {
   "cell_type": "code",
   "execution_count": null,
   "metadata": {},
   "outputs": [],
   "source": []
  }
 ],
 "metadata": {
  "kernelspec": {
   "display_name": "Python 3",
   "language": "python",
   "name": "python3"
  },
  "language_info": {
   "codemirror_mode": {
    "name": "ipython",
    "version": 3
   },
   "file_extension": ".py",
   "mimetype": "text/x-python",
   "name": "python",
   "nbconvert_exporter": "python",
   "pygments_lexer": "ipython3",
   "version": "3.8.5"
  }
 },
 "nbformat": 4,
 "nbformat_minor": 4
}
