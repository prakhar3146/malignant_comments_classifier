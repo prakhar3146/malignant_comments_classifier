{
 "cells": [
  {
   "cell_type": "code",
   "execution_count": 6,
   "metadata": {},
   "outputs": [],
   "source": [
    "import pandas as pd \n",
    "import numpy as np\n",
    "import matplotlib.pyplot as plt\n",
    "import seaborn as sns\n",
    "import scipy.stats\n",
    "import warnings\n",
    "warnings.filterwarnings('ignore')\n",
    "pd.pandas.set_option('display.max_columns',None)\n"
   ]
  },
  {
   "cell_type": "code",
   "execution_count": 7,
   "metadata": {},
   "outputs": [
    {
     "data": {
      "text/html": [
       "<div>\n",
       "<style scoped>\n",
       "    .dataframe tbody tr th:only-of-type {\n",
       "        vertical-align: middle;\n",
       "    }\n",
       "\n",
       "    .dataframe tbody tr th {\n",
       "        vertical-align: top;\n",
       "    }\n",
       "\n",
       "    .dataframe thead th {\n",
       "        text-align: right;\n",
       "    }\n",
       "</style>\n",
       "<table border=\"1\" class=\"dataframe\">\n",
       "  <thead>\n",
       "    <tr style=\"text-align: right;\">\n",
       "      <th></th>\n",
       "      <th>id</th>\n",
       "      <th>comment_text</th>\n",
       "      <th>malignant</th>\n",
       "      <th>highly_malignant</th>\n",
       "      <th>rude</th>\n",
       "      <th>threat</th>\n",
       "      <th>abuse</th>\n",
       "      <th>loathe</th>\n",
       "    </tr>\n",
       "  </thead>\n",
       "  <tbody>\n",
       "    <tr>\n",
       "      <th>0</th>\n",
       "      <td>0000997932d777bf</td>\n",
       "      <td>Explanation\\nWhy the edits made under my usern...</td>\n",
       "      <td>0.0</td>\n",
       "      <td>0.0</td>\n",
       "      <td>0.0</td>\n",
       "      <td>0.0</td>\n",
       "      <td>0.0</td>\n",
       "      <td>0.0</td>\n",
       "    </tr>\n",
       "    <tr>\n",
       "      <th>1</th>\n",
       "      <td>000103f0d9cfb60f</td>\n",
       "      <td>D'aww! He matches this background colour I'm s...</td>\n",
       "      <td>0.0</td>\n",
       "      <td>0.0</td>\n",
       "      <td>0.0</td>\n",
       "      <td>0.0</td>\n",
       "      <td>0.0</td>\n",
       "      <td>0.0</td>\n",
       "    </tr>\n",
       "    <tr>\n",
       "      <th>2</th>\n",
       "      <td>000113f07ec002fd</td>\n",
       "      <td>Hey man, I'm really not trying to edit war. It...</td>\n",
       "      <td>0.0</td>\n",
       "      <td>0.0</td>\n",
       "      <td>0.0</td>\n",
       "      <td>0.0</td>\n",
       "      <td>0.0</td>\n",
       "      <td>0.0</td>\n",
       "    </tr>\n",
       "    <tr>\n",
       "      <th>3</th>\n",
       "      <td>0001b41b1c6bb37e</td>\n",
       "      <td>\"\\nMore\\nI can't make any real suggestions on ...</td>\n",
       "      <td>0.0</td>\n",
       "      <td>0.0</td>\n",
       "      <td>0.0</td>\n",
       "      <td>0.0</td>\n",
       "      <td>0.0</td>\n",
       "      <td>0.0</td>\n",
       "    </tr>\n",
       "    <tr>\n",
       "      <th>4</th>\n",
       "      <td>0001d958c54c6e35</td>\n",
       "      <td>You, sir, are my hero. Any chance you remember...</td>\n",
       "      <td>0.0</td>\n",
       "      <td>0.0</td>\n",
       "      <td>0.0</td>\n",
       "      <td>0.0</td>\n",
       "      <td>0.0</td>\n",
       "      <td>0.0</td>\n",
       "    </tr>\n",
       "    <tr>\n",
       "      <th>...</th>\n",
       "      <td>...</td>\n",
       "      <td>...</td>\n",
       "      <td>...</td>\n",
       "      <td>...</td>\n",
       "      <td>...</td>\n",
       "      <td>...</td>\n",
       "      <td>...</td>\n",
       "      <td>...</td>\n",
       "    </tr>\n",
       "    <tr>\n",
       "      <th>159616</th>\n",
       "      <td>ffe987279560d7ff</td>\n",
       "      <td>\":::::And for the second time of asking, when ...</td>\n",
       "      <td>0.0</td>\n",
       "      <td>0.0</td>\n",
       "      <td>0.0</td>\n",
       "      <td>0.0</td>\n",
       "      <td>0.0</td>\n",
       "      <td>0.0</td>\n",
       "    </tr>\n",
       "    <tr>\n",
       "      <th>159617</th>\n",
       "      <td>ffea4adeee384e90</td>\n",
       "      <td>You should be ashamed of yourself \\n\\nThat is ...</td>\n",
       "      <td>0.0</td>\n",
       "      <td>0.0</td>\n",
       "      <td>0.0</td>\n",
       "      <td>0.0</td>\n",
       "      <td>0.0</td>\n",
       "      <td>0.0</td>\n",
       "    </tr>\n",
       "    <tr>\n",
       "      <th>159618</th>\n",
       "      <td>ffee36eab5c267c9</td>\n",
       "      <td>Spitzer \\n\\nUmm, theres no actual article for ...</td>\n",
       "      <td>0.0</td>\n",
       "      <td>0.0</td>\n",
       "      <td>0.0</td>\n",
       "      <td>0.0</td>\n",
       "      <td>0.0</td>\n",
       "      <td>0.0</td>\n",
       "    </tr>\n",
       "    <tr>\n",
       "      <th>159619</th>\n",
       "      <td>fff125370e4aaaf3</td>\n",
       "      <td>And it looks like it was actually you who put ...</td>\n",
       "      <td>0.0</td>\n",
       "      <td>0.0</td>\n",
       "      <td>0.0</td>\n",
       "      <td>0.0</td>\n",
       "      <td>0.0</td>\n",
       "      <td>0.0</td>\n",
       "    </tr>\n",
       "    <tr>\n",
       "      <th>159620</th>\n",
       "      <td>fff46fc426af1f9a</td>\n",
       "      <td>\"\\nAnd ... I really don't think you understand...</td>\n",
       "      <td>0.0</td>\n",
       "      <td>0.0</td>\n",
       "      <td>0.0</td>\n",
       "      <td>0.0</td>\n",
       "      <td>0.0</td>\n",
       "      <td>0.0</td>\n",
       "    </tr>\n",
       "  </tbody>\n",
       "</table>\n",
       "<p>159621 rows × 8 columns</p>\n",
       "</div>"
      ],
      "text/plain": [
       "                      id                                       comment_text  \\\n",
       "0       0000997932d777bf  Explanation\\nWhy the edits made under my usern...   \n",
       "1       000103f0d9cfb60f  D'aww! He matches this background colour I'm s...   \n",
       "2       000113f07ec002fd  Hey man, I'm really not trying to edit war. It...   \n",
       "3       0001b41b1c6bb37e  \"\\nMore\\nI can't make any real suggestions on ...   \n",
       "4       0001d958c54c6e35  You, sir, are my hero. Any chance you remember...   \n",
       "...                  ...                                                ...   \n",
       "159616  ffe987279560d7ff  \":::::And for the second time of asking, when ...   \n",
       "159617  ffea4adeee384e90  You should be ashamed of yourself \\n\\nThat is ...   \n",
       "159618  ffee36eab5c267c9  Spitzer \\n\\nUmm, theres no actual article for ...   \n",
       "159619  fff125370e4aaaf3  And it looks like it was actually you who put ...   \n",
       "159620  fff46fc426af1f9a  \"\\nAnd ... I really don't think you understand...   \n",
       "\n",
       "        malignant  highly_malignant  rude  threat  abuse  loathe  \n",
       "0             0.0               0.0   0.0     0.0    0.0     0.0  \n",
       "1             0.0               0.0   0.0     0.0    0.0     0.0  \n",
       "2             0.0               0.0   0.0     0.0    0.0     0.0  \n",
       "3             0.0               0.0   0.0     0.0    0.0     0.0  \n",
       "4             0.0               0.0   0.0     0.0    0.0     0.0  \n",
       "...           ...               ...   ...     ...    ...     ...  \n",
       "159616        0.0               0.0   0.0     0.0    0.0     0.0  \n",
       "159617        0.0               0.0   0.0     0.0    0.0     0.0  \n",
       "159618        0.0               0.0   0.0     0.0    0.0     0.0  \n",
       "159619        0.0               0.0   0.0     0.0    0.0     0.0  \n",
       "159620        0.0               0.0   0.0     0.0    0.0     0.0  \n",
       "\n",
       "[159621 rows x 8 columns]"
      ]
     },
     "execution_count": 7,
     "metadata": {},
     "output_type": "execute_result"
    }
   ],
   "source": [
    "df=pd.read_csv('malignant_comments.csv',sep=\"\\t\")\n",
    "df"
   ]
  },
  {
   "cell_type": "markdown",
   "metadata": {},
   "source": [
    "EXPLORATORY DATA ANALYSIS"
   ]
  },
  {
   "cell_type": "markdown",
   "metadata": {},
   "source": [
    "Analysing the dataset value counts using countplot"
   ]
  },
  {
   "cell_type": "code",
   "execution_count": 8,
   "metadata": {},
   "outputs": [
    {
     "name": "stdout",
     "output_type": "stream",
     "text": [
      "0.0    144239\n",
      "1.0     15289\n",
      "Name: malignant, dtype: int64\n"
     ]
    },
    {
     "data": {
      "image/png": "[encoded data removed]",
      "text/plain": [
       "<Figure size 432x288 with 1 Axes>"
      ]
     },
     "metadata": {
      "needs_background": "light"
     },
     "output_type": "display_data"
    }
   ],
   "source": [
    "ax=sns.countplot('malignant',data=df)\n",
    "print(df['malignant'].value_counts())"
   ]
  },
  {
   "cell_type": "markdown",
   "metadata": {},
   "source": [
    "The target variable(malignant) is highly imbalanced with the 'NO'(0.0) class having 1,44,239(90% approx.) instances and the 'YES'(1.0) having only 15,289 instances."
   ]
  },
  {
   "cell_type": "code",
   "execution_count": 9,
   "metadata": {},
   "outputs": [
    {
     "name": "stdout",
     "output_type": "stream",
     "text": [
      "0.0    157932\n",
      "1.0      1596\n",
      "Name: highly_malignant, dtype: int64\n"
     ]
    },
    {
     "data": {
      "image/png": "[encoded data removed]",
      "text/plain": [
       "<Figure size 432x288 with 1 Axes>"
      ]
     },
     "metadata": {
      "needs_background": "light"
     },
     "output_type": "display_data"
    }
   ],
   "source": [
    "ax=sns.countplot('highly_malignant',data=df)\n",
    "print(df['highly_malignant'].value_counts())"
   ]
  },
  {
   "cell_type": "markdown",
   "metadata": {},
   "source": [
    "The 'highly_malignant' feature also has an imbalanced distribution with 0.0('NO') class constituting almost 99%(1,57,932) of the feature's data whereas 1.0('YES') category has only 1,596."
   ]
  },
  {
   "cell_type": "code",
   "execution_count": 10,
   "metadata": {},
   "outputs": [
    {
     "name": "stdout",
     "output_type": "stream",
     "text": [
      "0.0    151084\n",
      "1.0      8444\n",
      "Name: rude, dtype: int64\n"
     ]
    },
    {
     "data": {
      "image/png": "[encoded data removed]",
      "text/plain": [
       "<Figure size 432x288 with 1 Axes>"
      ]
     },
     "metadata": {
      "needs_background": "light"
     },
     "output_type": "display_data"
    }
   ],
   "source": [
    "ax=sns.countplot('rude',data=df)\n",
    "print(df['rude'].value_counts())"
   ]
  },
  {
   "cell_type": "markdown",
   "metadata": {},
   "source": [
    "The rude feature is also imbalanced with 0.0('NO') category constituting 1,51,084(95% approx.) and \"YES\" category constituting 8,444(5% approx)."
   ]
  },
  {
   "cell_type": "code",
   "execution_count": 11,
   "metadata": {},
   "outputs": [
    {
     "name": "stdout",
     "output_type": "stream",
     "text": [
      "0.0    159050\n",
      "1.0       478\n",
      "Name: threat, dtype: int64\n"
     ]
    },
    {
     "data": {
      "image/png": "[encoded data removed]",
      "text/plain": [
       "<Figure size 432x288 with 1 Axes>"
      ]
     },
     "metadata": {
      "needs_background": "light"
     },
     "output_type": "display_data"
    }
   ],
   "source": [
    "ax=sns.countplot('threat',data=df)\n",
    "print(df['threat'].value_counts())"
   ]
  },
  {
   "cell_type": "markdown",
   "metadata": {},
   "source": [
    "The threat feature was highly imbalanced with 0.0('NO') category constituting 1,59,050(99.5% approx.) of the data and 1.0('YES') having only 478 instances."
   ]
  },
  {
   "cell_type": "code",
   "execution_count": 12,
   "metadata": {},
   "outputs": [
    {
     "name": "stdout",
     "output_type": "stream",
     "text": [
      "0.0    151653\n",
      "1.0      7875\n",
      "Name: abuse, dtype: int64\n"
     ]
    },
    {
     "data": {
      "image/png": "[encoded data removed]",
      "text/plain": [
       "<Figure size 432x288 with 1 Axes>"
      ]
     },
     "metadata": {
      "needs_background": "light"
     },
     "output_type": "display_data"
    }
   ],
   "source": [
    "ax=sns.countplot('abuse',data=df)\n",
    "print(df['abuse'].value_counts())"
   ]
  },
  {
   "cell_type": "markdown",
   "metadata": {},
   "source": [
    "The abuse feature was also highly imbalanced with 0.0('NO') category constituting 1,51,653(95% approx.) and 1.0('YES') constituting 7875(5% approx) of the data."
   ]
  },
  {
   "cell_type": "code",
   "execution_count": 13,
   "metadata": {},
   "outputs": [
    {
     "name": "stdout",
     "output_type": "stream",
     "text": [
      "0.0    158104\n",
      "1.0      1405\n",
      "Name: loathe, dtype: int64\n"
     ]
    },
    {
     "data": {
      "image/png": "[encoded data removed]",
      "text/plain": [
       "<Figure size 432x288 with 1 Axes>"
      ]
     },
     "metadata": {
      "needs_background": "light"
     },
     "output_type": "display_data"
    }
   ],
   "source": [
    "ax=sns.countplot('loathe',data=df)\n",
    "print(df['loathe'].value_counts())"
   ]
  },
  {
   "cell_type": "markdown",
   "metadata": {},
   "source": [
    "The loathe feature is highly imbalanced with 0.0('NO') category having 1,58,104(99% approx.) and 1.0('YES') has only 1,405 instances."
   ]
  },
  {
   "cell_type": "markdown",
   "metadata": {},
   "source": [
    "Checking for missing values"
   ]
  },
  {
   "cell_type": "code",
   "execution_count": 14,
   "metadata": {},
   "outputs": [
    {
     "data": {
      "text/plain": [
       "id                    0\n",
       "comment_text         74\n",
       "malignant            93\n",
       "highly_malignant     93\n",
       "rude                 93\n",
       "threat               93\n",
       "abuse                93\n",
       "loathe              112\n",
       "dtype: int64"
      ]
     },
     "execution_count": 14,
     "metadata": {},
     "output_type": "execute_result"
    }
   ],
   "source": [
    "df.isnull().sum()"
   ]
  },
  {
   "cell_type": "markdown",
   "metadata": {},
   "source": [
    "Dropping the rows having missing values as the number of rows having them are negligible when compared to the dataset,hence not performing any replace operations as it may mislead the model."
   ]
  },
  {
   "cell_type": "code",
   "execution_count": 15,
   "metadata": {},
   "outputs": [
    {
     "data": {
      "text/plain": [
       "id                  0\n",
       "comment_text        0\n",
       "malignant           0\n",
       "highly_malignant    0\n",
       "rude                0\n",
       "threat              0\n",
       "abuse               0\n",
       "loathe              0\n",
       "dtype: int64"
      ]
     },
     "execution_count": 15,
     "metadata": {},
     "output_type": "execute_result"
    }
   ],
   "source": [
    "df_new=df.dropna()\n",
    "df_new.isnull().sum()"
   ]
  },
  {
   "cell_type": "code",
   "execution_count": 16,
   "metadata": {},
   "outputs": [
    {
     "data": {
      "text/plain": [
       "(159509, 8)"
      ]
     },
     "execution_count": 16,
     "metadata": {},
     "output_type": "execute_result"
    }
   ],
   "source": [
    "df_new.shape"
   ]
  },
  {
   "cell_type": "markdown",
   "metadata": {},
   "source": [
    "Now comparing the independent features with the target features"
   ]
  },
  {
   "cell_type": "code",
   "execution_count": 17,
   "metadata": {},
   "outputs": [
    {
     "data": {
      "text/plain": [
       "<AxesSubplot:xlabel='highly_malignant', ylabel='malignant'>"
      ]
     },
     "execution_count": 17,
     "metadata": {},
     "output_type": "execute_result"
    },
    {
     "data": {
      "image/png": "[encoded data removed]",
      "text/plain": [
       "<Figure size 432x288 with 1 Axes>"
      ]
     },
     "metadata": {
      "needs_background": "light"
     },
     "output_type": "display_data"
    }
   ],
   "source": [
    "sns.barplot(x='highly_malignant',y='malignant',data=df_new)"
   ]
  },
  {
   "cell_type": "code",
   "execution_count": 18,
   "metadata": {},
   "outputs": [
    {
     "data": {
      "text/plain": [
       "malignant\n",
       "0.0    144220\n",
       "1.0     15289\n",
       "Name: highly_malignant, dtype: int64"
      ]
     },
     "execution_count": 18,
     "metadata": {},
     "output_type": "execute_result"
    }
   ],
   "source": [
    "#df_grp=['highly_malignant','malignant']\n",
    "df_group=df_new.groupby('malignant')['highly_malignant'].count()\n",
    "df_group"
   ]
  },
  {
   "cell_type": "code",
   "execution_count": 19,
   "metadata": {},
   "outputs": [],
   "source": [
    "count1=count2=count3=count4=0\n",
    "for i in range(0,len(df)):\n",
    "    if(df['malignant'][i]==1.0):\n",
    "        if(df['malignant'][i]==1.0)and(df['highly_malignant'][i]==1.0):\n",
    "            count1=count1+1\n",
    "        elif(df['malignant'][i]==1.0)and(df['highly_malignant'][i]!=1.0):\n",
    "            count2=count2+1\n",
    "        elif(df['malignant'][i]!=1.0) and(df['highly_malignant'][i]==1.0):\n",
    "            count3=count3+1\n",
    "    else:\n",
    "        count4=count4+1"
   ]
  },
  {
   "cell_type": "code",
   "execution_count": 20,
   "metadata": {},
   "outputs": [
    {
     "name": "stdout",
     "output_type": "stream",
     "text": [
      "highly_malignant aswell as  malignant 1594 0.9986154703954994 %\n",
      "just malignant 13695 8.57969816001654 %\n",
      "highly malignant but not malignant 0 0.0 %\n",
      "other 144332 90.42168636958796 %\n"
     ]
    }
   ],
   "source": [
    "print(\"highly_malignant aswell as  malignant\",count1,count1/159621*100,'%')\n",
    "print(\"just malignant\",count2,count2/159621*100,'%')\n",
    "print(\"highly malignant but not malignant\",count3,count3/159621*100,'%')\n",
    "print(\"other\",count4,count4/159621*100,'%')"
   ]
  },
  {
   "cell_type": "code",
   "execution_count": 21,
   "metadata": {},
   "outputs": [
    {
     "data": {
      "text/html": [
       "<div>\n",
       "<style scoped>\n",
       "    .dataframe tbody tr th:only-of-type {\n",
       "        vertical-align: middle;\n",
       "    }\n",
       "\n",
       "    .dataframe tbody tr th {\n",
       "        vertical-align: top;\n",
       "    }\n",
       "\n",
       "    .dataframe thead th {\n",
       "        text-align: right;\n",
       "    }\n",
       "</style>\n",
       "<table border=\"1\" class=\"dataframe\">\n",
       "  <thead>\n",
       "    <tr style=\"text-align: right;\">\n",
       "      <th>highly_malignant</th>\n",
       "      <th>0.0</th>\n",
       "      <th>1.0</th>\n",
       "    </tr>\n",
       "    <tr>\n",
       "      <th>malignant</th>\n",
       "      <th></th>\n",
       "      <th></th>\n",
       "    </tr>\n",
       "  </thead>\n",
       "  <tbody>\n",
       "    <tr>\n",
       "      <th>0.0</th>\n",
       "      <td>144220</td>\n",
       "      <td>0</td>\n",
       "    </tr>\n",
       "    <tr>\n",
       "      <th>1.0</th>\n",
       "      <td>13695</td>\n",
       "      <td>1594</td>\n",
       "    </tr>\n",
       "  </tbody>\n",
       "</table>\n",
       "</div>"
      ],
      "text/plain": [
       "highly_malignant     0.0   1.0\n",
       "malignant                     \n",
       "0.0               144220     0\n",
       "1.0                13695  1594"
      ]
     },
     "execution_count": 21,
     "metadata": {},
     "output_type": "execute_result"
    }
   ],
   "source": [
    "#Create the Data Frame\n",
    "LoanData=pd.DataFrame(data=df_new,columns=['malignant','highly_malignant'])\n",
    "#print(LoanData.head())3\n",
    "#################################################\n",
    "# Cross tabulation between GENDER and APPROVE_LOAN\n",
    "CrosstabResult=pd.crosstab(index=LoanData['malignant'],columns=LoanData['highly_malignant'])\n",
    "CrosstabResult\n",
    " \n"
   ]
  },
  {
   "cell_type": "code",
   "execution_count": 22,
   "metadata": {},
   "outputs": [
    {
     "data": {
      "text/plain": [
       "<AxesSubplot:xlabel='malignant'>"
      ]
     },
     "execution_count": 22,
     "metadata": {},
     "output_type": "execute_result"
    },
    {
     "data": {
      "image/png": "[encoded data removed]",
      "text/plain": [
       "<Figure size 432x288 with 1 Axes>"
      ]
     },
     "metadata": {
      "needs_background": "light"
     },
     "output_type": "display_data"
    }
   ],
   "source": [
    "# Grouped bar chart between malignant and highly malignant\n",
    "%matplotlib inline \n",
    "CrosstabResult.plot.bar()"
   ]
  },
  {
   "cell_type": "markdown",
   "metadata": {},
   "source": [
    "OBSEVATION:\n",
    "    1)Out of 15,289 malignant comments,1594 comments(10.4%) were highly malignant.\n",
    "    2)All the comments that were not malignant were also not highly_malignant.\n",
    "    3)13,695 comments out of 15,289 malignant(1.0) comments were not highly malignant."
   ]
  },
  {
   "cell_type": "markdown",
   "metadata": {},
   "source": [
    "MALIGNANT VS RUDE"
   ]
  },
  {
   "cell_type": "code",
   "execution_count": 23,
   "metadata": {},
   "outputs": [
    {
     "data": {
      "text/html": [
       "<div>\n",
       "<style scoped>\n",
       "    .dataframe tbody tr th:only-of-type {\n",
       "        vertical-align: middle;\n",
       "    }\n",
       "\n",
       "    .dataframe tbody tr th {\n",
       "        vertical-align: top;\n",
       "    }\n",
       "\n",
       "    .dataframe thead th {\n",
       "        text-align: right;\n",
       "    }\n",
       "</style>\n",
       "<table border=\"1\" class=\"dataframe\">\n",
       "  <thead>\n",
       "    <tr style=\"text-align: right;\">\n",
       "      <th>rude</th>\n",
       "      <th>0.0</th>\n",
       "      <th>1.0</th>\n",
       "    </tr>\n",
       "    <tr>\n",
       "      <th>malignant</th>\n",
       "      <th></th>\n",
       "      <th></th>\n",
       "    </tr>\n",
       "  </thead>\n",
       "  <tbody>\n",
       "    <tr>\n",
       "      <th>0.0</th>\n",
       "      <td>143698</td>\n",
       "      <td>522</td>\n",
       "    </tr>\n",
       "    <tr>\n",
       "      <th>1.0</th>\n",
       "      <td>7367</td>\n",
       "      <td>7922</td>\n",
       "    </tr>\n",
       "  </tbody>\n",
       "</table>\n",
       "</div>"
      ],
      "text/plain": [
       "rude          0.0   1.0\n",
       "malignant              \n",
       "0.0        143698   522\n",
       "1.0          7367  7922"
      ]
     },
     "execution_count": 23,
     "metadata": {},
     "output_type": "execute_result"
    }
   ],
   "source": [
    "#Create the Data Frame\n",
    "LoanData=pd.DataFrame(data=df_new,columns=['malignant','rude'])\n",
    "#print(LoanData.head())\n",
    "#################################################\n",
    "# Cross tabulation between Rude and malignant\n",
    "CrosstabResult=pd.crosstab(index=LoanData['malignant'],columns=LoanData['rude'])\n",
    "CrosstabResult\n",
    " \n"
   ]
  },
  {
   "cell_type": "code",
   "execution_count": 24,
   "metadata": {},
   "outputs": [
    {
     "data": {
      "text/plain": [
       "<AxesSubplot:xlabel='malignant'>"
      ]
     },
     "execution_count": 24,
     "metadata": {},
     "output_type": "execute_result"
    },
    {
     "data": {
      "image/png": "[encoded data removed]",
      "text/plain": [
       "<Figure size 432x288 with 1 Axes>"
      ]
     },
     "metadata": {
      "needs_background": "light"
     },
     "output_type": "display_data"
    }
   ],
   "source": [
    "%matplotlib inline \n",
    "CrosstabResult.plot.bar()"
   ]
  },
  {
   "cell_type": "markdown",
   "metadata": {},
   "source": [
    "OBSERVATIONS:\n",
    "    1)7,922 comments were rude and malignant\n",
    "    2)7637 comments were malignant but not rude\n",
    "    3)522 comments were rude but not malignant\n",
    "    4)1,43,698 comments were neither rude nor malignant."
   ]
  },
  {
   "cell_type": "markdown",
   "metadata": {},
   "source": [
    "MALIGNANT VS THREAT"
   ]
  },
  {
   "cell_type": "code",
   "execution_count": 25,
   "metadata": {},
   "outputs": [
    {
     "data": {
      "text/html": [
       "<div>\n",
       "<style scoped>\n",
       "    .dataframe tbody tr th:only-of-type {\n",
       "        vertical-align: middle;\n",
       "    }\n",
       "\n",
       "    .dataframe tbody tr th {\n",
       "        vertical-align: top;\n",
       "    }\n",
       "\n",
       "    .dataframe thead th {\n",
       "        text-align: right;\n",
       "    }\n",
       "</style>\n",
       "<table border=\"1\" class=\"dataframe\">\n",
       "  <thead>\n",
       "    <tr style=\"text-align: right;\">\n",
       "      <th>threat</th>\n",
       "      <th>0.0</th>\n",
       "      <th>1.0</th>\n",
       "    </tr>\n",
       "    <tr>\n",
       "      <th>malignant</th>\n",
       "      <th></th>\n",
       "      <th></th>\n",
       "    </tr>\n",
       "  </thead>\n",
       "  <tbody>\n",
       "    <tr>\n",
       "      <th>0.0</th>\n",
       "      <td>144191</td>\n",
       "      <td>29</td>\n",
       "    </tr>\n",
       "    <tr>\n",
       "      <th>1.0</th>\n",
       "      <td>14840</td>\n",
       "      <td>449</td>\n",
       "    </tr>\n",
       "  </tbody>\n",
       "</table>\n",
       "</div>"
      ],
      "text/plain": [
       "threat        0.0  1.0\n",
       "malignant             \n",
       "0.0        144191   29\n",
       "1.0         14840  449"
      ]
     },
     "execution_count": 25,
     "metadata": {},
     "output_type": "execute_result"
    }
   ],
   "source": [
    "#Create the Data Frame\n",
    "LoanData=pd.DataFrame(data=df_new,columns=['malignant','threat'])\n",
    "#print(LoanData.head())\n",
    "#################################################\n",
    "# Cross tabulation between threat and malignant\n",
    "CrosstabResult=pd.crosstab(index=LoanData['malignant'],columns=LoanData['threat'])\n",
    "CrosstabResult\n",
    " \n"
   ]
  },
  {
   "cell_type": "markdown",
   "metadata": {},
   "source": [
    "OBSERVATIONS:\n",
    "    1)14,840 comments were malignant but not threatning.\n",
    "    2)449 comments were malignant aswell as threatning.\n",
    "    3)29 comments were threatning but not malignant.\n",
    "    4)1,44,191 comments were neither malignant nor threatning."
   ]
  },
  {
   "cell_type": "markdown",
   "metadata": {},
   "source": [
    "MALIGNANT VS ABUSE"
   ]
  },
  {
   "cell_type": "code",
   "execution_count": 26,
   "metadata": {},
   "outputs": [
    {
     "data": {
      "text/html": [
       "<div>\n",
       "<style scoped>\n",
       "    .dataframe tbody tr th:only-of-type {\n",
       "        vertical-align: middle;\n",
       "    }\n",
       "\n",
       "    .dataframe tbody tr th {\n",
       "        vertical-align: top;\n",
       "    }\n",
       "\n",
       "    .dataframe thead th {\n",
       "        text-align: right;\n",
       "    }\n",
       "</style>\n",
       "<table border=\"1\" class=\"dataframe\">\n",
       "  <thead>\n",
       "    <tr style=\"text-align: right;\">\n",
       "      <th>abuse</th>\n",
       "      <th>0.0</th>\n",
       "      <th>1.0</th>\n",
       "    </tr>\n",
       "    <tr>\n",
       "      <th>malignant</th>\n",
       "      <th></th>\n",
       "      <th></th>\n",
       "    </tr>\n",
       "  </thead>\n",
       "  <tbody>\n",
       "    <tr>\n",
       "      <th>0.0</th>\n",
       "      <td>143687</td>\n",
       "      <td>533</td>\n",
       "    </tr>\n",
       "    <tr>\n",
       "      <th>1.0</th>\n",
       "      <td>7947</td>\n",
       "      <td>7342</td>\n",
       "    </tr>\n",
       "  </tbody>\n",
       "</table>\n",
       "</div>"
      ],
      "text/plain": [
       "abuse         0.0   1.0\n",
       "malignant              \n",
       "0.0        143687   533\n",
       "1.0          7947  7342"
      ]
     },
     "execution_count": 26,
     "metadata": {},
     "output_type": "execute_result"
    }
   ],
   "source": [
    "#Create the Data Frame\n",
    "LoanData=pd.DataFrame(data=df_new,columns=['malignant','abuse'])\n",
    "#print(LoanData.head())\n",
    "#################################################\n",
    "# Cross tabulation between abuse and malignant\n",
    "CrosstabResult=pd.crosstab(index=LoanData['malignant'],columns=LoanData['abuse'])\n",
    "CrosstabResult\n",
    " \n"
   ]
  },
  {
   "cell_type": "markdown",
   "metadata": {},
   "source": [
    "OBSERVATIONS:\n",
    "    1)7,342 comments were malignant as well as abuse.\n",
    "    2)7,947 comments were malignant but not abuse.\n",
    "    3)533 comments were abuse but not malignant.\n",
    "    4)1,43,687 comments were neither malignant nor abuse."
   ]
  },
  {
   "cell_type": "markdown",
   "metadata": {},
   "source": [
    "MALIGNANT VS LOATHE"
   ]
  },
  {
   "cell_type": "code",
   "execution_count": 27,
   "metadata": {},
   "outputs": [
    {
     "data": {
      "text/html": [
       "<div>\n",
       "<style scoped>\n",
       "    .dataframe tbody tr th:only-of-type {\n",
       "        vertical-align: middle;\n",
       "    }\n",
       "\n",
       "    .dataframe tbody tr th {\n",
       "        vertical-align: top;\n",
       "    }\n",
       "\n",
       "    .dataframe thead th {\n",
       "        text-align: right;\n",
       "    }\n",
       "</style>\n",
       "<table border=\"1\" class=\"dataframe\">\n",
       "  <thead>\n",
       "    <tr style=\"text-align: right;\">\n",
       "      <th>loathe</th>\n",
       "      <th>0.0</th>\n",
       "      <th>1.0</th>\n",
       "    </tr>\n",
       "    <tr>\n",
       "      <th>malignant</th>\n",
       "      <th></th>\n",
       "      <th></th>\n",
       "    </tr>\n",
       "  </thead>\n",
       "  <tbody>\n",
       "    <tr>\n",
       "      <th>0.0</th>\n",
       "      <td>144117</td>\n",
       "      <td>103</td>\n",
       "    </tr>\n",
       "    <tr>\n",
       "      <th>1.0</th>\n",
       "      <td>13987</td>\n",
       "      <td>1302</td>\n",
       "    </tr>\n",
       "  </tbody>\n",
       "</table>\n",
       "</div>"
      ],
      "text/plain": [
       "loathe        0.0   1.0\n",
       "malignant              \n",
       "0.0        144117   103\n",
       "1.0         13987  1302"
      ]
     },
     "execution_count": 27,
     "metadata": {},
     "output_type": "execute_result"
    }
   ],
   "source": [
    "#Create the Data Frame\n",
    "LoanData=pd.DataFrame(data=df_new,columns=['malignant','loathe'])\n",
    "#print(LoanData.head())\n",
    "#################################################\n",
    "# Cross tabulation between loathe and malignant\n",
    "CrosstabResult=pd.crosstab(index=LoanData['malignant'],columns=LoanData['loathe'])\n",
    "CrosstabResult\n",
    " \n"
   ]
  },
  {
   "cell_type": "markdown",
   "metadata": {},
   "source": [
    "OBSERVATIONS:\n",
    "    1)1,302 comments were malignant and loathe\n",
    "    2)13,987 comments were malignant but not loathe\n",
    "    3)103 comments were loathe but not malignant\n",
    "    4)1,44,117 comments were neither malignant nor loathe."
   ]
  },
  {
   "cell_type": "code",
   "execution_count": 28,
   "metadata": {},
   "outputs": [
    {
     "data": {
      "text/plain": [
       "159509"
      ]
     },
     "execution_count": 28,
     "metadata": {},
     "output_type": "execute_result"
    }
   ],
   "source": [
    "df_new['comment_text'].nunique()"
   ]
  },
  {
   "cell_type": "code",
   "execution_count": 29,
   "metadata": {},
   "outputs": [
    {
     "data": {
      "text/plain": [
       "159509"
      ]
     },
     "execution_count": 29,
     "metadata": {},
     "output_type": "execute_result"
    }
   ],
   "source": [
    "df_new['id'].nunique()"
   ]
  },
  {
   "cell_type": "code",
   "execution_count": 30,
   "metadata": {},
   "outputs": [
    {
     "data": {
      "text/plain": [
       "\"Explanation\\nWhy the edits made under my username Hardcore Metallica Fan were reverted? They weren't vandalisms, just closure on some GAs after I voted at New York Dolls FAC. And please don't remove the template from the talk page since I'm retired now.89.205.38.27\""
      ]
     },
     "execution_count": 30,
     "metadata": {},
     "output_type": "execute_result"
    }
   ],
   "source": [
    "df['comment_text'][0]"
   ]
  },
  {
   "cell_type": "code",
   "execution_count": 31,
   "metadata": {},
   "outputs": [
    {
     "data": {
      "text/plain": [
       "'\"I have changed \"\"Lance Thomas\"\" to \"\"Lance Thomas\"\" to link to \\nAmerican Pro Basketball player mentioned in the Biography.\\n\\n\"'"
      ]
     },
     "execution_count": 31,
     "metadata": {},
     "output_type": "execute_result"
    }
   ],
   "source": [
    "df['comment_text'][10000]"
   ]
  },
  {
   "cell_type": "code",
   "execution_count": 32,
   "metadata": {},
   "outputs": [
    {
     "data": {
      "text/plain": [
       "\"Several NCAA Brackets Posted \\n\\nI did some work to address the issues you raised, and I've uploaded/linked in several sample tournament pages. See 1946 NCAA Men's Division I Basketball Tournament, which has an infobox at the bottom. I added one tourney page for each full decade of the NCAA Tournament. Barring any huge objections, I'd like to add the remaining 50+ pages tonight.\""
      ]
     },
     "execution_count": 32,
     "metadata": {},
     "output_type": "execute_result"
    }
   ],
   "source": [
    "df['comment_text'][1204]"
   ]
  },
  {
   "cell_type": "code",
   "execution_count": 33,
   "metadata": {},
   "outputs": [
    {
     "data": {
      "text/plain": [
       "0.0    0.90415\n",
       "1.0    0.09585\n",
       "Name: malignant, dtype: float64"
      ]
     },
     "execution_count": 33,
     "metadata": {},
     "output_type": "execute_result"
    }
   ],
   "source": [
    "df_new['malignant'].value_counts(normalize=True)"
   ]
  },
  {
   "cell_type": "code",
   "execution_count": 34,
   "metadata": {},
   "outputs": [
    {
     "data": {
      "text/plain": [
       "malignant           15289.0\n",
       "highly_malignant     1594.0\n",
       "rude                 8444.0\n",
       "threat                478.0\n",
       "abuse                7875.0\n",
       "loathe               1405.0\n",
       "dtype: float64"
      ]
     },
     "execution_count": 34,
     "metadata": {},
     "output_type": "execute_result"
    }
   ],
   "source": [
    "#creating a subset of the dataframe by taking all the columns except id\n",
    "df_sub=df_new.iloc[:,2:].sum()\n",
    "df_sub"
   ]
  },
  {
   "cell_type": "markdown",
   "metadata": {},
   "source": [
    "CLEANING THE TEXT DATA(removing stopwords,symbols,numbers etc) FOR PREPROCESSING"
   ]
  },
  {
   "cell_type": "code",
   "execution_count": 35,
   "metadata": {},
   "outputs": [],
   "source": [
    "# Import relevant packages\n",
    "import matplotlib.pyplot as plt\n",
    "import nltk\n",
    "import numpy as np\n",
    "import re \n",
    "import pandas as pd\n",
    "import string\n",
    "import seaborn as sns\n",
    "\n",
    "from nltk.corpus import stopwords  # Remove useless words\n",
    "from nltk.stem.lancaster import LancasterStemmer  # Convert words to base form; aggressive\n",
    "\n",
    "# Import packages that help us to create document-term matrix\n",
    "from sklearn.feature_extraction.text import CountVectorizer, TfidfVectorizer"
   ]
  },
  {
   "cell_type": "code",
   "execution_count": 36,
   "metadata": {},
   "outputs": [],
   "source": [
    "df_new['comment_text']=df_new['comment_text'].astype(str)"
   ]
  },
  {
   "cell_type": "code",
   "execution_count": 37,
   "metadata": {},
   "outputs": [],
   "source": [
    "alpha=lambda x:re.sub(r\"\\[[0-9]*\\]\",' ',x)"
   ]
  },
  {
   "cell_type": "code",
   "execution_count": 38,
   "metadata": {},
   "outputs": [],
   "source": [
    "alpha2=lambda x:re.sub(r'\\s+',' ',x)"
   ]
  },
  {
   "cell_type": "code",
   "execution_count": 39,
   "metadata": {},
   "outputs": [],
   "source": [
    "alpha3=lambda x:x.lower()"
   ]
  },
  {
   "cell_type": "code",
   "execution_count": 40,
   "metadata": {},
   "outputs": [],
   "source": [
    "alpha4=lambda x:re.sub(r'\\d',' ',x)"
   ]
  },
  {
   "cell_type": "code",
   "execution_count": 41,
   "metadata": {},
   "outputs": [],
   "source": [
    "alpha5=lambda x:re.sub(r'\\s+',\" \",x)"
   ]
  },
  {
   "cell_type": "code",
   "execution_count": 42,
   "metadata": {},
   "outputs": [],
   "source": [
    "alpha6=lambda x:x.translate(str.maketrans(\"\",\"\",string.punctuation))"
   ]
  },
  {
   "cell_type": "code",
   "execution_count": 43,
   "metadata": {},
   "outputs": [],
   "source": [
    "df_new['comment_text']=df_new['comment_text'].map(alpha).map(alpha2).map(alpha3).map(alpha4).map(alpha5).map(alpha6)"
   ]
  },
  {
   "cell_type": "code",
   "execution_count": 44,
   "metadata": {},
   "outputs": [
    {
     "data": {
      "text/plain": [
       "'rex mundi ive created a stub on rex mundi at rex mundi high school only thing i know about it is that both my aunt donna and bob griese went there please add anything you might know about it btw my dad was a panther i live in princeton myself'"
      ]
     },
     "execution_count": 44,
     "metadata": {},
     "output_type": "execute_result"
    }
   ],
   "source": [
    "df_new['comment_text'][1000]"
   ]
  },
  {
   "cell_type": "code",
   "execution_count": 45,
   "metadata": {},
   "outputs": [
    {
     "data": {
      "text/plain": [
       "'rex mundi ive created a stub on rex mundi at rex mundi high school only thing i know about it is that both my aunt donna and bob griese went there please add anything you might know about it btw my dad was a panther i live in princeton myself'"
      ]
     },
     "execution_count": 45,
     "metadata": {},
     "output_type": "execute_result"
    }
   ],
   "source": [
    "df_new['comment_text'][1000]"
   ]
  },
  {
   "cell_type": "code",
   "execution_count": 46,
   "metadata": {},
   "outputs": [],
   "source": [
    "malig=['id','comment_text','malignant']"
   ]
  },
  {
   "cell_type": "code",
   "execution_count": 47,
   "metadata": {},
   "outputs": [
    {
     "data": {
      "text/plain": [
       "Index(['id', 'comment_text', 'malignant'], dtype='object')"
      ]
     },
     "execution_count": 47,
     "metadata": {},
     "output_type": "execute_result"
    }
   ],
   "source": [
    "df_new[malig].columns"
   ]
  },
  {
   "cell_type": "code",
   "execution_count": 48,
   "metadata": {},
   "outputs": [],
   "source": [
    "x=df_new[malig].drop('malignant',axis=1)\n",
    "y=df_new['malignant']"
   ]
  },
  {
   "cell_type": "code",
   "execution_count": 49,
   "metadata": {},
   "outputs": [
    {
     "data": {
      "text/plain": [
       "0.0    144220\n",
       "1.0     15289\n",
       "Name: malignant, dtype: int64"
      ]
     },
     "execution_count": 49,
     "metadata": {},
     "output_type": "execute_result"
    }
   ],
   "source": [
    "y.value_counts()"
   ]
  },
  {
   "cell_type": "markdown",
   "metadata": {},
   "source": [
    "The target variable is largely imbalanced with less than 10% of its data in the malignant(1.0) category.\n",
    "To resolve this a subset of the dataframe is taken which contained 50% of the rows in toxic category and another 50% in the non toxic category."
   ]
  },
  {
   "cell_type": "markdown",
   "metadata": {},
   "source": [
    "Since the comment_text data cannot be converted to continous using encoding,TFID Vectorizer is being used to assign a vector to each word in the text data,therefore keeping the meaning/context in play."
   ]
  },
  {
   "cell_type": "code",
   "execution_count": 50,
   "metadata": {},
   "outputs": [
    {
     "data": {
      "text/plain": [
       "15289"
      ]
     },
     "execution_count": 50,
     "metadata": {},
     "output_type": "execute_result"
    }
   ],
   "source": [
    "(df_new['malignant']==1).sum()"
   ]
  },
  {
   "cell_type": "code",
   "execution_count": 51,
   "metadata": {},
   "outputs": [
    {
     "data": {
      "text/html": [
       "<div>\n",
       "<style scoped>\n",
       "    .dataframe tbody tr th:only-of-type {\n",
       "        vertical-align: middle;\n",
       "    }\n",
       "\n",
       "    .dataframe tbody tr th {\n",
       "        vertical-align: top;\n",
       "    }\n",
       "\n",
       "    .dataframe thead th {\n",
       "        text-align: right;\n",
       "    }\n",
       "</style>\n",
       "<table border=\"1\" class=\"dataframe\">\n",
       "  <thead>\n",
       "    <tr style=\"text-align: right;\">\n",
       "      <th></th>\n",
       "      <th>id</th>\n",
       "      <th>comment_text</th>\n",
       "      <th>malignant</th>\n",
       "      <th>highly_malignant</th>\n",
       "      <th>rude</th>\n",
       "      <th>threat</th>\n",
       "      <th>abuse</th>\n",
       "      <th>loathe</th>\n",
       "    </tr>\n",
       "  </thead>\n",
       "  <tbody>\n",
       "    <tr>\n",
       "      <th>6</th>\n",
       "      <td>0002bcb3da6cb337</td>\n",
       "      <td>cocksucker before you piss around on my work</td>\n",
       "      <td>1.0</td>\n",
       "      <td>1.0</td>\n",
       "      <td>1.0</td>\n",
       "      <td>0.0</td>\n",
       "      <td>1.0</td>\n",
       "      <td>0.0</td>\n",
       "    </tr>\n",
       "    <tr>\n",
       "      <th>12</th>\n",
       "      <td>0005c987bdfc9d4b</td>\n",
       "      <td>hey what is it   talk  what is it an exclusive...</td>\n",
       "      <td>1.0</td>\n",
       "      <td>0.0</td>\n",
       "      <td>0.0</td>\n",
       "      <td>0.0</td>\n",
       "      <td>0.0</td>\n",
       "      <td>0.0</td>\n",
       "    </tr>\n",
       "    <tr>\n",
       "      <th>16</th>\n",
       "      <td>0007e25b2121310b</td>\n",
       "      <td>bye dont look come or think of comming back to...</td>\n",
       "      <td>1.0</td>\n",
       "      <td>0.0</td>\n",
       "      <td>0.0</td>\n",
       "      <td>0.0</td>\n",
       "      <td>0.0</td>\n",
       "      <td>0.0</td>\n",
       "    </tr>\n",
       "    <tr>\n",
       "      <th>42</th>\n",
       "      <td>001810bf8c45bf5f</td>\n",
       "      <td>you are gay or antisemmitian archangel white t...</td>\n",
       "      <td>1.0</td>\n",
       "      <td>0.0</td>\n",
       "      <td>1.0</td>\n",
       "      <td>0.0</td>\n",
       "      <td>1.0</td>\n",
       "      <td>1.0</td>\n",
       "    </tr>\n",
       "    <tr>\n",
       "      <th>43</th>\n",
       "      <td>00190820581d90ce</td>\n",
       "      <td>fuck your filthy mother in the ass dry</td>\n",
       "      <td>1.0</td>\n",
       "      <td>0.0</td>\n",
       "      <td>1.0</td>\n",
       "      <td>0.0</td>\n",
       "      <td>1.0</td>\n",
       "      <td>0.0</td>\n",
       "    </tr>\n",
       "    <tr>\n",
       "      <th>...</th>\n",
       "      <td>...</td>\n",
       "      <td>...</td>\n",
       "      <td>...</td>\n",
       "      <td>...</td>\n",
       "      <td>...</td>\n",
       "      <td>...</td>\n",
       "      <td>...</td>\n",
       "      <td>...</td>\n",
       "    </tr>\n",
       "    <tr>\n",
       "      <th>159544</th>\n",
       "      <td>fef4cf7ba0012866</td>\n",
       "      <td>our previous conversation you fucking shit ea...</td>\n",
       "      <td>1.0</td>\n",
       "      <td>0.0</td>\n",
       "      <td>1.0</td>\n",
       "      <td>0.0</td>\n",
       "      <td>1.0</td>\n",
       "      <td>1.0</td>\n",
       "    </tr>\n",
       "    <tr>\n",
       "      <th>159564</th>\n",
       "      <td>ff39a2895fc3b40e</td>\n",
       "      <td>you are a mischievious pubic hair</td>\n",
       "      <td>1.0</td>\n",
       "      <td>0.0</td>\n",
       "      <td>0.0</td>\n",
       "      <td>0.0</td>\n",
       "      <td>1.0</td>\n",
       "      <td>0.0</td>\n",
       "    </tr>\n",
       "    <tr>\n",
       "      <th>159591</th>\n",
       "      <td>ffa33d3122b599d6</td>\n",
       "      <td>your absurd edits your absurd edits on great w...</td>\n",
       "      <td>1.0</td>\n",
       "      <td>0.0</td>\n",
       "      <td>1.0</td>\n",
       "      <td>0.0</td>\n",
       "      <td>1.0</td>\n",
       "      <td>0.0</td>\n",
       "    </tr>\n",
       "    <tr>\n",
       "      <th>159596</th>\n",
       "      <td>ffb47123b2d82762</td>\n",
       "      <td>hey listen dont you ever delete my edits ever...</td>\n",
       "      <td>1.0</td>\n",
       "      <td>0.0</td>\n",
       "      <td>0.0</td>\n",
       "      <td>0.0</td>\n",
       "      <td>1.0</td>\n",
       "      <td>0.0</td>\n",
       "    </tr>\n",
       "    <tr>\n",
       "      <th>159604</th>\n",
       "      <td>ffbdbb0483ed0841</td>\n",
       "      <td>and im going to keep posting the stuff u delet...</td>\n",
       "      <td>1.0</td>\n",
       "      <td>0.0</td>\n",
       "      <td>1.0</td>\n",
       "      <td>0.0</td>\n",
       "      <td>1.0</td>\n",
       "      <td>0.0</td>\n",
       "    </tr>\n",
       "  </tbody>\n",
       "</table>\n",
       "<p>15289 rows × 8 columns</p>\n",
       "</div>"
      ],
      "text/plain": [
       "                      id                                       comment_text  \\\n",
       "6       0002bcb3da6cb337       cocksucker before you piss around on my work   \n",
       "12      0005c987bdfc9d4b  hey what is it   talk  what is it an exclusive...   \n",
       "16      0007e25b2121310b  bye dont look come or think of comming back to...   \n",
       "42      001810bf8c45bf5f  you are gay or antisemmitian archangel white t...   \n",
       "43      00190820581d90ce             fuck your filthy mother in the ass dry   \n",
       "...                  ...                                                ...   \n",
       "159544  fef4cf7ba0012866   our previous conversation you fucking shit ea...   \n",
       "159564  ff39a2895fc3b40e                  you are a mischievious pubic hair   \n",
       "159591  ffa33d3122b599d6  your absurd edits your absurd edits on great w...   \n",
       "159596  ffb47123b2d82762   hey listen dont you ever delete my edits ever...   \n",
       "159604  ffbdbb0483ed0841  and im going to keep posting the stuff u delet...   \n",
       "\n",
       "        malignant  highly_malignant  rude  threat  abuse  loathe  \n",
       "6             1.0               1.0   1.0     0.0    1.0     0.0  \n",
       "12            1.0               0.0   0.0     0.0    0.0     0.0  \n",
       "16            1.0               0.0   0.0     0.0    0.0     0.0  \n",
       "42            1.0               0.0   1.0     0.0    1.0     1.0  \n",
       "43            1.0               0.0   1.0     0.0    1.0     0.0  \n",
       "...           ...               ...   ...     ...    ...     ...  \n",
       "159544        1.0               0.0   1.0     0.0    1.0     1.0  \n",
       "159564        1.0               0.0   0.0     0.0    1.0     0.0  \n",
       "159591        1.0               0.0   1.0     0.0    1.0     0.0  \n",
       "159596        1.0               0.0   0.0     0.0    1.0     0.0  \n",
       "159604        1.0               0.0   1.0     0.0    1.0     0.0  \n",
       "\n",
       "[15289 rows x 8 columns]"
      ]
     },
     "execution_count": 51,
     "metadata": {},
     "output_type": "execute_result"
    }
   ],
   "source": [
    "bal1=df_new[df_new['malignant']==1]\n",
    "bal1\n"
   ]
  },
  {
   "cell_type": "markdown",
   "metadata": {},
   "source": [
    "To balance the dataset for different target labels,samples of 0 and 1 categories were extracted from the original dataframe and merged into a new dataframe(unique for every target feature)."
   ]
  },
  {
   "cell_type": "code",
   "execution_count": 52,
   "metadata": {},
   "outputs": [
    {
     "data": {
      "text/html": [
       "<div>\n",
       "<style scoped>\n",
       "    .dataframe tbody tr th:only-of-type {\n",
       "        vertical-align: middle;\n",
       "    }\n",
       "\n",
       "    .dataframe tbody tr th {\n",
       "        vertical-align: top;\n",
       "    }\n",
       "\n",
       "    .dataframe thead th {\n",
       "        text-align: right;\n",
       "    }\n",
       "</style>\n",
       "<table border=\"1\" class=\"dataframe\">\n",
       "  <thead>\n",
       "    <tr style=\"text-align: right;\">\n",
       "      <th></th>\n",
       "      <th>id</th>\n",
       "      <th>comment_text</th>\n",
       "      <th>malignant</th>\n",
       "      <th>highly_malignant</th>\n",
       "      <th>rude</th>\n",
       "      <th>threat</th>\n",
       "      <th>abuse</th>\n",
       "      <th>loathe</th>\n",
       "    </tr>\n",
       "  </thead>\n",
       "  <tbody>\n",
       "    <tr>\n",
       "      <th>0</th>\n",
       "      <td>0000997932d777bf</td>\n",
       "      <td>explanation why the edits made under my userna...</td>\n",
       "      <td>0.0</td>\n",
       "      <td>0.0</td>\n",
       "      <td>0.0</td>\n",
       "      <td>0.0</td>\n",
       "      <td>0.0</td>\n",
       "      <td>0.0</td>\n",
       "    </tr>\n",
       "    <tr>\n",
       "      <th>1</th>\n",
       "      <td>000103f0d9cfb60f</td>\n",
       "      <td>daww he matches this background colour im seem...</td>\n",
       "      <td>0.0</td>\n",
       "      <td>0.0</td>\n",
       "      <td>0.0</td>\n",
       "      <td>0.0</td>\n",
       "      <td>0.0</td>\n",
       "      <td>0.0</td>\n",
       "    </tr>\n",
       "    <tr>\n",
       "      <th>2</th>\n",
       "      <td>000113f07ec002fd</td>\n",
       "      <td>hey man im really not trying to edit war its j...</td>\n",
       "      <td>0.0</td>\n",
       "      <td>0.0</td>\n",
       "      <td>0.0</td>\n",
       "      <td>0.0</td>\n",
       "      <td>0.0</td>\n",
       "      <td>0.0</td>\n",
       "    </tr>\n",
       "    <tr>\n",
       "      <th>3</th>\n",
       "      <td>0001b41b1c6bb37e</td>\n",
       "      <td>more i cant make any real suggestions on impr...</td>\n",
       "      <td>0.0</td>\n",
       "      <td>0.0</td>\n",
       "      <td>0.0</td>\n",
       "      <td>0.0</td>\n",
       "      <td>0.0</td>\n",
       "      <td>0.0</td>\n",
       "    </tr>\n",
       "    <tr>\n",
       "      <th>4</th>\n",
       "      <td>0001d958c54c6e35</td>\n",
       "      <td>you sir are my hero any chance you remember wh...</td>\n",
       "      <td>0.0</td>\n",
       "      <td>0.0</td>\n",
       "      <td>0.0</td>\n",
       "      <td>0.0</td>\n",
       "      <td>0.0</td>\n",
       "      <td>0.0</td>\n",
       "    </tr>\n",
       "    <tr>\n",
       "      <th>...</th>\n",
       "      <td>...</td>\n",
       "      <td>...</td>\n",
       "      <td>...</td>\n",
       "      <td>...</td>\n",
       "      <td>...</td>\n",
       "      <td>...</td>\n",
       "      <td>...</td>\n",
       "      <td>...</td>\n",
       "    </tr>\n",
       "    <tr>\n",
       "      <th>159616</th>\n",
       "      <td>ffe987279560d7ff</td>\n",
       "      <td>and for the second time of asking when your vi...</td>\n",
       "      <td>0.0</td>\n",
       "      <td>0.0</td>\n",
       "      <td>0.0</td>\n",
       "      <td>0.0</td>\n",
       "      <td>0.0</td>\n",
       "      <td>0.0</td>\n",
       "    </tr>\n",
       "    <tr>\n",
       "      <th>159617</th>\n",
       "      <td>ffea4adeee384e90</td>\n",
       "      <td>you should be ashamed of yourself that is a ho...</td>\n",
       "      <td>0.0</td>\n",
       "      <td>0.0</td>\n",
       "      <td>0.0</td>\n",
       "      <td>0.0</td>\n",
       "      <td>0.0</td>\n",
       "      <td>0.0</td>\n",
       "    </tr>\n",
       "    <tr>\n",
       "      <th>159618</th>\n",
       "      <td>ffee36eab5c267c9</td>\n",
       "      <td>spitzer umm theres no actual article for prost...</td>\n",
       "      <td>0.0</td>\n",
       "      <td>0.0</td>\n",
       "      <td>0.0</td>\n",
       "      <td>0.0</td>\n",
       "      <td>0.0</td>\n",
       "      <td>0.0</td>\n",
       "    </tr>\n",
       "    <tr>\n",
       "      <th>159619</th>\n",
       "      <td>fff125370e4aaaf3</td>\n",
       "      <td>and it looks like it was actually you who put ...</td>\n",
       "      <td>0.0</td>\n",
       "      <td>0.0</td>\n",
       "      <td>0.0</td>\n",
       "      <td>0.0</td>\n",
       "      <td>0.0</td>\n",
       "      <td>0.0</td>\n",
       "    </tr>\n",
       "    <tr>\n",
       "      <th>159620</th>\n",
       "      <td>fff46fc426af1f9a</td>\n",
       "      <td>and  i really dont think you understand i cam...</td>\n",
       "      <td>0.0</td>\n",
       "      <td>0.0</td>\n",
       "      <td>0.0</td>\n",
       "      <td>0.0</td>\n",
       "      <td>0.0</td>\n",
       "      <td>0.0</td>\n",
       "    </tr>\n",
       "  </tbody>\n",
       "</table>\n",
       "<p>144220 rows × 8 columns</p>\n",
       "</div>"
      ],
      "text/plain": [
       "                      id                                       comment_text  \\\n",
       "0       0000997932d777bf  explanation why the edits made under my userna...   \n",
       "1       000103f0d9cfb60f  daww he matches this background colour im seem...   \n",
       "2       000113f07ec002fd  hey man im really not trying to edit war its j...   \n",
       "3       0001b41b1c6bb37e   more i cant make any real suggestions on impr...   \n",
       "4       0001d958c54c6e35  you sir are my hero any chance you remember wh...   \n",
       "...                  ...                                                ...   \n",
       "159616  ffe987279560d7ff  and for the second time of asking when your vi...   \n",
       "159617  ffea4adeee384e90  you should be ashamed of yourself that is a ho...   \n",
       "159618  ffee36eab5c267c9  spitzer umm theres no actual article for prost...   \n",
       "159619  fff125370e4aaaf3  and it looks like it was actually you who put ...   \n",
       "159620  fff46fc426af1f9a   and  i really dont think you understand i cam...   \n",
       "\n",
       "        malignant  highly_malignant  rude  threat  abuse  loathe  \n",
       "0             0.0               0.0   0.0     0.0    0.0     0.0  \n",
       "1             0.0               0.0   0.0     0.0    0.0     0.0  \n",
       "2             0.0               0.0   0.0     0.0    0.0     0.0  \n",
       "3             0.0               0.0   0.0     0.0    0.0     0.0  \n",
       "4             0.0               0.0   0.0     0.0    0.0     0.0  \n",
       "...           ...               ...   ...     ...    ...     ...  \n",
       "159616        0.0               0.0   0.0     0.0    0.0     0.0  \n",
       "159617        0.0               0.0   0.0     0.0    0.0     0.0  \n",
       "159618        0.0               0.0   0.0     0.0    0.0     0.0  \n",
       "159619        0.0               0.0   0.0     0.0    0.0     0.0  \n",
       "159620        0.0               0.0   0.0     0.0    0.0     0.0  \n",
       "\n",
       "[144220 rows x 8 columns]"
      ]
     },
     "execution_count": 52,
     "metadata": {},
     "output_type": "execute_result"
    }
   ],
   "source": [
    "bal2=df_new[df_new['malignant']==0]\n",
    "bal2\n"
   ]
  },
  {
   "cell_type": "code",
   "execution_count": 53,
   "metadata": {},
   "outputs": [
    {
     "data": {
      "text/plain": [
       "0.0    15289\n",
       "1.0    15289\n",
       "Name: malignant, dtype: int64"
      ]
     },
     "execution_count": 53,
     "metadata": {},
     "output_type": "execute_result"
    }
   ],
   "source": [
    "balanced_mal=pd.concat([bal1,bal2[:15289]],axis=0)\n",
    "balanced_mal['malignant'].value_counts()"
   ]
  },
  {
   "cell_type": "code",
   "execution_count": 57,
   "metadata": {},
   "outputs": [],
   "source": [
    "\n",
    "from sklearn.model_selection import train_test_split, cross_val_score\n",
    "\n",
    "\n",
    "# Import ML algos\n",
    "from sklearn.linear_model import LogisticRegression\n",
    "#from sklearn.neighbors import KNeighborsClassifier\n",
    "#from sklearn.naive_bayes import MultinomialNB, BernoulliNB\n",
    "#from sklearn.svm import LinearSVC\n",
    "from sklearn.ensemble import RandomForestClassifier\n",
    "#from sklearn.tree import DecisionTreeClassifier\n",
    "#from sklearn.ensemble import AdaBoostClassifier"
   ]
  },
  {
   "cell_type": "code",
   "execution_count": 58,
   "metadata": {},
   "outputs": [
    {
     "name": "stdout",
     "output_type": "stream",
     "text": [
      "(1594, 8)\n",
      "(157915, 8)\n"
     ]
    }
   ],
   "source": [
    "bal1=df_new[df_new['highly_malignant']==1]\n",
    "bal2=df_new[df_new['highly_malignant']==0]\n",
    "print(bal1.shape)\n",
    "print(bal2.shape)\n"
   ]
  },
  {
   "cell_type": "code",
   "execution_count": 59,
   "metadata": {},
   "outputs": [
    {
     "data": {
      "text/plain": [
       "0.0    3000\n",
       "1.0    1594\n",
       "Name: highly_malignant, dtype: int64"
      ]
     },
     "execution_count": 59,
     "metadata": {},
     "output_type": "execute_result"
    }
   ],
   "source": [
    "balanced_hmal=pd.concat([bal1,bal2[:3000]],axis=0)\n",
    "balanced_hmal['highly_malignant'].value_counts()"
   ]
  },
  {
   "cell_type": "code",
   "execution_count": 60,
   "metadata": {},
   "outputs": [
    {
     "name": "stdout",
     "output_type": "stream",
     "text": [
      "(8444, 8)\n",
      "(151065, 8)\n"
     ]
    }
   ],
   "source": [
    "bal1=df_new[df_new['rude']==1]\n",
    "bal2=df_new[df_new['rude']==0]\n",
    "print(bal1.shape)\n",
    "print(bal2.shape)"
   ]
  },
  {
   "cell_type": "code",
   "execution_count": 61,
   "metadata": {},
   "outputs": [
    {
     "data": {
      "text/plain": [
       "(18444, 8)"
      ]
     },
     "execution_count": 61,
     "metadata": {},
     "output_type": "execute_result"
    }
   ],
   "source": [
    "bal_rude=pd.concat([bal1,bal2[:10000]],axis=0)\n",
    "bal_rude.shape"
   ]
  },
  {
   "cell_type": "code",
   "execution_count": 62,
   "metadata": {},
   "outputs": [
    {
     "name": "stdout",
     "output_type": "stream",
     "text": [
      "(478, 8)\n",
      "(159031, 8)\n"
     ]
    }
   ],
   "source": [
    "#Threat\n",
    "bal1=df_new[df_new['threat']==1]\n",
    "bal2=df_new[df_new['threat']==0]\n",
    "print(bal1.shape)\n",
    "print(bal2.shape)"
   ]
  },
  {
   "cell_type": "code",
   "execution_count": 63,
   "metadata": {},
   "outputs": [
    {
     "data": {
      "text/plain": [
       "(1478, 8)"
      ]
     },
     "execution_count": 63,
     "metadata": {},
     "output_type": "execute_result"
    }
   ],
   "source": [
    "bal_threat=pd.concat([bal1,bal2[:1000]],axis=0)\n",
    "bal_threat.shape"
   ]
  },
  {
   "cell_type": "code",
   "execution_count": 64,
   "metadata": {},
   "outputs": [
    {
     "name": "stdout",
     "output_type": "stream",
     "text": [
      "(7875, 8)\n",
      "(151634, 8)\n"
     ]
    }
   ],
   "source": [
    "#abuse\n",
    "bal1=df_new[df_new['abuse']==1]\n",
    "bal2=df_new[df_new['abuse']==0]\n",
    "print(bal1.shape)\n",
    "print(bal2.shape)"
   ]
  },
  {
   "cell_type": "code",
   "execution_count": 65,
   "metadata": {},
   "outputs": [
    {
     "data": {
      "text/plain": [
       "(22875, 8)"
      ]
     },
     "execution_count": 65,
     "metadata": {},
     "output_type": "execute_result"
    }
   ],
   "source": [
    "bal_abuse=pd.concat([bal1,bal2[:15000]],axis=0)\n",
    "bal_abuse.shape"
   ]
  },
  {
   "cell_type": "code",
   "execution_count": 66,
   "metadata": {},
   "outputs": [
    {
     "name": "stdout",
     "output_type": "stream",
     "text": [
      "(1405, 8)\n",
      "(158104, 8)\n"
     ]
    }
   ],
   "source": [
    "#loathe\n",
    "bal1=df_new[df_new['loathe']==1]\n",
    "bal2=df_new[df_new['loathe']==0]\n",
    "print(bal1.shape)\n",
    "print(bal2.shape)"
   ]
  },
  {
   "cell_type": "code",
   "execution_count": 67,
   "metadata": {},
   "outputs": [
    {
     "data": {
      "text/plain": [
       "(4205, 8)"
      ]
     },
     "execution_count": 67,
     "metadata": {},
     "output_type": "execute_result"
    }
   ],
   "source": [
    "bal_loathe=pd.concat([bal1,bal2[:2800]],axis=0)\n",
    "bal_loathe.shape"
   ]
  },
  {
   "cell_type": "markdown",
   "metadata": {},
   "source": [
    "Since the problem statement focuses on identifying the malignant/abuse/threat/loathe/highly_malignant classes from the normal ones,f1 score was used as the primary metric for selecting our model."
   ]
  },
  {
   "cell_type": "markdown",
   "metadata": {},
   "source": [
    "ALGORITHMS like Adaboostclassifier,DecisionTreeClassifier,KNeighborsClassifier were also used apart from LogisticRegression,RandomForest and SVC.SVC was discarded because although it gave the best f1_score,it took forever to process the data.LinearSVC() also did a great job in classifying the 0 and 1 categories of the target columns but it could not be used for predicting the probability of the features as it does not have a predict.proba method. "
   ]
  },
  {
   "cell_type": "code",
   "execution_count": 68,
   "metadata": {},
   "outputs": [],
   "source": [
    "from sklearn.metrics import accuracy_score,confusion_matrix,classification_report,roc_curve"
   ]
  },
  {
   "cell_type": "code",
   "execution_count": 72,
   "metadata": {},
   "outputs": [],
   "source": [
    "def get_f1(rfc,x,y):\n",
    "    x_train, x_test, y_train, y_test = train_test_split(x, y, test_size=0.33, random_state=42)\n",
    "\n",
    "    \n",
    "    #rfc=RandomForestClassifier(criterion='entropy')\n",
    "    # Initiating a Tfidf vectorizer\n",
    "    tfv = TfidfVectorizer(ngram_range=(1,1), stop_words='english')\n",
    "    x_train_tfv=tfv.fit_transform(x_train)\n",
    "    x_test_tfv=tfv.transform(x_test)\n",
    "    #making predictions with the logistic regression model\n",
    "    rfc.fit(x_train_tfv,y_train)\n",
    "    pred_rfc=rfc.predict(x_test_tfv)\n",
    "    #print(\"accuracy_score\",accuracy_score(y_test,pred_rfc))\n",
    "    #print(confusion_matrix(y_test,pred_rfc))\n",
    "    print(classification_report(y_test,pred_rfc))"
   ]
  },
  {
   "cell_type": "code",
   "execution_count": 74,
   "metadata": {},
   "outputs": [
    {
     "name": "stdout",
     "output_type": "stream",
     "text": [
      "malignant\n",
      "              precision    recall  f1-score   support\n",
      "\n",
      "         0.0       0.82      0.92      0.87      5025\n",
      "         1.0       0.91      0.80      0.85      5066\n",
      "\n",
      "    accuracy                           0.86     10091\n",
      "   macro avg       0.87      0.86      0.86     10091\n",
      "weighted avg       0.87      0.86      0.86     10091\n",
      "\n",
      "              precision    recall  f1-score   support\n",
      "\n",
      "         0.0       0.86      0.92      0.89      5025\n",
      "         1.0       0.91      0.85      0.88      5066\n",
      "\n",
      "    accuracy                           0.88     10091\n",
      "   macro avg       0.89      0.88      0.88     10091\n",
      "weighted avg       0.89      0.88      0.88     10091\n",
      "\n",
      "highly_malignant\n",
      "              precision    recall  f1-score   support\n",
      "\n",
      "         0.0       0.94      0.96      0.95       958\n",
      "         1.0       0.93      0.90      0.91       559\n",
      "\n",
      "    accuracy                           0.94      1517\n",
      "   macro avg       0.94      0.93      0.93      1517\n",
      "weighted avg       0.94      0.94      0.94      1517\n",
      "\n",
      "              precision    recall  f1-score   support\n",
      "\n",
      "         0.0       0.89      0.98      0.93       958\n",
      "         1.0       0.95      0.80      0.87       559\n",
      "\n",
      "    accuracy                           0.91      1517\n",
      "   macro avg       0.92      0.89      0.90      1517\n",
      "weighted avg       0.91      0.91      0.91      1517\n",
      "\n",
      "rude\n",
      "              precision    recall  f1-score   support\n",
      "\n",
      "         0.0       0.90      0.97      0.93      3289\n",
      "         1.0       0.96      0.87      0.91      2798\n",
      "\n",
      "    accuracy                           0.92      6087\n",
      "   macro avg       0.93      0.92      0.92      6087\n",
      "weighted avg       0.92      0.92      0.92      6087\n",
      "\n",
      "              precision    recall  f1-score   support\n",
      "\n",
      "         0.0       0.89      0.97      0.93      3289\n",
      "         1.0       0.96      0.86      0.91      2798\n",
      "\n",
      "    accuracy                           0.92      6087\n",
      "   macro avg       0.93      0.92      0.92      6087\n",
      "weighted avg       0.93      0.92      0.92      6087\n",
      "\n",
      "threat\n",
      "              precision    recall  f1-score   support\n",
      "\n",
      "         0.0       0.91      0.95      0.93       331\n",
      "         1.0       0.89      0.79      0.84       157\n",
      "\n",
      "    accuracy                           0.90       488\n",
      "   macro avg       0.90      0.87      0.88       488\n",
      "weighted avg       0.90      0.90      0.90       488\n",
      "\n",
      "              precision    recall  f1-score   support\n",
      "\n",
      "         0.0       0.84      0.99      0.91       331\n",
      "         1.0       0.96      0.59      0.73       157\n",
      "\n",
      "    accuracy                           0.86       488\n",
      "   macro avg       0.90      0.79      0.82       488\n",
      "weighted avg       0.88      0.86      0.85       488\n",
      "\n",
      "abuse\n",
      "              precision    recall  f1-score   support\n",
      "\n",
      "         0.0       0.91      0.96      0.93      4966\n",
      "         1.0       0.92      0.81      0.86      2583\n",
      "\n",
      "    accuracy                           0.91      7549\n",
      "   macro avg       0.91      0.88      0.90      7549\n",
      "weighted avg       0.91      0.91      0.91      7549\n",
      "\n",
      "              precision    recall  f1-score   support\n",
      "\n",
      "         0.0       0.89      0.97      0.93      4966\n",
      "         1.0       0.94      0.77      0.85      2583\n",
      "\n",
      "    accuracy                           0.90      7549\n",
      "   macro avg       0.91      0.87      0.89      7549\n",
      "weighted avg       0.91      0.90      0.90      7549\n",
      "\n",
      "loathe\n",
      "              precision    recall  f1-score   support\n",
      "\n",
      "         0.0       0.90      0.96      0.93       909\n",
      "         1.0       0.91      0.79      0.84       479\n",
      "\n",
      "    accuracy                           0.90      1388\n",
      "   macro avg       0.90      0.87      0.88      1388\n",
      "weighted avg       0.90      0.90      0.90      1388\n",
      "\n",
      "              precision    recall  f1-score   support\n",
      "\n",
      "         0.0       0.85      0.97      0.90       909\n",
      "         1.0       0.92      0.66      0.77       479\n",
      "\n",
      "    accuracy                           0.86      1388\n",
      "   macro avg       0.88      0.82      0.84      1388\n",
      "weighted avg       0.87      0.86      0.86      1388\n",
      "\n"
     ]
    }
   ],
   "source": [
    "#Checking out the metrics for different targets\n",
    "list_data=[balanced_mal,balanced_hmal,bal_rude,bal_threat,bal_abuse,bal_loathe]\n",
    "columns=['malignant','highly_malignant','rude','threat','abuse','loathe']\n",
    "rfc=RandomForestClassifier()\n",
    "lr=LogisticRegression()\n",
    "#svm=SVC(probability=True)\n",
    "c=0\n",
    "for i in list_data:\n",
    "    y=i[columns[c]]\n",
    "    x=i['comment_text']\n",
    "    print(columns[c])\n",
    "    get_f1(rfc,x,y)\n",
    "    get_f1(lr,x,y)\n",
    "   # get_f1(svm,x,y)\n",
    "    c=c+1\n",
    "    "
   ]
  },
  {
   "cell_type": "code",
   "execution_count": 75,
   "metadata": {},
   "outputs": [],
   "source": [
    "from sklearn.metrics import accuracy_score,classification_report,confusion_matrix,roc_curve"
   ]
  },
  {
   "cell_type": "code",
   "execution_count": 76,
   "metadata": {},
   "outputs": [],
   "source": [
    "x_train, x_test, y_train, y_test = train_test_split(x, y, test_size=0.3, random_state=42)\n"
   ]
  },
  {
   "cell_type": "code",
   "execution_count": 77,
   "metadata": {},
   "outputs": [],
   "source": [
    "y=df_new['malignant']\n",
    "x=df_new['comment_text']\n",
    "x_train, x_test, y_train, y_test = train_test_split(x, y, test_size=.33, random_state=42)\n",
    "\n",
    "tfv = TfidfVectorizer(ngram_range=(1,1), stop_words='english')\n",
    "x_train_tfv=tfv.fit_transform(x_train)\n",
    "x_test_tfv=tfv.transform(x_test)"
   ]
  },
  {
   "cell_type": "markdown",
   "metadata": {},
   "source": [
    "Visualizing the model performance using an roc_curve"
   ]
  },
  {
   "cell_type": "code",
   "execution_count": 78,
   "metadata": {},
   "outputs": [
    {
     "data": {
      "image/png": "[encoded data removed]",
      "text/plain": [
       "<Figure size 576x396 with 1 Axes>"
      ]
     },
     "metadata": {},
     "output_type": "display_data"
    }
   ],
   "source": [
    "\n",
    "#LogisticRegression vs rfr\n",
    "from sklearn.metrics import roc_curve\n",
    "model1 = LogisticRegression()\n",
    "# Support vector machine\n",
    "model2 =RandomForestClassifier()\n",
    "\n",
    "\n",
    "# fit model\n",
    "model1.fit(x_train_tfv, y_train)\n",
    "model2.fit(x_train_tfv, y_train)\n",
    "\n",
    "# predict probabilities\n",
    "pred_prob1 = model1.predict_proba(x_test_tfv)\n",
    "pred_prob2 = model2.predict_proba(x_test_tfv)\n",
    "fpr1, tpr1, thresh1 = roc_curve(y_test, pred_prob1[:,1], pos_label=0)\n",
    "fpr2, tpr2, thresh2 = roc_curve(y_test, pred_prob2[:,1], pos_label=0)\n",
    "\n",
    "# roc curve for tpr = fpr \n",
    "random_probs = [0 for i in range(len(y_test))]\n",
    "p_fpr, p_tpr, _ = roc_curve(y_test, random_probs, pos_label=0)\n",
    "plt.style.use('seaborn')\n",
    "\n",
    "# plot roc curves\n",
    "plt.plot(fpr1, tpr1, linestyle='--',color='orange', label='LogisticRegression')\n",
    "plt.plot(fpr2, tpr2, linestyle='--',color='green', label='Random Forest Classifier')\n",
    "plt.plot(p_fpr, p_tpr, linestyle='--', color='blue')\n",
    "# title\n",
    "plt.title('ROC curve')\n",
    "# x label\n",
    "plt.xlabel('False positive Rate')\n",
    "# y label\n",
    "plt.ylabel('True positive rate')\n",
    "\n",
    "plt.legend(loc='best')\n",
    "plt.savefig('ROC',dpi=300)\n",
    "plt.show()"
   ]
  },
  {
   "cell_type": "markdown",
   "metadata": {},
   "source": [
    "As apparent, Logistic Regression has a slightly better performance in identifying the malignant comments."
   ]
  },
  {
   "cell_type": "code",
   "execution_count": 79,
   "metadata": {},
   "outputs": [],
   "source": [
    "y=df_new['highly_malignant']\n",
    "x=df_new['comment_text']\n",
    "x_train, x_test, y_train, y_test = train_test_split(x, y, test_size=.33, random_state=42)\n",
    "\n",
    "#tfv = TfidfVectorizer(ngram_range=(1,1), stop_words='english')\n",
    "x_train_tfv=tfv.transform(x_train)\n",
    "x_test_tfv=tfv.transform(x_test)"
   ]
  },
  {
   "cell_type": "code",
   "execution_count": 80,
   "metadata": {},
   "outputs": [
    {
     "data": {
      "image/png": "[encoded data removed]",
      "text/plain": [
       "<Figure size 576x396 with 1 Axes>"
      ]
     },
     "metadata": {},
     "output_type": "display_data"
    }
   ],
   "source": [
    "model1 = LogisticRegression()\n",
    "# Support vector machine\n",
    "model2 =RandomForestClassifier()\n",
    "\n",
    "\n",
    "# fit model\n",
    "model1.fit(x_train_tfv, y_train)\n",
    "model2.fit(x_train_tfv, y_train)\n",
    "\n",
    "# predict probabilities\n",
    "pred_prob1 = model1.predict_proba(x_test_tfv)\n",
    "pred_prob2 = model2.predict_proba(x_test_tfv)\n",
    "fpr1, tpr1, thresh1 = roc_curve(y_test, pred_prob1[:,1], pos_label=0)\n",
    "fpr2, tpr2, thresh2 = roc_curve(y_test, pred_prob2[:,1], pos_label=0)\n",
    "\n",
    "# roc curve for tpr = fpr \n",
    "random_probs = [0 for i in range(len(y_test))]\n",
    "p_fpr, p_tpr, _ = roc_curve(y_test, random_probs, pos_label=0)\n",
    "plt.style.use('seaborn')\n",
    "\n",
    "# plot roc curves\n",
    "plt.plot(fpr1, tpr1, linestyle='--',color='orange', label='LogisticRegression')\n",
    "plt.plot(fpr2, tpr2, linestyle='--',color='green', label='Random Forest Classifier')\n",
    "plt.plot(p_fpr, p_tpr, linestyle='--', color='blue')\n",
    "# title\n",
    "plt.title('ROC curve')\n",
    "# x label\n",
    "plt.xlabel('False positive Rate')\n",
    "# y label\n",
    "plt.ylabel('True positive rate')\n",
    "\n",
    "plt.legend(loc='best')\n",
    "plt.savefig('ROC',dpi=300)\n",
    "plt.show()"
   ]
  },
  {
   "cell_type": "code",
   "execution_count": 81,
   "metadata": {},
   "outputs": [],
   "source": [
    "#THREAT\n",
    "y=df_new['threat']\n",
    "x=df_new['comment_text']\n",
    "x_train, x_test, y_train, y_test = train_test_split(x, y, test_size=.33, random_state=42)\n",
    "\n",
    "#tfv = TfidfVectorizer(ngram_range=(1,1), stop_words='english')\n",
    "x_train_tfv=tfv.transform(x_train)\n",
    "x_test_tfv=tfv.transform(x_test)"
   ]
  },
  {
   "cell_type": "code",
   "execution_count": 82,
   "metadata": {},
   "outputs": [
    {
     "data": {
      "image/png": "[encoded data removed]",
      "text/plain": [
       "<Figure size 576x396 with 1 Axes>"
      ]
     },
     "metadata": {},
     "output_type": "display_data"
    }
   ],
   "source": [
    "model1 = LogisticRegression()\n",
    "# Support vector machine\n",
    "model2 =RandomForestClassifier()\n",
    "\n",
    "\n",
    "# fit model\n",
    "model1.fit(x_train_tfv, y_train)\n",
    "model2.fit(x_train_tfv, y_train)\n",
    "\n",
    "# predict probabilities\n",
    "pred_prob1 = model1.predict_proba(x_test_tfv)\n",
    "pred_prob2 = model2.predict_proba(x_test_tfv)\n",
    "fpr1, tpr1, thresh1 = roc_curve(y_test, pred_prob1[:,1], pos_label=0)\n",
    "fpr2, tpr2, thresh2 = roc_curve(y_test, pred_prob2[:,1], pos_label=0)\n",
    "\n",
    "# roc curve for tpr = fpr \n",
    "random_probs = [0 for i in range(len(y_test))]\n",
    "p_fpr, p_tpr, _ = roc_curve(y_test, random_probs, pos_label=0)\n",
    "plt.style.use('seaborn')\n",
    "\n",
    "# plot roc curves\n",
    "plt.plot(fpr1, tpr1, linestyle='--',color='orange', label='LogisticRegression')\n",
    "plt.plot(fpr2, tpr2, linestyle='--',color='green', label='Random Forest Classifier')\n",
    "plt.plot(p_fpr, p_tpr, linestyle='--', color='blue')\n",
    "# title\n",
    "plt.title('ROC curve')\n",
    "# x label\n",
    "plt.xlabel('False positive Rate')\n",
    "# y label\n",
    "plt.ylabel('True positive rate')\n",
    "\n",
    "plt.legend(loc='best')\n",
    "plt.savefig('ROC',dpi=300)\n",
    "plt.show()"
   ]
  },
  {
   "cell_type": "code",
   "execution_count": 83,
   "metadata": {},
   "outputs": [
    {
     "data": {
      "image/png": "[encoded data removed]",
      "text/plain": [
       "<Figure size 576x396 with 1 Axes>"
      ]
     },
     "metadata": {},
     "output_type": "display_data"
    }
   ],
   "source": [
    "model1 = LogisticRegression()\n",
    "\n",
    "model2 =RandomForestClassifier()\n",
    "\n",
    "\n",
    "# fit model\n",
    "model1.fit(x_train_tfv, y_train)\n",
    "model2.fit(x_train_tfv, y_train)\n",
    "\n",
    "# predict probabilities\n",
    "pred_prob1 = model1.predict_proba(x_test_tfv)\n",
    "pred_prob2 = model2.predict_proba(x_test_tfv)\n",
    "fpr1, tpr1, thresh1 = roc_curve(y_test, pred_prob1[:,0], pos_label=0)\n",
    "fpr2, tpr2, thresh2 = roc_curve(y_test, pred_prob2[:,0], pos_label=0)\n",
    "\n",
    "# roc curve for tpr = fpr \n",
    "random_probs = [0 for i in range(len(y_test))]\n",
    "p_fpr, p_tpr, _ = roc_curve(y_test, random_probs, pos_label=0)\n",
    "plt.style.use('seaborn')\n",
    "\n",
    "# plot roc curves\n",
    "plt.plot(fpr1, tpr1, linestyle='--',color='orange', label='LogisticRegression')\n",
    "plt.plot(fpr2, tpr2, linestyle='--',color='green', label='Random Forest Classifier')\n",
    "plt.plot(p_fpr, p_tpr, linestyle='--', color='blue')\n",
    "# title\n",
    "plt.title('ROC curve')\n",
    "# x label\n",
    "plt.xlabel('False positive Rate')\n",
    "# y label\n",
    "plt.ylabel('True positive rate')\n",
    "\n",
    "plt.legend(loc='best')\n",
    "plt.savefig('ROC',dpi=300)\n",
    "plt.show()"
   ]
  },
  {
   "cell_type": "code",
   "execution_count": 84,
   "metadata": {},
   "outputs": [],
   "source": [
    "#Abuse\n",
    "y=df_new['abuse']\n",
    "x=df_new['comment_text']\n",
    "x_train, x_test, y_train, y_test = train_test_split(x, y, test_size=.33, random_state=42)\n",
    "\n",
    "#tfv = TfidfVectorizer(ngram_range=(1,1), stop_words='english')\n",
    "x_train_tfv=tfv.transform(x_train)\n",
    "x_test_tfv=tfv.transform(x_test)"
   ]
  },
  {
   "cell_type": "code",
   "execution_count": 85,
   "metadata": {},
   "outputs": [
    {
     "data": {
      "image/png": "[encoded data removed]",
      "text/plain": [
       "<Figure size 576x396 with 1 Axes>"
      ]
     },
     "metadata": {},
     "output_type": "display_data"
    }
   ],
   "source": [
    "model1 = LogisticRegression()\n",
    "# Support vector machine\n",
    "model2 =RandomForestClassifier()\n",
    "\n",
    "\n",
    "# fit model\n",
    "model1.fit(x_train_tfv, y_train)\n",
    "model2.fit(x_train_tfv, y_train)\n",
    "\n",
    "# predict probabilities\n",
    "pred_prob1 = model1.predict_proba(x_test_tfv)\n",
    "pred_prob2 = model2.predict_proba(x_test_tfv)\n",
    "fpr1, tpr1, thresh1 = roc_curve(y_test, pred_prob1[:,1], pos_label=0)\n",
    "fpr2, tpr2, thresh2 = roc_curve(y_test, pred_prob2[:,1], pos_label=0)\n",
    "\n",
    "# roc curve for tpr = fpr \n",
    "random_probs = [0 for i in range(len(y_test))]\n",
    "p_fpr, p_tpr, _ = roc_curve(y_test, random_probs, pos_label=0)\n",
    "plt.style.use('seaborn')\n",
    "\n",
    "# plot roc curves\n",
    "plt.plot(fpr1, tpr1, linestyle='--',color='orange', label='LogisticRegression')\n",
    "plt.plot(fpr2, tpr2, linestyle='--',color='green', label='Random Forest Classifier')\n",
    "plt.plot(p_fpr, p_tpr, linestyle='--', color='blue')\n",
    "# title\n",
    "plt.title('ROC curve')\n",
    "# x label\n",
    "plt.xlabel('False positive Rate')\n",
    "# y label\n",
    "plt.ylabel('True positive rate')\n",
    "\n",
    "plt.legend(loc='best')\n",
    "plt.savefig('ROC',dpi=300)\n",
    "plt.show()"
   ]
  },
  {
   "cell_type": "code",
   "execution_count": 86,
   "metadata": {},
   "outputs": [],
   "source": [
    "y=df_new['loathe']\n",
    "x=df_new['comment_text']\n",
    "x_train, x_test, y_train, y_test = train_test_split(x, y, test_size=.33, random_state=42)\n",
    "\n",
    "#tfv = TfidfVectorizer(ngram_range=(1,1), stop_words='english')\n",
    "x_train_tfv=tfv.transform(x_train)\n",
    "x_test_tfv=tfv.transform(x_test)"
   ]
  },
  {
   "cell_type": "code",
   "execution_count": 87,
   "metadata": {},
   "outputs": [
    {
     "data": {
      "image/png": "[encoded data removed]",
      "text/plain": [
       "<Figure size 576x396 with 1 Axes>"
      ]
     },
     "metadata": {},
     "output_type": "display_data"
    }
   ],
   "source": [
    "model1 = LogisticRegression()\n",
    "\n",
    "model2 =RandomForestClassifier()\n",
    "\n",
    "\n",
    "# fit model\n",
    "model1.fit(x_train_tfv, y_train)\n",
    "model2.fit(x_train_tfv, y_train)\n",
    "\n",
    "# predict probabilities\n",
    "pred_prob1 = model1.predict_proba(x_test_tfv)\n",
    "pred_prob2 = model2.predict_proba(x_test_tfv)\n",
    "fpr1, tpr1, thresh1 = roc_curve(y_test, pred_prob1[:,1], pos_label=0)\n",
    "fpr2, tpr2, thresh2 = roc_curve(y_test, pred_prob2[:,1], pos_label=0)\n",
    "\n",
    "# roc curve for tpr = fpr \n",
    "random_probs = [0 for i in range(len(y_test))]\n",
    "p_fpr, p_tpr, _ = roc_curve(y_test, random_probs, pos_label=0)\n",
    "plt.style.use('seaborn')\n",
    "\n",
    "# plot roc curves\n",
    "plt.plot(fpr1, tpr1, linestyle='--',color='orange', label='LogisticRegression')\n",
    "plt.plot(fpr2, tpr2, linestyle='--',color='green', label='Random Forest Classifier')\n",
    "plt.plot(p_fpr, p_tpr, linestyle='--', color='blue')\n",
    "# title\n",
    "plt.title('ROC curve')\n",
    "# x label\n",
    "plt.xlabel('False positive Rate')\n",
    "# y label\n",
    "plt.ylabel('True positive rate')\n",
    "\n",
    "plt.legend(loc='best')\n",
    "plt.savefig('ROC',dpi=300)\n",
    "plt.show()"
   ]
  },
  {
   "cell_type": "markdown",
   "metadata": {},
   "source": [
    "LogisticRegression did a better job in identifying the 0 and 1 categories across all the target variables.\n",
    "All the dataframes created after balancing the different target features were then merged into one to proceed for model traing/MachineLearning phase."
   ]
  },
  {
   "cell_type": "code",
   "execution_count": 88,
   "metadata": {},
   "outputs": [
    {
     "data": {
      "text/html": [
       "<div>\n",
       "<style scoped>\n",
       "    .dataframe tbody tr th:only-of-type {\n",
       "        vertical-align: middle;\n",
       "    }\n",
       "\n",
       "    .dataframe tbody tr th {\n",
       "        vertical-align: top;\n",
       "    }\n",
       "\n",
       "    .dataframe thead th {\n",
       "        text-align: right;\n",
       "    }\n",
       "</style>\n",
       "<table border=\"1\" class=\"dataframe\">\n",
       "  <thead>\n",
       "    <tr style=\"text-align: right;\">\n",
       "      <th></th>\n",
       "      <th>id</th>\n",
       "      <th>comment_text</th>\n",
       "      <th>malignant</th>\n",
       "      <th>highly_malignant</th>\n",
       "      <th>rude</th>\n",
       "      <th>threat</th>\n",
       "      <th>abuse</th>\n",
       "      <th>loathe</th>\n",
       "    </tr>\n",
       "  </thead>\n",
       "  <tbody>\n",
       "    <tr>\n",
       "      <th>6</th>\n",
       "      <td>0002bcb3da6cb337</td>\n",
       "      <td>cocksucker before you piss around on my work</td>\n",
       "      <td>1.0</td>\n",
       "      <td>1.0</td>\n",
       "      <td>1.0</td>\n",
       "      <td>0.0</td>\n",
       "      <td>1.0</td>\n",
       "      <td>0.0</td>\n",
       "    </tr>\n",
       "    <tr>\n",
       "      <th>12</th>\n",
       "      <td>0005c987bdfc9d4b</td>\n",
       "      <td>hey what is it   talk  what is it an exclusive...</td>\n",
       "      <td>1.0</td>\n",
       "      <td>0.0</td>\n",
       "      <td>0.0</td>\n",
       "      <td>0.0</td>\n",
       "      <td>0.0</td>\n",
       "      <td>0.0</td>\n",
       "    </tr>\n",
       "    <tr>\n",
       "      <th>16</th>\n",
       "      <td>0007e25b2121310b</td>\n",
       "      <td>bye dont look come or think of comming back to...</td>\n",
       "      <td>1.0</td>\n",
       "      <td>0.0</td>\n",
       "      <td>0.0</td>\n",
       "      <td>0.0</td>\n",
       "      <td>0.0</td>\n",
       "      <td>0.0</td>\n",
       "    </tr>\n",
       "    <tr>\n",
       "      <th>42</th>\n",
       "      <td>001810bf8c45bf5f</td>\n",
       "      <td>you are gay or antisemmitian archangel white t...</td>\n",
       "      <td>1.0</td>\n",
       "      <td>0.0</td>\n",
       "      <td>1.0</td>\n",
       "      <td>0.0</td>\n",
       "      <td>1.0</td>\n",
       "      <td>1.0</td>\n",
       "    </tr>\n",
       "    <tr>\n",
       "      <th>43</th>\n",
       "      <td>00190820581d90ce</td>\n",
       "      <td>fuck your filthy mother in the ass dry</td>\n",
       "      <td>1.0</td>\n",
       "      <td>0.0</td>\n",
       "      <td>1.0</td>\n",
       "      <td>0.0</td>\n",
       "      <td>1.0</td>\n",
       "      <td>0.0</td>\n",
       "    </tr>\n",
       "    <tr>\n",
       "      <th>...</th>\n",
       "      <td>...</td>\n",
       "      <td>...</td>\n",
       "      <td>...</td>\n",
       "      <td>...</td>\n",
       "      <td>...</td>\n",
       "      <td>...</td>\n",
       "      <td>...</td>\n",
       "      <td>...</td>\n",
       "    </tr>\n",
       "    <tr>\n",
       "      <th>2826</th>\n",
       "      <td>079b036fed8995db</td>\n",
       "      <td>you know for human excrement youre pretty fast...</td>\n",
       "      <td>1.0</td>\n",
       "      <td>0.0</td>\n",
       "      <td>0.0</td>\n",
       "      <td>0.0</td>\n",
       "      <td>1.0</td>\n",
       "      <td>0.0</td>\n",
       "    </tr>\n",
       "    <tr>\n",
       "      <th>2827</th>\n",
       "      <td>079bf93384771454</td>\n",
       "      <td>i appreciate the sentiment its nice to know t...</td>\n",
       "      <td>0.0</td>\n",
       "      <td>0.0</td>\n",
       "      <td>0.0</td>\n",
       "      <td>0.0</td>\n",
       "      <td>0.0</td>\n",
       "      <td>0.0</td>\n",
       "    </tr>\n",
       "    <tr>\n",
       "      <th>2828</th>\n",
       "      <td>079c08cf3721f35e</td>\n",
       "      <td>to tha undertaker if you want to promote your...</td>\n",
       "      <td>0.0</td>\n",
       "      <td>0.0</td>\n",
       "      <td>0.0</td>\n",
       "      <td>0.0</td>\n",
       "      <td>0.0</td>\n",
       "      <td>0.0</td>\n",
       "    </tr>\n",
       "    <tr>\n",
       "      <th>2829</th>\n",
       "      <td>079eaf68ae081d68</td>\n",
       "      <td>so you speak for the people of ireland dont ma...</td>\n",
       "      <td>0.0</td>\n",
       "      <td>0.0</td>\n",
       "      <td>0.0</td>\n",
       "      <td>0.0</td>\n",
       "      <td>0.0</td>\n",
       "      <td>0.0</td>\n",
       "    </tr>\n",
       "    <tr>\n",
       "      <th>2830</th>\n",
       "      <td>079ef5054c546e7c</td>\n",
       "      <td>gwen the lead says he was dead by the th noone...</td>\n",
       "      <td>0.0</td>\n",
       "      <td>0.0</td>\n",
       "      <td>0.0</td>\n",
       "      <td>0.0</td>\n",
       "      <td>0.0</td>\n",
       "      <td>0.0</td>\n",
       "    </tr>\n",
       "  </tbody>\n",
       "</table>\n",
       "<p>82174 rows × 8 columns</p>\n",
       "</div>"
      ],
      "text/plain": [
       "                    id                                       comment_text  \\\n",
       "6     0002bcb3da6cb337       cocksucker before you piss around on my work   \n",
       "12    0005c987bdfc9d4b  hey what is it   talk  what is it an exclusive...   \n",
       "16    0007e25b2121310b  bye dont look come or think of comming back to...   \n",
       "42    001810bf8c45bf5f  you are gay or antisemmitian archangel white t...   \n",
       "43    00190820581d90ce             fuck your filthy mother in the ass dry   \n",
       "...                ...                                                ...   \n",
       "2826  079b036fed8995db  you know for human excrement youre pretty fast...   \n",
       "2827  079bf93384771454   i appreciate the sentiment its nice to know t...   \n",
       "2828  079c08cf3721f35e   to tha undertaker if you want to promote your...   \n",
       "2829  079eaf68ae081d68  so you speak for the people of ireland dont ma...   \n",
       "2830  079ef5054c546e7c  gwen the lead says he was dead by the th noone...   \n",
       "\n",
       "      malignant  highly_malignant  rude  threat  abuse  loathe  \n",
       "6           1.0               1.0   1.0     0.0    1.0     0.0  \n",
       "12          1.0               0.0   0.0     0.0    0.0     0.0  \n",
       "16          1.0               0.0   0.0     0.0    0.0     0.0  \n",
       "42          1.0               0.0   1.0     0.0    1.0     1.0  \n",
       "43          1.0               0.0   1.0     0.0    1.0     0.0  \n",
       "...         ...               ...   ...     ...    ...     ...  \n",
       "2826        1.0               0.0   0.0     0.0    1.0     0.0  \n",
       "2827        0.0               0.0   0.0     0.0    0.0     0.0  \n",
       "2828        0.0               0.0   0.0     0.0    0.0     0.0  \n",
       "2829        0.0               0.0   0.0     0.0    0.0     0.0  \n",
       "2830        0.0               0.0   0.0     0.0    0.0     0.0  \n",
       "\n",
       "[82174 rows x 8 columns]"
      ]
     },
     "execution_count": 88,
     "metadata": {},
     "output_type": "execute_result"
    }
   ],
   "source": [
    "balanced_dataset=pd.concat([balanced_mal,balanced_hmal,bal_rude,bal_threat,bal_abuse,bal_loathe],axis=0)\n",
    "balanced_dataset"
   ]
  },
  {
   "cell_type": "code",
   "execution_count": 89,
   "metadata": {},
   "outputs": [],
   "source": [
    "#Malignant\n",
    "x=balanced_dataset['comment_text']\n",
    "cross=tfv.transform(x)\n",
    "y=balanced_dataset['malignant']"
   ]
  },
  {
   "cell_type": "code",
   "execution_count": 90,
   "metadata": {},
   "outputs": [
    {
     "name": "stdout",
     "output_type": "stream",
     "text": [
      "0.9329965336676747\n",
      "              precision    recall  f1-score   support\n",
      "\n",
      "         0.0       0.92      0.97      0.94     15279\n",
      "         1.0       0.96      0.89      0.92     11839\n",
      "\n",
      "    accuracy                           0.93     27118\n",
      "   macro avg       0.94      0.93      0.93     27118\n",
      "weighted avg       0.93      0.93      0.93     27118\n",
      "\n"
     ]
    }
   ],
   "source": [
    "x_train, x_test, y_train, y_test = train_test_split(x, y, test_size=.33, random_state=42)\n",
    "lr1=LogisticRegression()\n",
    "#tfv = TfidfVectorizer(ngram_range=(1,1), stop_words='english')\n",
    "x_train_tfv1=tfv.transform(x_train)\n",
    "x_test_tfv1=tfv.transform(x_test)\n",
    "lr1.fit(x_train_tfv1,y_train)\n",
    "pred_log=lr1.predict(x_test_tfv1)\n",
    "print(accuracy_score(y_test,pred_log))\n",
    "print(classification_report(y_test,pred_log))"
   ]
  },
  {
   "cell_type": "code",
   "execution_count": 91,
   "metadata": {},
   "outputs": [
    {
     "name": "stdout",
     "output_type": "stream",
     "text": [
      "0.8504098360655737\n",
      "              precision    recall  f1-score   support\n",
      "\n",
      "         0.0       0.82      1.00      0.90       331\n",
      "         1.0       0.99      0.54      0.70       157\n",
      "\n",
      "    accuracy                           0.85       488\n",
      "   macro avg       0.90      0.77      0.80       488\n",
      "weighted avg       0.87      0.85      0.84       488\n",
      "\n"
     ]
    }
   ],
   "source": [
    "#threat\n",
    "lr2=LogisticRegression()\n",
    "x=bal_threat['comment_text']\n",
    "cross=tfv.transform(x)\n",
    "y=bal_threat['threat']\n",
    "x_train, x_test, y_train, y_test = train_test_split(x, y, test_size=.33, random_state=42)\n",
    "\n",
    "#tfv = TfidfVectorizer(ngram_range=(1,1), stop_words='english')\n",
    "x_train_tfv2=tfv.transform(x_train)\n",
    "x_test_tfv2=tfv.transform(x_test)\n",
    "lr2.fit(x_train_tfv2,y_train)\n",
    "pred_log=lr2.predict(x_test_tfv2)\n",
    "print(accuracy_score(y_test,pred_log))\n",
    "print(classification_report(y_test,pred_log))"
   ]
  },
  {
   "cell_type": "code",
   "execution_count": 92,
   "metadata": {},
   "outputs": [
    {
     "name": "stdout",
     "output_type": "stream",
     "text": [
      "accuracy: 0.9017088356073653\n",
      "0.9017088356073653\n",
      "              precision    recall  f1-score   support\n",
      "\n",
      "         0.0       0.89      0.98      0.93      4966\n",
      "         1.0       0.94      0.76      0.84      2583\n",
      "\n",
      "    accuracy                           0.90      7549\n",
      "   macro avg       0.91      0.87      0.88      7549\n",
      "weighted avg       0.91      0.90      0.90      7549\n",
      "\n"
     ]
    }
   ],
   "source": [
    "#abuse\n",
    "lr3=LogisticRegression()\n",
    "x=bal_abuse['comment_text']\n",
    "cross=tfv.transform(x)\n",
    "y=bal_abuse['abuse']\n",
    "x_train, x_test, y_train, y_test = train_test_split(x, y, test_size=.33, random_state=42)\n",
    "\n",
    "#tfv = TfidfVectorizer(ngram_range=(1,1), stop_words='english')\n",
    "x_train_tfv3=tfv.transform(x_train)\n",
    "x_test_tfv3=tfv.transform(x_test)\n",
    "lr3.fit(x_train_tfv3,y_train)\n",
    "pred_log=lr3.predict(x_test_tfv3)\n",
    "print(\"accuracy:\",accuracy_score(y_test,pred_log))\n",
    "print(accuracy_score(y_test,pred_log))\n",
    "print(classification_report(y_test,pred_log))"
   ]
  },
  {
   "cell_type": "code",
   "execution_count": 93,
   "metadata": {},
   "outputs": [
    {
     "name": "stdout",
     "output_type": "stream",
     "text": [
      "accuracy: 0.8589951377633711\n",
      "0.8589951377633711\n",
      "              precision    recall  f1-score   support\n",
      "\n",
      "         0.0       0.84      0.98      0.90      1231\n",
      "         1.0       0.93      0.63      0.75       620\n",
      "\n",
      "    accuracy                           0.86      1851\n",
      "   macro avg       0.88      0.80      0.83      1851\n",
      "weighted avg       0.87      0.86      0.85      1851\n",
      "\n"
     ]
    }
   ],
   "source": [
    "#loathe\n",
    "lr4=LogisticRegression()\n",
    "x=bal_loathe['comment_text']\n",
    "cross=tfv.transform(x)\n",
    "y=bal_loathe['loathe']\n",
    "x_train, x_test, y_train, y_test = train_test_split(x, y, test_size=.44, random_state=42)\n",
    "\n",
    "#tfv = TfidfVectorizer(ngram_range=(1,1), stop_words='english')\n",
    "x_train_tfv4=tfv.transform(x_train)\n",
    "x_test_tfv4=tfv.transform(x_test)\n",
    "lr4.fit(x_train_tfv4,y_train)\n",
    "pred_log=lr4.predict(x_test_tfv4)\n",
    "print(\"accuracy:\",accuracy_score(y_test,pred_log))\n",
    "print(accuracy_score(y_test,pred_log))\n",
    "print(classification_report(y_test,pred_log))"
   ]
  },
  {
   "cell_type": "code",
   "execution_count": 94,
   "metadata": {},
   "outputs": [
    {
     "name": "stdout",
     "output_type": "stream",
     "text": [
      "accuracy: 0.886822318955283\n",
      "0.886822318955283\n",
      "              precision    recall  f1-score   support\n",
      "\n",
      "         0.0       0.86      0.98      0.92      1625\n",
      "         1.0       0.95      0.72      0.82       902\n",
      "\n",
      "    accuracy                           0.89      2527\n",
      "   macro avg       0.91      0.85      0.87      2527\n",
      "weighted avg       0.89      0.89      0.88      2527\n",
      "\n"
     ]
    }
   ],
   "source": [
    "#highly malignant\n",
    "lr5=LogisticRegression()\n",
    "x=balanced_hmal['comment_text']\n",
    "cross=tfv.transform(x)\n",
    "y=balanced_hmal['highly_malignant']\n",
    "x_train, x_test, y_train, y_test = train_test_split(x, y, test_size=.55, random_state=52)\n",
    "\n",
    "#tfv = TfidfVectorizer(ngram_range=(1,1), stop_words='english')\n",
    "x_train_tfv5=tfv.transform(x_train)\n",
    "x_test_tfv5=tfv.transform(x_test)\n",
    "lr5.fit(x_train_tfv5,y_train)\n",
    "pred_log=lr5.predict(x_test_tfv5)\n",
    "print(\"accuracy:\",accuracy_score(y_test,pred_log))\n",
    "print(accuracy_score(y_test,pred_log))\n",
    "print(classification_report(y_test,pred_log))"
   ]
  },
  {
   "cell_type": "markdown",
   "metadata": {},
   "source": [
    "Logistic Regression was selected as our best model as it had a good f1_score,took least time among all to process/predict the target columns and also had a very low difference between accuracy and cross_val_score."
   ]
  },
  {
   "cell_type": "markdown",
   "metadata": {},
   "source": [
    "Different LogisticRegression algorithms were used for predicting the different target variables."
   ]
  },
  {
   "cell_type": "markdown",
   "metadata": {},
   "source": [
    "Saving the models using pickle"
   ]
  },
  {
   "cell_type": "markdown",
   "metadata": {},
   "source": [
    "Loading the model back for predicting the test data"
   ]
  },
  {
   "cell_type": "code",
   "execution_count": 95,
   "metadata": {},
   "outputs": [
    {
     "data": {
      "text/html": [
       "<div>\n",
       "<style scoped>\n",
       "    .dataframe tbody tr th:only-of-type {\n",
       "        vertical-align: middle;\n",
       "    }\n",
       "\n",
       "    .dataframe tbody tr th {\n",
       "        vertical-align: top;\n",
       "    }\n",
       "\n",
       "    .dataframe thead th {\n",
       "        text-align: right;\n",
       "    }\n",
       "</style>\n",
       "<table border=\"1\" class=\"dataframe\">\n",
       "  <thead>\n",
       "    <tr style=\"text-align: right;\">\n",
       "      <th></th>\n",
       "      <th>id</th>\n",
       "      <th>comment_text</th>\n",
       "    </tr>\n",
       "  </thead>\n",
       "  <tbody>\n",
       "    <tr>\n",
       "      <th>0</th>\n",
       "      <td>00001cee341fdb12</td>\n",
       "      <td>Yo bitch Ja Rule is more succesful then you'll...</td>\n",
       "    </tr>\n",
       "    <tr>\n",
       "      <th>1</th>\n",
       "      <td>0000247867823ef7</td>\n",
       "      <td>== From RfC == \\n\\n The title is fine as it is...</td>\n",
       "    </tr>\n",
       "    <tr>\n",
       "      <th>2</th>\n",
       "      <td>00013b17ad220c46</td>\n",
       "      <td>\" \\n\\n == Sources == \\n\\n * Zawe Ashton on Lap...</td>\n",
       "    </tr>\n",
       "    <tr>\n",
       "      <th>3</th>\n",
       "      <td>00017563c3f7919a</td>\n",
       "      <td>:If you have a look back at the source, the in...</td>\n",
       "    </tr>\n",
       "    <tr>\n",
       "      <th>4</th>\n",
       "      <td>00017695ad8997eb</td>\n",
       "      <td>I don't anonymously edit articles at all.</td>\n",
       "    </tr>\n",
       "  </tbody>\n",
       "</table>\n",
       "</div>"
      ],
      "text/plain": [
       "                 id                                       comment_text\n",
       "0  00001cee341fdb12  Yo bitch Ja Rule is more succesful then you'll...\n",
       "1  0000247867823ef7  == From RfC == \\n\\n The title is fine as it is...\n",
       "2  00013b17ad220c46  \" \\n\\n == Sources == \\n\\n * Zawe Ashton on Lap...\n",
       "3  00017563c3f7919a  :If you have a look back at the source, the in...\n",
       "4  00017695ad8997eb          I don't anonymously edit articles at all."
      ]
     },
     "execution_count": 95,
     "metadata": {},
     "output_type": "execute_result"
    }
   ],
   "source": [
    "df_test=pd.read_csv('malignant_comments_classifier(test).csv',sep='\\t')\n",
    "df_test.head()"
   ]
  },
  {
   "cell_type": "code",
   "execution_count": 96,
   "metadata": {},
   "outputs": [],
   "source": [
    "df_test.drop('id',axis=1,inplace=True)"
   ]
  },
  {
   "cell_type": "markdown",
   "metadata": {},
   "source": [
    "Performing the same type of data cleaning/preprocessing  operations on the test data as was done on the training data."
   ]
  },
  {
   "cell_type": "code",
   "execution_count": 97,
   "metadata": {},
   "outputs": [],
   "source": [
    "#Cleaning the text data\n",
    "df_test['comment_text']=df_test['comment_text'].astype(str)\n",
    "alpha=lambda x:re.sub(r\"\\[[0-9]*\\]\",' ',x)\n",
    "alpha2=lambda x:re.sub(r'\\s+',' ',x)\n",
    "alpha3=lambda x:x.lower()\n",
    "alpha4=lambda x:re.sub(r'\\d',' ',x)\n",
    "alpha5=lambda x:re.sub(r'\\s+',\" \",x)\n",
    "alpha6=lambda x:x.translate(str.maketrans(\"\",\"\",string.punctuation))\n",
    "df_test['comment_text']=df_test['comment_text'].map(alpha).map(alpha2).map(alpha3).map(alpha4).map(alpha5).map(alpha6)"
   ]
  },
  {
   "cell_type": "code",
   "execution_count": 98,
   "metadata": {},
   "outputs": [
    {
     "data": {
      "text/plain": [
       "<153186x177192 sparse matrix of type '<class 'numpy.float64'>'\n",
       "\twith 3193177 stored elements in Compressed Sparse Row format>"
      ]
     },
     "execution_count": 98,
     "metadata": {},
     "output_type": "execute_result"
    }
   ],
   "source": [
    "\n",
    "#tfv = TfidfVectorizer(ngram_range=(1,1), stop_words='english')\n",
    "test_data=tfv.transform(df_test['comment_text'])\n",
    "test_data"
   ]
  },
  {
   "cell_type": "markdown",
   "metadata": {},
   "source": [
    "SAVING THE LOGISTIC REGRESSION MODEL FOR FUTURE USE"
   ]
  },
  {
   "cell_type": "code",
   "execution_count": 99,
   "metadata": {},
   "outputs": [],
   "source": [
    "import pickle\n",
    "filename1='malignant_comments_classifier.sav'\n",
    "pickle.dump(lr1,open(filename1,'wb'))"
   ]
  },
  {
   "cell_type": "markdown",
   "metadata": {},
   "source": [
    "#for highly malignant comments"
   ]
  },
  {
   "cell_type": "code",
   "execution_count": 100,
   "metadata": {},
   "outputs": [],
   "source": [
    "filename2='highly_malignant_comments_classifier.sav'\n",
    "pickle.dump(lr5,open(filename2,'wb'))"
   ]
  },
  {
   "cell_type": "markdown",
   "metadata": {},
   "source": [
    "FOR ABUSE TYPE COMMENTS"
   ]
  },
  {
   "cell_type": "code",
   "execution_count": 101,
   "metadata": {},
   "outputs": [],
   "source": [
    "filename3='abuse_comments_classifier.sav'\n",
    "pickle.dump(lr3,open(filename3,'wb'))"
   ]
  },
  {
   "cell_type": "markdown",
   "metadata": {},
   "source": [
    "FOR COMMENTS POSING THREAT"
   ]
  },
  {
   "cell_type": "code",
   "execution_count": 102,
   "metadata": {},
   "outputs": [],
   "source": [
    "filename4='threatning_comments_classifier.sav'\n",
    "pickle.dump(lr2,open(filename4,'wb'))"
   ]
  },
  {
   "cell_type": "markdown",
   "metadata": {},
   "source": [
    "FOR LOATHE TYPE OF COMMENTS"
   ]
  },
  {
   "cell_type": "code",
   "execution_count": 106,
   "metadata": {},
   "outputs": [],
   "source": [
    "filename5='loathe_comments_classifier.sav'\n",
    "pickle.dump(lr4,open(filename5,'wb'))"
   ]
  },
  {
   "cell_type": "markdown",
   "metadata": {},
   "source": [
    "RELOADING THE MODELS FOR MAKING PREDICTIONS ON THE TEST DATA"
   ]
  },
  {
   "cell_type": "code",
   "execution_count": 107,
   "metadata": {},
   "outputs": [],
   "source": [
    "load_model1=pickle.load(open(filename1,'rb'))"
   ]
  },
  {
   "cell_type": "code",
   "execution_count": 108,
   "metadata": {},
   "outputs": [
    {
     "data": {
      "text/plain": [
       "array([[0.00780046, 0.99219954],\n",
       "       [0.95746892, 0.04253108],\n",
       "       [0.7954962 , 0.2045038 ],\n",
       "       ...,\n",
       "       [0.92062706, 0.07937294],\n",
       "       [0.83095471, 0.16904529],\n",
       "       [0.01988635, 0.98011365]])"
      ]
     },
     "execution_count": 108,
     "metadata": {},
     "output_type": "execute_result"
    }
   ],
   "source": [
    "predictions1=load_model1.predict_proba(test_data)\n",
    "predictions1"
   ]
  },
  {
   "cell_type": "code",
   "execution_count": 109,
   "metadata": {},
   "outputs": [],
   "source": [
    "#for highly malignant\n",
    "load_model2=pickle.load(open(filename2,'rb'))"
   ]
  },
  {
   "cell_type": "code",
   "execution_count": 110,
   "metadata": {},
   "outputs": [
    {
     "data": {
      "text/plain": [
       "array([[0.41687805, 0.58312195],\n",
       "       [0.8550075 , 0.1449925 ],\n",
       "       [0.84054752, 0.15945248],\n",
       "       ...,\n",
       "       [0.85426016, 0.14573984],\n",
       "       [0.85416544, 0.14583456],\n",
       "       [0.84898844, 0.15101156]])"
      ]
     },
     "execution_count": 110,
     "metadata": {},
     "output_type": "execute_result"
    }
   ],
   "source": [
    "predictions2=load_model2.predict_proba(test_data)\n",
    "predictions2"
   ]
  },
  {
   "cell_type": "code",
   "execution_count": 111,
   "metadata": {},
   "outputs": [],
   "source": [
    "#for abusive comments\n",
    "load_model3=pickle.load(open(filename3,'rb'))"
   ]
  },
  {
   "cell_type": "code",
   "execution_count": 112,
   "metadata": {},
   "outputs": [
    {
     "data": {
      "text/plain": [
       "array([[0.07132553, 0.92867447],\n",
       "       [0.93588115, 0.06411885],\n",
       "       [0.82216382, 0.17783618],\n",
       "       ...,\n",
       "       [0.8930715 , 0.1069285 ],\n",
       "       [0.86296418, 0.13703582],\n",
       "       [0.40826907, 0.59173093]])"
      ]
     },
     "execution_count": 112,
     "metadata": {},
     "output_type": "execute_result"
    }
   ],
   "source": [
    "predictions3=load_model3.predict_proba(test_data)\n",
    "predictions3"
   ]
  },
  {
   "cell_type": "code",
   "execution_count": 113,
   "metadata": {},
   "outputs": [],
   "source": [
    "#for threatning comments\n",
    "load_model4=pickle.load(open(filename4,'rb'))"
   ]
  },
  {
   "cell_type": "code",
   "execution_count": 114,
   "metadata": {},
   "outputs": [
    {
     "data": {
      "text/plain": [
       "array([[0.57496443, 0.42503557],\n",
       "       [0.79104076, 0.20895924],\n",
       "       [0.79850769, 0.20149231],\n",
       "       ...,\n",
       "       [0.81666927, 0.18333073],\n",
       "       [0.78589034, 0.21410966],\n",
       "       [0.73771569, 0.26228431]])"
      ]
     },
     "execution_count": 114,
     "metadata": {},
     "output_type": "execute_result"
    }
   ],
   "source": [
    "predictions4=load_model4.predict_proba(test_data)\n",
    "predictions4"
   ]
  },
  {
   "cell_type": "code",
   "execution_count": 115,
   "metadata": {},
   "outputs": [],
   "source": [
    "#for loathe type of comments\n",
    "load_model5=pickle.load(open(filename5,'rb'))"
   ]
  },
  {
   "cell_type": "code",
   "execution_count": 116,
   "metadata": {},
   "outputs": [
    {
     "data": {
      "text/plain": [
       "array([[0.34910799, 0.65089201],\n",
       "       [0.80409763, 0.19590237],\n",
       "       [0.79000701, 0.20999299],\n",
       "       ...,\n",
       "       [0.82066256, 0.17933744],\n",
       "       [0.65849186, 0.34150814],\n",
       "       [0.70003276, 0.29996724]])"
      ]
     },
     "execution_count": 116,
     "metadata": {},
     "output_type": "execute_result"
    }
   ],
   "source": [
    "predictions5=load_model5.predict_proba(test_data)\n",
    "predictions5"
   ]
  },
  {
   "cell_type": "markdown",
   "metadata": {},
   "source": [
    "CALCULATING PROBABILITY OF EACH OF THE COMMENTS FALLING UNDER DIFFERENT CATEGORIES."
   ]
  },
  {
   "cell_type": "code",
   "execution_count": 117,
   "metadata": {},
   "outputs": [],
   "source": [
    "#for i in range(len(df_test)):\n",
    " #   print(\"The comment\",df_test['comment_text'][i],\"is\")\n",
    "  #  print(predictions1[:,1][i],'% malignant')\n",
    "   # print(predictions2[:,1][i],'% highly_malignant')\n",
    "    #print(predictions3[:,1][i],'% abuse')\n",
    "    #print(predictions4[:,1][i],'% threat')\n",
    "    #print(predictions5[:,1][i],'% loathe')"
   ]
  },
  {
   "cell_type": "markdown",
   "metadata": {},
   "source": [
    "CREATING A DATAFRAME FOR THE TEST DATA AND ITS PREDICTIONS"
   ]
  },
  {
   "cell_type": "code",
   "execution_count": 124,
   "metadata": {},
   "outputs": [],
   "source": [
    "text=list(df_test['comment_text'])\n",
    "malignant=list(predictions1[:,1])\n",
    "h_malignant=list(predictions2[:,1])\n",
    "abuse=list(predictions3[:,1])\n",
    "threat=list(predictions4[:,1])\n",
    "loathe=list(predictions5[:,1])"
   ]
  },
  {
   "cell_type": "code",
   "execution_count": 125,
   "metadata": {},
   "outputs": [],
   "source": [
    "DICTIONARY={'comment_text':text,'malignant(in%)':malignant,'highly_malignant(in%)':h_malignant,'abuse(in%)':abuse,'threat(in%)':threat,'loathe(in%)':loathe}"
   ]
  },
  {
   "cell_type": "markdown",
   "metadata": {},
   "source": [
    "The test dataset with the comment text along with the respective probabilities of the comment falling under different categories."
   ]
  },
  {
   "cell_type": "code",
   "execution_count": 136,
   "metadata": {},
   "outputs": [
    {
     "data": {
      "text/html": [
       "<div>\n",
       "<style scoped>\n",
       "    .dataframe tbody tr th:only-of-type {\n",
       "        vertical-align: middle;\n",
       "    }\n",
       "\n",
       "    .dataframe tbody tr th {\n",
       "        vertical-align: top;\n",
       "    }\n",
       "\n",
       "    .dataframe thead th {\n",
       "        text-align: right;\n",
       "    }\n",
       "</style>\n",
       "<table border=\"1\" class=\"dataframe\">\n",
       "  <thead>\n",
       "    <tr style=\"text-align: right;\">\n",
       "      <th></th>\n",
       "      <th>comment_text</th>\n",
       "      <th>malignant(in%)</th>\n",
       "      <th>highly_malignant(in%)</th>\n",
       "      <th>abuse(in%)</th>\n",
       "      <th>threat(in%)</th>\n",
       "      <th>loathe(in%)</th>\n",
       "    </tr>\n",
       "  </thead>\n",
       "  <tbody>\n",
       "    <tr>\n",
       "      <th>0</th>\n",
       "      <td>yo bitch ja rule is more succesful then youll ...</td>\n",
       "      <td>0.992200</td>\n",
       "      <td>0.583122</td>\n",
       "      <td>0.928674</td>\n",
       "      <td>0.425036</td>\n",
       "      <td>0.650892</td>\n",
       "    </tr>\n",
       "    <tr>\n",
       "      <th>1</th>\n",
       "      <td>from rfc  the title is fine as it is imo</td>\n",
       "      <td>0.042531</td>\n",
       "      <td>0.144992</td>\n",
       "      <td>0.064119</td>\n",
       "      <td>0.208959</td>\n",
       "      <td>0.195902</td>\n",
       "    </tr>\n",
       "    <tr>\n",
       "      <th>2</th>\n",
       "      <td>sources   zawe ashton on lapland â€”</td>\n",
       "      <td>0.204504</td>\n",
       "      <td>0.159452</td>\n",
       "      <td>0.177836</td>\n",
       "      <td>0.201492</td>\n",
       "      <td>0.209993</td>\n",
       "    </tr>\n",
       "    <tr>\n",
       "      <th>3</th>\n",
       "      <td>if you have a look back at the source the info...</td>\n",
       "      <td>0.014337</td>\n",
       "      <td>0.096200</td>\n",
       "      <td>0.043059</td>\n",
       "      <td>0.137537</td>\n",
       "      <td>0.091069</td>\n",
       "    </tr>\n",
       "    <tr>\n",
       "      <th>4</th>\n",
       "      <td>i dont anonymously edit articles at all</td>\n",
       "      <td>0.185289</td>\n",
       "      <td>0.120018</td>\n",
       "      <td>0.121948</td>\n",
       "      <td>0.180957</td>\n",
       "      <td>0.153326</td>\n",
       "    </tr>\n",
       "    <tr>\n",
       "      <th>...</th>\n",
       "      <td>...</td>\n",
       "      <td>...</td>\n",
       "      <td>...</td>\n",
       "      <td>...</td>\n",
       "      <td>...</td>\n",
       "      <td>...</td>\n",
       "    </tr>\n",
       "    <tr>\n",
       "      <th>153181</th>\n",
       "      <td>i totally agree this stuff is nothing but too...</td>\n",
       "      <td>0.141984</td>\n",
       "      <td>0.138984</td>\n",
       "      <td>0.077854</td>\n",
       "      <td>0.189766</td>\n",
       "      <td>0.172215</td>\n",
       "    </tr>\n",
       "    <tr>\n",
       "      <th>153182</th>\n",
       "      <td>throw from out field to home plate  does it g...</td>\n",
       "      <td>0.293630</td>\n",
       "      <td>0.162098</td>\n",
       "      <td>0.249881</td>\n",
       "      <td>0.231052</td>\n",
       "      <td>0.252765</td>\n",
       "    </tr>\n",
       "    <tr>\n",
       "      <th>153183</th>\n",
       "      <td>okinotorishima categories  i see your change...</td>\n",
       "      <td>0.079373</td>\n",
       "      <td>0.145740</td>\n",
       "      <td>0.106928</td>\n",
       "      <td>0.183331</td>\n",
       "      <td>0.179337</td>\n",
       "    </tr>\n",
       "    <tr>\n",
       "      <th>153184</th>\n",
       "      <td>one of the founding nations of the eu  germa...</td>\n",
       "      <td>0.169045</td>\n",
       "      <td>0.145835</td>\n",
       "      <td>0.137036</td>\n",
       "      <td>0.214110</td>\n",
       "      <td>0.341508</td>\n",
       "    </tr>\n",
       "    <tr>\n",
       "      <th>153185</th>\n",
       "      <td>stop already your bullshit is not welcome her...</td>\n",
       "      <td>0.980114</td>\n",
       "      <td>0.151012</td>\n",
       "      <td>0.591731</td>\n",
       "      <td>0.262284</td>\n",
       "      <td>0.299967</td>\n",
       "    </tr>\n",
       "  </tbody>\n",
       "</table>\n",
       "<p>153186 rows × 6 columns</p>\n",
       "</div>"
      ],
      "text/plain": [
       "                                             comment_text  malignant(in%)  \\\n",
       "0       yo bitch ja rule is more succesful then youll ...        0.992200   \n",
       "1                from rfc  the title is fine as it is imo        0.042531   \n",
       "2                  sources   zawe ashton on lapland â€”          0.204504   \n",
       "3       if you have a look back at the source the info...        0.014337   \n",
       "4                 i dont anonymously edit articles at all        0.185289   \n",
       "...                                                   ...             ...   \n",
       "153181   i totally agree this stuff is nothing but too...        0.141984   \n",
       "153182   throw from out field to home plate  does it g...        0.293630   \n",
       "153183    okinotorishima categories  i see your change...        0.079373   \n",
       "153184    one of the founding nations of the eu  germa...        0.169045   \n",
       "153185   stop already your bullshit is not welcome her...        0.980114   \n",
       "\n",
       "        highly_malignant(in%)  abuse(in%)  threat(in%)  loathe(in%)  \n",
       "0                    0.583122    0.928674     0.425036     0.650892  \n",
       "1                    0.144992    0.064119     0.208959     0.195902  \n",
       "2                    0.159452    0.177836     0.201492     0.209993  \n",
       "3                    0.096200    0.043059     0.137537     0.091069  \n",
       "4                    0.120018    0.121948     0.180957     0.153326  \n",
       "...                       ...         ...          ...          ...  \n",
       "153181               0.138984    0.077854     0.189766     0.172215  \n",
       "153182               0.162098    0.249881     0.231052     0.252765  \n",
       "153183               0.145740    0.106928     0.183331     0.179337  \n",
       "153184               0.145835    0.137036     0.214110     0.341508  \n",
       "153185               0.151012    0.591731     0.262284     0.299967  \n",
       "\n",
       "[153186 rows x 6 columns]"
      ]
     },
     "execution_count": 136,
     "metadata": {},
     "output_type": "execute_result"
    }
   ],
   "source": [
    "test_result=pd.DataFrame(data=DICTIONARY)\n",
    "test_result"
   ]
  },
  {
   "cell_type": "markdown",
   "metadata": {},
   "source": [
    "STORING PREDICTIONS(in terms of probability) MADE ON TEST DATA IN A CSV FILE."
   ]
  },
  {
   "cell_type": "code",
   "execution_count": 140,
   "metadata": {},
   "outputs": [],
   "source": [
    "test_result.to_csv('comments_classifier(predicted)')"
   ]
  },
  {
   "cell_type": "markdown",
   "metadata": {},
   "source": [
    "END OF WORKSHEET"
   ]
  },
  {
   "cell_type": "code",
   "execution_count": null,
   "metadata": {},
   "outputs": [],
   "source": []
  }
 ],
 "metadata": {
  "kernelspec": {
   "display_name": "Python 3",
   "language": "python",
   "name": "python3"
  },
  "language_info": {
   "codemirror_mode": {
    "name": "ipython",
    "version": 3
   },
   "file_extension": ".py",
   "mimetype": "text/x-python",
   "name": "python",
   "nbconvert_exporter": "python",
   "pygments_lexer": "ipython3",
   "version": "3.8.5"
  }
 },
 "nbformat": 4,
 "nbformat_minor": 4
}
